{
  "nbformat": 4,
  "nbformat_minor": 0,
  "metadata": {
    "colab": {
      "name": "03-pytorch_text_classification.ipynb",
      "provenance": [],
      "collapsed_sections": [
        "BQ50S5IRqtp5",
        "ASvF4rzgexfR",
        "C_Uhu4fkp-_W",
        "a4zJbo-S51Pr",
        "7pPTcaAfpg51",
        "39cNLw7YwHuX",
        "y-zoBALtVyia",
        "XNKViBK11BEU",
        "9aY-5yTXAe-f"
      ],
      "toc_visible": true
    },
    "kernelspec": {
      "name": "python3",
      "display_name": "Python 3"
    },
    "accelerator": "GPU",
    "widgets": {
      "application/vnd.jupyter.widget-state+json": {
        "4409e996f7204a28af30fd400136a4de": {
          "model_module": "@jupyter-widgets/controls",
          "model_name": "HBoxModel",
          "state": {
            "_view_name": "HBoxView",
            "_dom_classes": [],
            "_model_name": "HBoxModel",
            "_view_module": "@jupyter-widgets/controls",
            "_model_module_version": "1.5.0",
            "_view_count": null,
            "_view_module_version": "1.5.0",
            "box_style": "",
            "layout": "IPY_MODEL_37edc161014b4fe1b911ac4f97992b69",
            "_model_module": "@jupyter-widgets/controls",
            "children": [
              "IPY_MODEL_9d05931aeba4425caf37e77b01b0f31d",
              "IPY_MODEL_f6fd6ba810b846148c4c6ab461b19017"
            ]
          }
        },
        "37edc161014b4fe1b911ac4f97992b69": {
          "model_module": "@jupyter-widgets/base",
          "model_name": "LayoutModel",
          "state": {
            "_view_name": "LayoutView",
            "grid_template_rows": null,
            "right": null,
            "justify_content": null,
            "_view_module": "@jupyter-widgets/base",
            "overflow": null,
            "_model_module_version": "1.2.0",
            "_view_count": null,
            "flex_flow": null,
            "width": null,
            "min_width": null,
            "border": null,
            "align_items": null,
            "bottom": null,
            "_model_module": "@jupyter-widgets/base",
            "top": null,
            "grid_column": null,
            "overflow_y": null,
            "overflow_x": null,
            "grid_auto_flow": null,
            "grid_area": null,
            "grid_template_columns": null,
            "flex": null,
            "_model_name": "LayoutModel",
            "justify_items": null,
            "grid_row": null,
            "max_height": null,
            "align_content": null,
            "visibility": null,
            "align_self": null,
            "height": null,
            "min_height": null,
            "padding": null,
            "grid_auto_rows": null,
            "grid_gap": null,
            "max_width": null,
            "order": null,
            "_view_module_version": "1.2.0",
            "grid_template_areas": null,
            "object_position": null,
            "object_fit": null,
            "grid_auto_columns": null,
            "margin": null,
            "display": null,
            "left": null
          }
        },
        "9d05931aeba4425caf37e77b01b0f31d": {
          "model_module": "@jupyter-widgets/controls",
          "model_name": "FloatProgressModel",
          "state": {
            "_view_name": "ProgressView",
            "style": "IPY_MODEL_f26da7fa93eb47949d30ee107cffb9b6",
            "_dom_classes": [],
            "description": "100%",
            "_model_name": "FloatProgressModel",
            "bar_style": "success",
            "max": 20104,
            "_view_module": "@jupyter-widgets/controls",
            "_model_module_version": "1.5.0",
            "value": 20104,
            "_view_count": null,
            "_view_module_version": "1.5.0",
            "orientation": "horizontal",
            "min": 0,
            "description_tooltip": null,
            "_model_module": "@jupyter-widgets/controls",
            "layout": "IPY_MODEL_6f04f88cd78d40fa95bb7337fad7f7c8"
          }
        },
        "f6fd6ba810b846148c4c6ab461b19017": {
          "model_module": "@jupyter-widgets/controls",
          "model_name": "HTMLModel",
          "state": {
            "_view_name": "HTMLView",
            "style": "IPY_MODEL_1aa8c8de6ace40b09b17a369627ee38f",
            "_dom_classes": [],
            "description": "",
            "_model_name": "HTMLModel",
            "placeholder": "​",
            "_view_module": "@jupyter-widgets/controls",
            "_model_module_version": "1.5.0",
            "value": " 20104/20104 [1:37:08&lt;00:00,  3.45it/s]",
            "_view_count": null,
            "_view_module_version": "1.5.0",
            "description_tooltip": null,
            "_model_module": "@jupyter-widgets/controls",
            "layout": "IPY_MODEL_14bd2ad4ff1a421090bcd323eedc48c5"
          }
        },
        "f26da7fa93eb47949d30ee107cffb9b6": {
          "model_module": "@jupyter-widgets/controls",
          "model_name": "ProgressStyleModel",
          "state": {
            "_view_name": "StyleView",
            "_model_name": "ProgressStyleModel",
            "description_width": "initial",
            "_view_module": "@jupyter-widgets/base",
            "_model_module_version": "1.5.0",
            "_view_count": null,
            "_view_module_version": "1.2.0",
            "bar_color": null,
            "_model_module": "@jupyter-widgets/controls"
          }
        },
        "6f04f88cd78d40fa95bb7337fad7f7c8": {
          "model_module": "@jupyter-widgets/base",
          "model_name": "LayoutModel",
          "state": {
            "_view_name": "LayoutView",
            "grid_template_rows": null,
            "right": null,
            "justify_content": null,
            "_view_module": "@jupyter-widgets/base",
            "overflow": null,
            "_model_module_version": "1.2.0",
            "_view_count": null,
            "flex_flow": null,
            "width": null,
            "min_width": null,
            "border": null,
            "align_items": null,
            "bottom": null,
            "_model_module": "@jupyter-widgets/base",
            "top": null,
            "grid_column": null,
            "overflow_y": null,
            "overflow_x": null,
            "grid_auto_flow": null,
            "grid_area": null,
            "grid_template_columns": null,
            "flex": null,
            "_model_name": "LayoutModel",
            "justify_items": null,
            "grid_row": null,
            "max_height": null,
            "align_content": null,
            "visibility": null,
            "align_self": null,
            "height": null,
            "min_height": null,
            "padding": null,
            "grid_auto_rows": null,
            "grid_gap": null,
            "max_width": null,
            "order": null,
            "_view_module_version": "1.2.0",
            "grid_template_areas": null,
            "object_position": null,
            "object_fit": null,
            "grid_auto_columns": null,
            "margin": null,
            "display": null,
            "left": null
          }
        },
        "1aa8c8de6ace40b09b17a369627ee38f": {
          "model_module": "@jupyter-widgets/controls",
          "model_name": "DescriptionStyleModel",
          "state": {
            "_view_name": "StyleView",
            "_model_name": "DescriptionStyleModel",
            "description_width": "",
            "_view_module": "@jupyter-widgets/base",
            "_model_module_version": "1.5.0",
            "_view_count": null,
            "_view_module_version": "1.2.0",
            "_model_module": "@jupyter-widgets/controls"
          }
        },
        "14bd2ad4ff1a421090bcd323eedc48c5": {
          "model_module": "@jupyter-widgets/base",
          "model_name": "LayoutModel",
          "state": {
            "_view_name": "LayoutView",
            "grid_template_rows": null,
            "right": null,
            "justify_content": null,
            "_view_module": "@jupyter-widgets/base",
            "overflow": null,
            "_model_module_version": "1.2.0",
            "_view_count": null,
            "flex_flow": null,
            "width": null,
            "min_width": null,
            "border": null,
            "align_items": null,
            "bottom": null,
            "_model_module": "@jupyter-widgets/base",
            "top": null,
            "grid_column": null,
            "overflow_y": null,
            "overflow_x": null,
            "grid_auto_flow": null,
            "grid_area": null,
            "grid_template_columns": null,
            "flex": null,
            "_model_name": "LayoutModel",
            "justify_items": null,
            "grid_row": null,
            "max_height": null,
            "align_content": null,
            "visibility": null,
            "align_self": null,
            "height": null,
            "min_height": null,
            "padding": null,
            "grid_auto_rows": null,
            "grid_gap": null,
            "max_width": null,
            "order": null,
            "_view_module_version": "1.2.0",
            "grid_template_areas": null,
            "object_position": null,
            "object_fit": null,
            "grid_auto_columns": null,
            "margin": null,
            "display": null,
            "left": null
          }
        },
        "2570f44959a64334a659677518bf98f4": {
          "model_module": "@jupyter-widgets/controls",
          "model_name": "HBoxModel",
          "state": {
            "_view_name": "HBoxView",
            "_dom_classes": [],
            "_model_name": "HBoxModel",
            "_view_module": "@jupyter-widgets/controls",
            "_model_module_version": "1.5.0",
            "_view_count": null,
            "_view_module_version": "1.5.0",
            "box_style": "",
            "layout": "IPY_MODEL_a189634d96764f5d840ee01d31506224",
            "_model_module": "@jupyter-widgets/controls",
            "children": [
              "IPY_MODEL_e721b0330dc84993889671057580d3c7",
              "IPY_MODEL_326bbc77f5fc4330ab14508fd72ceda0"
            ]
          }
        },
        "a189634d96764f5d840ee01d31506224": {
          "model_module": "@jupyter-widgets/base",
          "model_name": "LayoutModel",
          "state": {
            "_view_name": "LayoutView",
            "grid_template_rows": null,
            "right": null,
            "justify_content": null,
            "_view_module": "@jupyter-widgets/base",
            "overflow": null,
            "_model_module_version": "1.2.0",
            "_view_count": null,
            "flex_flow": null,
            "width": null,
            "min_width": null,
            "border": null,
            "align_items": null,
            "bottom": null,
            "_model_module": "@jupyter-widgets/base",
            "top": null,
            "grid_column": null,
            "overflow_y": null,
            "overflow_x": null,
            "grid_auto_flow": null,
            "grid_area": null,
            "grid_template_columns": null,
            "flex": null,
            "_model_name": "LayoutModel",
            "justify_items": null,
            "grid_row": null,
            "max_height": null,
            "align_content": null,
            "visibility": null,
            "align_self": null,
            "height": null,
            "min_height": null,
            "padding": null,
            "grid_auto_rows": null,
            "grid_gap": null,
            "max_width": null,
            "order": null,
            "_view_module_version": "1.2.0",
            "grid_template_areas": null,
            "object_position": null,
            "object_fit": null,
            "grid_auto_columns": null,
            "margin": null,
            "display": null,
            "left": null
          }
        },
        "e721b0330dc84993889671057580d3c7": {
          "model_module": "@jupyter-widgets/controls",
          "model_name": "FloatProgressModel",
          "state": {
            "_view_name": "ProgressView",
            "style": "IPY_MODEL_b8d6b789bca34428bc389205ae4940fa",
            "_dom_classes": [],
            "description": "100%",
            "_model_name": "FloatProgressModel",
            "bar_style": "success",
            "max": 1166,
            "_view_module": "@jupyter-widgets/controls",
            "_model_module_version": "1.5.0",
            "value": 1166,
            "_view_count": null,
            "_view_module_version": "1.5.0",
            "orientation": "horizontal",
            "min": 0,
            "description_tooltip": null,
            "_model_module": "@jupyter-widgets/controls",
            "layout": "IPY_MODEL_93d7850a3ad14a55ad4bd6134183c97d"
          }
        },
        "326bbc77f5fc4330ab14508fd72ceda0": {
          "model_module": "@jupyter-widgets/controls",
          "model_name": "HTMLModel",
          "state": {
            "_view_name": "HTMLView",
            "style": "IPY_MODEL_f8625573862940ccaa6827170b15d1de",
            "_dom_classes": [],
            "description": "",
            "_model_name": "HTMLModel",
            "placeholder": "​",
            "_view_module": "@jupyter-widgets/controls",
            "_model_module_version": "1.5.0",
            "value": " 1166/1166 [00:00&lt;00:00, 6671.99it/s]",
            "_view_count": null,
            "_view_module_version": "1.5.0",
            "description_tooltip": null,
            "_model_module": "@jupyter-widgets/controls",
            "layout": "IPY_MODEL_068566c06993445699c1a31e9f165cf7"
          }
        },
        "b8d6b789bca34428bc389205ae4940fa": {
          "model_module": "@jupyter-widgets/controls",
          "model_name": "ProgressStyleModel",
          "state": {
            "_view_name": "StyleView",
            "_model_name": "ProgressStyleModel",
            "description_width": "initial",
            "_view_module": "@jupyter-widgets/base",
            "_model_module_version": "1.5.0",
            "_view_count": null,
            "_view_module_version": "1.2.0",
            "bar_color": null,
            "_model_module": "@jupyter-widgets/controls"
          }
        },
        "93d7850a3ad14a55ad4bd6134183c97d": {
          "model_module": "@jupyter-widgets/base",
          "model_name": "LayoutModel",
          "state": {
            "_view_name": "LayoutView",
            "grid_template_rows": null,
            "right": null,
            "justify_content": null,
            "_view_module": "@jupyter-widgets/base",
            "overflow": null,
            "_model_module_version": "1.2.0",
            "_view_count": null,
            "flex_flow": null,
            "width": null,
            "min_width": null,
            "border": null,
            "align_items": null,
            "bottom": null,
            "_model_module": "@jupyter-widgets/base",
            "top": null,
            "grid_column": null,
            "overflow_y": null,
            "overflow_x": null,
            "grid_auto_flow": null,
            "grid_area": null,
            "grid_template_columns": null,
            "flex": null,
            "_model_name": "LayoutModel",
            "justify_items": null,
            "grid_row": null,
            "max_height": null,
            "align_content": null,
            "visibility": null,
            "align_self": null,
            "height": null,
            "min_height": null,
            "padding": null,
            "grid_auto_rows": null,
            "grid_gap": null,
            "max_width": null,
            "order": null,
            "_view_module_version": "1.2.0",
            "grid_template_areas": null,
            "object_position": null,
            "object_fit": null,
            "grid_auto_columns": null,
            "margin": null,
            "display": null,
            "left": null
          }
        },
        "f8625573862940ccaa6827170b15d1de": {
          "model_module": "@jupyter-widgets/controls",
          "model_name": "DescriptionStyleModel",
          "state": {
            "_view_name": "StyleView",
            "_model_name": "DescriptionStyleModel",
            "description_width": "",
            "_view_module": "@jupyter-widgets/base",
            "_model_module_version": "1.5.0",
            "_view_count": null,
            "_view_module_version": "1.2.0",
            "_model_module": "@jupyter-widgets/controls"
          }
        },
        "068566c06993445699c1a31e9f165cf7": {
          "model_module": "@jupyter-widgets/base",
          "model_name": "LayoutModel",
          "state": {
            "_view_name": "LayoutView",
            "grid_template_rows": null,
            "right": null,
            "justify_content": null,
            "_view_module": "@jupyter-widgets/base",
            "overflow": null,
            "_model_module_version": "1.2.0",
            "_view_count": null,
            "flex_flow": null,
            "width": null,
            "min_width": null,
            "border": null,
            "align_items": null,
            "bottom": null,
            "_model_module": "@jupyter-widgets/base",
            "top": null,
            "grid_column": null,
            "overflow_y": null,
            "overflow_x": null,
            "grid_auto_flow": null,
            "grid_area": null,
            "grid_template_columns": null,
            "flex": null,
            "_model_name": "LayoutModel",
            "justify_items": null,
            "grid_row": null,
            "max_height": null,
            "align_content": null,
            "visibility": null,
            "align_self": null,
            "height": null,
            "min_height": null,
            "padding": null,
            "grid_auto_rows": null,
            "grid_gap": null,
            "max_width": null,
            "order": null,
            "_view_module_version": "1.2.0",
            "grid_template_areas": null,
            "object_position": null,
            "object_fit": null,
            "grid_auto_columns": null,
            "margin": null,
            "display": null,
            "left": null
          }
        },
        "6d93f9ba93be4f76ac6f7aede49a684e": {
          "model_module": "@jupyter-widgets/controls",
          "model_name": "HBoxModel",
          "state": {
            "_view_name": "HBoxView",
            "_dom_classes": [],
            "_model_name": "HBoxModel",
            "_view_module": "@jupyter-widgets/controls",
            "_model_module_version": "1.5.0",
            "_view_count": null,
            "_view_module_version": "1.5.0",
            "box_style": "",
            "layout": "IPY_MODEL_e3a7a116cf8b447e93a0dfa02bd7b8c4",
            "_model_module": "@jupyter-widgets/controls",
            "children": [
              "IPY_MODEL_5d79c22d2f114076b13807fac187d5ee",
              "IPY_MODEL_3399171d432e4eeba2640b994c10225b"
            ]
          }
        },
        "e3a7a116cf8b447e93a0dfa02bd7b8c4": {
          "model_module": "@jupyter-widgets/base",
          "model_name": "LayoutModel",
          "state": {
            "_view_name": "LayoutView",
            "grid_template_rows": null,
            "right": null,
            "justify_content": null,
            "_view_module": "@jupyter-widgets/base",
            "overflow": null,
            "_model_module_version": "1.2.0",
            "_view_count": null,
            "flex_flow": null,
            "width": null,
            "min_width": null,
            "border": null,
            "align_items": null,
            "bottom": null,
            "_model_module": "@jupyter-widgets/base",
            "top": null,
            "grid_column": null,
            "overflow_y": null,
            "overflow_x": null,
            "grid_auto_flow": null,
            "grid_area": null,
            "grid_template_columns": null,
            "flex": null,
            "_model_name": "LayoutModel",
            "justify_items": null,
            "grid_row": null,
            "max_height": null,
            "align_content": null,
            "visibility": null,
            "align_self": null,
            "height": null,
            "min_height": null,
            "padding": null,
            "grid_auto_rows": null,
            "grid_gap": null,
            "max_width": null,
            "order": null,
            "_view_module_version": "1.2.0",
            "grid_template_areas": null,
            "object_position": null,
            "object_fit": null,
            "grid_auto_columns": null,
            "margin": null,
            "display": null,
            "left": null
          }
        },
        "5d79c22d2f114076b13807fac187d5ee": {
          "model_module": "@jupyter-widgets/controls",
          "model_name": "FloatProgressModel",
          "state": {
            "_view_name": "ProgressView",
            "style": "IPY_MODEL_88164e1fe8be4ec88df36eda65f2fff6",
            "_dom_classes": [],
            "description": "100%",
            "_model_name": "FloatProgressModel",
            "bar_style": "success",
            "max": 1049,
            "_view_module": "@jupyter-widgets/controls",
            "_model_module_version": "1.5.0",
            "value": 1049,
            "_view_count": null,
            "_view_module_version": "1.5.0",
            "orientation": "horizontal",
            "min": 0,
            "description_tooltip": null,
            "_model_module": "@jupyter-widgets/controls",
            "layout": "IPY_MODEL_01c10ea8d19d4c4aa004d1285ca8bc09"
          }
        },
        "3399171d432e4eeba2640b994c10225b": {
          "model_module": "@jupyter-widgets/controls",
          "model_name": "HTMLModel",
          "state": {
            "_view_name": "HTMLView",
            "style": "IPY_MODEL_c14ef773d7a84c80b5c235bd76425962",
            "_dom_classes": [],
            "description": "",
            "_model_name": "HTMLModel",
            "placeholder": "​",
            "_view_module": "@jupyter-widgets/controls",
            "_model_module_version": "1.5.0",
            "value": " 1049/1049 [00:00&lt;00:00, 4967.65it/s]",
            "_view_count": null,
            "_view_module_version": "1.5.0",
            "description_tooltip": null,
            "_model_module": "@jupyter-widgets/controls",
            "layout": "IPY_MODEL_0c7b8704a14c48678b792868dfc0b194"
          }
        },
        "88164e1fe8be4ec88df36eda65f2fff6": {
          "model_module": "@jupyter-widgets/controls",
          "model_name": "ProgressStyleModel",
          "state": {
            "_view_name": "StyleView",
            "_model_name": "ProgressStyleModel",
            "description_width": "initial",
            "_view_module": "@jupyter-widgets/base",
            "_model_module_version": "1.5.0",
            "_view_count": null,
            "_view_module_version": "1.2.0",
            "bar_color": null,
            "_model_module": "@jupyter-widgets/controls"
          }
        },
        "01c10ea8d19d4c4aa004d1285ca8bc09": {
          "model_module": "@jupyter-widgets/base",
          "model_name": "LayoutModel",
          "state": {
            "_view_name": "LayoutView",
            "grid_template_rows": null,
            "right": null,
            "justify_content": null,
            "_view_module": "@jupyter-widgets/base",
            "overflow": null,
            "_model_module_version": "1.2.0",
            "_view_count": null,
            "flex_flow": null,
            "width": null,
            "min_width": null,
            "border": null,
            "align_items": null,
            "bottom": null,
            "_model_module": "@jupyter-widgets/base",
            "top": null,
            "grid_column": null,
            "overflow_y": null,
            "overflow_x": null,
            "grid_auto_flow": null,
            "grid_area": null,
            "grid_template_columns": null,
            "flex": null,
            "_model_name": "LayoutModel",
            "justify_items": null,
            "grid_row": null,
            "max_height": null,
            "align_content": null,
            "visibility": null,
            "align_self": null,
            "height": null,
            "min_height": null,
            "padding": null,
            "grid_auto_rows": null,
            "grid_gap": null,
            "max_width": null,
            "order": null,
            "_view_module_version": "1.2.0",
            "grid_template_areas": null,
            "object_position": null,
            "object_fit": null,
            "grid_auto_columns": null,
            "margin": null,
            "display": null,
            "left": null
          }
        },
        "c14ef773d7a84c80b5c235bd76425962": {
          "model_module": "@jupyter-widgets/controls",
          "model_name": "DescriptionStyleModel",
          "state": {
            "_view_name": "StyleView",
            "_model_name": "DescriptionStyleModel",
            "description_width": "",
            "_view_module": "@jupyter-widgets/base",
            "_model_module_version": "1.5.0",
            "_view_count": null,
            "_view_module_version": "1.2.0",
            "_model_module": "@jupyter-widgets/controls"
          }
        },
        "0c7b8704a14c48678b792868dfc0b194": {
          "model_module": "@jupyter-widgets/base",
          "model_name": "LayoutModel",
          "state": {
            "_view_name": "LayoutView",
            "grid_template_rows": null,
            "right": null,
            "justify_content": null,
            "_view_module": "@jupyter-widgets/base",
            "overflow": null,
            "_model_module_version": "1.2.0",
            "_view_count": null,
            "flex_flow": null,
            "width": null,
            "min_width": null,
            "border": null,
            "align_items": null,
            "bottom": null,
            "_model_module": "@jupyter-widgets/base",
            "top": null,
            "grid_column": null,
            "overflow_y": null,
            "overflow_x": null,
            "grid_auto_flow": null,
            "grid_area": null,
            "grid_template_columns": null,
            "flex": null,
            "_model_name": "LayoutModel",
            "justify_items": null,
            "grid_row": null,
            "max_height": null,
            "align_content": null,
            "visibility": null,
            "align_self": null,
            "height": null,
            "min_height": null,
            "padding": null,
            "grid_auto_rows": null,
            "grid_gap": null,
            "max_width": null,
            "order": null,
            "_view_module_version": "1.2.0",
            "grid_template_areas": null,
            "object_position": null,
            "object_fit": null,
            "grid_auto_columns": null,
            "margin": null,
            "display": null,
            "left": null
          }
        },
        "588ab4f16f5743329a19142cf832d8ed": {
          "model_module": "@jupyter-widgets/controls",
          "model_name": "HBoxModel",
          "state": {
            "_view_name": "HBoxView",
            "_dom_classes": [],
            "_model_name": "HBoxModel",
            "_view_module": "@jupyter-widgets/controls",
            "_model_module_version": "1.5.0",
            "_view_count": null,
            "_view_module_version": "1.5.0",
            "box_style": "",
            "layout": "IPY_MODEL_5e6dfe7be8134270917b26c96f464f6b",
            "_model_module": "@jupyter-widgets/controls",
            "children": [
              "IPY_MODEL_7b536d16c9524322b3a4eac4202d6301",
              "IPY_MODEL_d8415cb8d1484e6387a1827b1f5fbe0b"
            ]
          }
        },
        "5e6dfe7be8134270917b26c96f464f6b": {
          "model_module": "@jupyter-widgets/base",
          "model_name": "LayoutModel",
          "state": {
            "_view_name": "LayoutView",
            "grid_template_rows": null,
            "right": null,
            "justify_content": null,
            "_view_module": "@jupyter-widgets/base",
            "overflow": null,
            "_model_module_version": "1.2.0",
            "_view_count": null,
            "flex_flow": null,
            "width": null,
            "min_width": null,
            "border": null,
            "align_items": null,
            "bottom": null,
            "_model_module": "@jupyter-widgets/base",
            "top": null,
            "grid_column": null,
            "overflow_y": null,
            "overflow_x": null,
            "grid_auto_flow": null,
            "grid_area": null,
            "grid_template_columns": null,
            "flex": null,
            "_model_name": "LayoutModel",
            "justify_items": null,
            "grid_row": null,
            "max_height": null,
            "align_content": null,
            "visibility": null,
            "align_self": null,
            "height": null,
            "min_height": null,
            "padding": null,
            "grid_auto_rows": null,
            "grid_gap": null,
            "max_width": null,
            "order": null,
            "_view_module_version": "1.2.0",
            "grid_template_areas": null,
            "object_position": null,
            "object_fit": null,
            "grid_auto_columns": null,
            "margin": null,
            "display": null,
            "left": null
          }
        },
        "7b536d16c9524322b3a4eac4202d6301": {
          "model_module": "@jupyter-widgets/controls",
          "model_name": "FloatProgressModel",
          "state": {
            "_view_name": "ProgressView",
            "style": "IPY_MODEL_7d8606417c1a474a99e992729c731c02",
            "_dom_classes": [],
            "description": "100%",
            "_model_name": "FloatProgressModel",
            "bar_style": "success",
            "max": 9448,
            "_view_module": "@jupyter-widgets/controls",
            "_model_module_version": "1.5.0",
            "value": 9448,
            "_view_count": null,
            "_view_module_version": "1.5.0",
            "orientation": "horizontal",
            "min": 0,
            "description_tooltip": null,
            "_model_module": "@jupyter-widgets/controls",
            "layout": "IPY_MODEL_5b61629b229e47a3aac377cea8279101"
          }
        },
        "d8415cb8d1484e6387a1827b1f5fbe0b": {
          "model_module": "@jupyter-widgets/controls",
          "model_name": "HTMLModel",
          "state": {
            "_view_name": "HTMLView",
            "style": "IPY_MODEL_b2eeefb8d0b942a09082372cd977f4f2",
            "_dom_classes": [],
            "description": "",
            "_model_name": "HTMLModel",
            "placeholder": "​",
            "_view_module": "@jupyter-widgets/controls",
            "_model_module_version": "1.5.0",
            "value": " 9448/9448 [00:00&lt;00:00, 17363.30it/s]",
            "_view_count": null,
            "_view_module_version": "1.5.0",
            "description_tooltip": null,
            "_model_module": "@jupyter-widgets/controls",
            "layout": "IPY_MODEL_0274a6ee39b24a3c8836f18405038bf3"
          }
        },
        "7d8606417c1a474a99e992729c731c02": {
          "model_module": "@jupyter-widgets/controls",
          "model_name": "ProgressStyleModel",
          "state": {
            "_view_name": "StyleView",
            "_model_name": "ProgressStyleModel",
            "description_width": "initial",
            "_view_module": "@jupyter-widgets/base",
            "_model_module_version": "1.5.0",
            "_view_count": null,
            "_view_module_version": "1.2.0",
            "bar_color": null,
            "_model_module": "@jupyter-widgets/controls"
          }
        },
        "5b61629b229e47a3aac377cea8279101": {
          "model_module": "@jupyter-widgets/base",
          "model_name": "LayoutModel",
          "state": {
            "_view_name": "LayoutView",
            "grid_template_rows": null,
            "right": null,
            "justify_content": null,
            "_view_module": "@jupyter-widgets/base",
            "overflow": null,
            "_model_module_version": "1.2.0",
            "_view_count": null,
            "flex_flow": null,
            "width": null,
            "min_width": null,
            "border": null,
            "align_items": null,
            "bottom": null,
            "_model_module": "@jupyter-widgets/base",
            "top": null,
            "grid_column": null,
            "overflow_y": null,
            "overflow_x": null,
            "grid_auto_flow": null,
            "grid_area": null,
            "grid_template_columns": null,
            "flex": null,
            "_model_name": "LayoutModel",
            "justify_items": null,
            "grid_row": null,
            "max_height": null,
            "align_content": null,
            "visibility": null,
            "align_self": null,
            "height": null,
            "min_height": null,
            "padding": null,
            "grid_auto_rows": null,
            "grid_gap": null,
            "max_width": null,
            "order": null,
            "_view_module_version": "1.2.0",
            "grid_template_areas": null,
            "object_position": null,
            "object_fit": null,
            "grid_auto_columns": null,
            "margin": null,
            "display": null,
            "left": null
          }
        },
        "b2eeefb8d0b942a09082372cd977f4f2": {
          "model_module": "@jupyter-widgets/controls",
          "model_name": "DescriptionStyleModel",
          "state": {
            "_view_name": "StyleView",
            "_model_name": "DescriptionStyleModel",
            "description_width": "",
            "_view_module": "@jupyter-widgets/base",
            "_model_module_version": "1.5.0",
            "_view_count": null,
            "_view_module_version": "1.2.0",
            "_model_module": "@jupyter-widgets/controls"
          }
        },
        "0274a6ee39b24a3c8836f18405038bf3": {
          "model_module": "@jupyter-widgets/base",
          "model_name": "LayoutModel",
          "state": {
            "_view_name": "LayoutView",
            "grid_template_rows": null,
            "right": null,
            "justify_content": null,
            "_view_module": "@jupyter-widgets/base",
            "overflow": null,
            "_model_module_version": "1.2.0",
            "_view_count": null,
            "flex_flow": null,
            "width": null,
            "min_width": null,
            "border": null,
            "align_items": null,
            "bottom": null,
            "_model_module": "@jupyter-widgets/base",
            "top": null,
            "grid_column": null,
            "overflow_y": null,
            "overflow_x": null,
            "grid_auto_flow": null,
            "grid_area": null,
            "grid_template_columns": null,
            "flex": null,
            "_model_name": "LayoutModel",
            "justify_items": null,
            "grid_row": null,
            "max_height": null,
            "align_content": null,
            "visibility": null,
            "align_self": null,
            "height": null,
            "min_height": null,
            "padding": null,
            "grid_auto_rows": null,
            "grid_gap": null,
            "max_width": null,
            "order": null,
            "_view_module_version": "1.2.0",
            "grid_template_areas": null,
            "object_position": null,
            "object_fit": null,
            "grid_auto_columns": null,
            "margin": null,
            "display": null,
            "left": null
          }
        },
        "f6033e2082614bea9c5592d2f4703017": {
          "model_module": "@jupyter-widgets/controls",
          "model_name": "HBoxModel",
          "state": {
            "_view_name": "HBoxView",
            "_dom_classes": [],
            "_model_name": "HBoxModel",
            "_view_module": "@jupyter-widgets/controls",
            "_model_module_version": "1.5.0",
            "_view_count": null,
            "_view_module_version": "1.5.0",
            "box_style": "",
            "layout": "IPY_MODEL_3effde000d124a8f82a58b86c72135f2",
            "_model_module": "@jupyter-widgets/controls",
            "children": [
              "IPY_MODEL_523238bac93247d69be02f3b97dbdab4",
              "IPY_MODEL_4705e77d3cf54077b5ada1b712e872d3"
            ]
          }
        },
        "3effde000d124a8f82a58b86c72135f2": {
          "model_module": "@jupyter-widgets/base",
          "model_name": "LayoutModel",
          "state": {
            "_view_name": "LayoutView",
            "grid_template_rows": null,
            "right": null,
            "justify_content": null,
            "_view_module": "@jupyter-widgets/base",
            "overflow": null,
            "_model_module_version": "1.2.0",
            "_view_count": null,
            "flex_flow": null,
            "width": null,
            "min_width": null,
            "border": null,
            "align_items": null,
            "bottom": null,
            "_model_module": "@jupyter-widgets/base",
            "top": null,
            "grid_column": null,
            "overflow_y": null,
            "overflow_x": null,
            "grid_auto_flow": null,
            "grid_area": null,
            "grid_template_columns": null,
            "flex": null,
            "_model_name": "LayoutModel",
            "justify_items": null,
            "grid_row": null,
            "max_height": null,
            "align_content": null,
            "visibility": null,
            "align_self": null,
            "height": null,
            "min_height": null,
            "padding": null,
            "grid_auto_rows": null,
            "grid_gap": null,
            "max_width": null,
            "order": null,
            "_view_module_version": "1.2.0",
            "grid_template_areas": null,
            "object_position": null,
            "object_fit": null,
            "grid_auto_columns": null,
            "margin": null,
            "display": null,
            "left": null
          }
        },
        "523238bac93247d69be02f3b97dbdab4": {
          "model_module": "@jupyter-widgets/controls",
          "model_name": "FloatProgressModel",
          "state": {
            "_view_name": "ProgressView",
            "style": "IPY_MODEL_6b69297a7c264dfca01b89d5898648ec",
            "_dom_classes": [],
            "description": "100%",
            "_model_name": "FloatProgressModel",
            "bar_style": "success",
            "max": 20104,
            "_view_module": "@jupyter-widgets/controls",
            "_model_module_version": "1.5.0",
            "value": 20104,
            "_view_count": null,
            "_view_module_version": "1.5.0",
            "orientation": "horizontal",
            "min": 0,
            "description_tooltip": null,
            "_model_module": "@jupyter-widgets/controls",
            "layout": "IPY_MODEL_964364c5492a4af1a114fa1db8b9aa12"
          }
        },
        "4705e77d3cf54077b5ada1b712e872d3": {
          "model_module": "@jupyter-widgets/controls",
          "model_name": "HTMLModel",
          "state": {
            "_view_name": "HTMLView",
            "style": "IPY_MODEL_aaa66307aa164b38bf9b2fdac6475b40",
            "_dom_classes": [],
            "description": "",
            "_model_name": "HTMLModel",
            "placeholder": "​",
            "_view_module": "@jupyter-widgets/controls",
            "_model_module_version": "1.5.0",
            "value": " 20104/20104 [17:51&lt;00:00, 18.76it/s]",
            "_view_count": null,
            "_view_module_version": "1.5.0",
            "description_tooltip": null,
            "_model_module": "@jupyter-widgets/controls",
            "layout": "IPY_MODEL_2f1f7db6b0ac418cbc77780e35b27e62"
          }
        },
        "6b69297a7c264dfca01b89d5898648ec": {
          "model_module": "@jupyter-widgets/controls",
          "model_name": "ProgressStyleModel",
          "state": {
            "_view_name": "StyleView",
            "_model_name": "ProgressStyleModel",
            "description_width": "initial",
            "_view_module": "@jupyter-widgets/base",
            "_model_module_version": "1.5.0",
            "_view_count": null,
            "_view_module_version": "1.2.0",
            "bar_color": null,
            "_model_module": "@jupyter-widgets/controls"
          }
        },
        "964364c5492a4af1a114fa1db8b9aa12": {
          "model_module": "@jupyter-widgets/base",
          "model_name": "LayoutModel",
          "state": {
            "_view_name": "LayoutView",
            "grid_template_rows": null,
            "right": null,
            "justify_content": null,
            "_view_module": "@jupyter-widgets/base",
            "overflow": null,
            "_model_module_version": "1.2.0",
            "_view_count": null,
            "flex_flow": null,
            "width": null,
            "min_width": null,
            "border": null,
            "align_items": null,
            "bottom": null,
            "_model_module": "@jupyter-widgets/base",
            "top": null,
            "grid_column": null,
            "overflow_y": null,
            "overflow_x": null,
            "grid_auto_flow": null,
            "grid_area": null,
            "grid_template_columns": null,
            "flex": null,
            "_model_name": "LayoutModel",
            "justify_items": null,
            "grid_row": null,
            "max_height": null,
            "align_content": null,
            "visibility": null,
            "align_self": null,
            "height": null,
            "min_height": null,
            "padding": null,
            "grid_auto_rows": null,
            "grid_gap": null,
            "max_width": null,
            "order": null,
            "_view_module_version": "1.2.0",
            "grid_template_areas": null,
            "object_position": null,
            "object_fit": null,
            "grid_auto_columns": null,
            "margin": null,
            "display": null,
            "left": null
          }
        },
        "aaa66307aa164b38bf9b2fdac6475b40": {
          "model_module": "@jupyter-widgets/controls",
          "model_name": "DescriptionStyleModel",
          "state": {
            "_view_name": "StyleView",
            "_model_name": "DescriptionStyleModel",
            "description_width": "",
            "_view_module": "@jupyter-widgets/base",
            "_model_module_version": "1.5.0",
            "_view_count": null,
            "_view_module_version": "1.2.0",
            "_model_module": "@jupyter-widgets/controls"
          }
        },
        "2f1f7db6b0ac418cbc77780e35b27e62": {
          "model_module": "@jupyter-widgets/base",
          "model_name": "LayoutModel",
          "state": {
            "_view_name": "LayoutView",
            "grid_template_rows": null,
            "right": null,
            "justify_content": null,
            "_view_module": "@jupyter-widgets/base",
            "overflow": null,
            "_model_module_version": "1.2.0",
            "_view_count": null,
            "flex_flow": null,
            "width": null,
            "min_width": null,
            "border": null,
            "align_items": null,
            "bottom": null,
            "_model_module": "@jupyter-widgets/base",
            "top": null,
            "grid_column": null,
            "overflow_y": null,
            "overflow_x": null,
            "grid_auto_flow": null,
            "grid_area": null,
            "grid_template_columns": null,
            "flex": null,
            "_model_name": "LayoutModel",
            "justify_items": null,
            "grid_row": null,
            "max_height": null,
            "align_content": null,
            "visibility": null,
            "align_self": null,
            "height": null,
            "min_height": null,
            "padding": null,
            "grid_auto_rows": null,
            "grid_gap": null,
            "max_width": null,
            "order": null,
            "_view_module_version": "1.2.0",
            "grid_template_areas": null,
            "object_position": null,
            "object_fit": null,
            "grid_auto_columns": null,
            "margin": null,
            "display": null,
            "left": null
          }
        },
        "f4458d78aec941c6a53f454fdd01949e": {
          "model_module": "@jupyter-widgets/controls",
          "model_name": "HBoxModel",
          "state": {
            "_view_name": "HBoxView",
            "_dom_classes": [],
            "_model_name": "HBoxModel",
            "_view_module": "@jupyter-widgets/controls",
            "_model_module_version": "1.5.0",
            "_view_count": null,
            "_view_module_version": "1.5.0",
            "box_style": "",
            "layout": "IPY_MODEL_289bcd2eef234c699a0b73b8a93aba9b",
            "_model_module": "@jupyter-widgets/controls",
            "children": [
              "IPY_MODEL_519f0b4d24374578a6973e9712d80f80",
              "IPY_MODEL_b3bbc9d7ce274a669043c3ed68e0043c"
            ]
          }
        },
        "289bcd2eef234c699a0b73b8a93aba9b": {
          "model_module": "@jupyter-widgets/base",
          "model_name": "LayoutModel",
          "state": {
            "_view_name": "LayoutView",
            "grid_template_rows": null,
            "right": null,
            "justify_content": null,
            "_view_module": "@jupyter-widgets/base",
            "overflow": null,
            "_model_module_version": "1.2.0",
            "_view_count": null,
            "flex_flow": null,
            "width": null,
            "min_width": null,
            "border": null,
            "align_items": null,
            "bottom": null,
            "_model_module": "@jupyter-widgets/base",
            "top": null,
            "grid_column": null,
            "overflow_y": null,
            "overflow_x": null,
            "grid_auto_flow": null,
            "grid_area": null,
            "grid_template_columns": null,
            "flex": null,
            "_model_name": "LayoutModel",
            "justify_items": null,
            "grid_row": null,
            "max_height": null,
            "align_content": null,
            "visibility": null,
            "align_self": null,
            "height": null,
            "min_height": null,
            "padding": null,
            "grid_auto_rows": null,
            "grid_gap": null,
            "max_width": null,
            "order": null,
            "_view_module_version": "1.2.0",
            "grid_template_areas": null,
            "object_position": null,
            "object_fit": null,
            "grid_auto_columns": null,
            "margin": null,
            "display": null,
            "left": null
          }
        },
        "519f0b4d24374578a6973e9712d80f80": {
          "model_module": "@jupyter-widgets/controls",
          "model_name": "FloatProgressModel",
          "state": {
            "_view_name": "ProgressView",
            "style": "IPY_MODEL_5f7873147e75477bbe12a4b5dd3a41bf",
            "_dom_classes": [],
            "description": "100%",
            "_model_name": "FloatProgressModel",
            "bar_style": "success",
            "max": 6702,
            "_view_module": "@jupyter-widgets/controls",
            "_model_module_version": "1.5.0",
            "value": 6702,
            "_view_count": null,
            "_view_module_version": "1.5.0",
            "orientation": "horizontal",
            "min": 0,
            "description_tooltip": null,
            "_model_module": "@jupyter-widgets/controls",
            "layout": "IPY_MODEL_fffc9a51e28e42218cac5a676366e9cd"
          }
        },
        "b3bbc9d7ce274a669043c3ed68e0043c": {
          "model_module": "@jupyter-widgets/controls",
          "model_name": "HTMLModel",
          "state": {
            "_view_name": "HTMLView",
            "style": "IPY_MODEL_606494beb87b4c0e82146fb72d9ebcfe",
            "_dom_classes": [],
            "description": "",
            "_model_name": "HTMLModel",
            "placeholder": "​",
            "_view_module": "@jupyter-widgets/controls",
            "_model_module_version": "1.5.0",
            "value": " 6702/6702 [00:02&lt;00:00, 2695.00it/s]",
            "_view_count": null,
            "_view_module_version": "1.5.0",
            "description_tooltip": null,
            "_model_module": "@jupyter-widgets/controls",
            "layout": "IPY_MODEL_9c445abea9a04dbfbd66288bb9faa645"
          }
        },
        "5f7873147e75477bbe12a4b5dd3a41bf": {
          "model_module": "@jupyter-widgets/controls",
          "model_name": "ProgressStyleModel",
          "state": {
            "_view_name": "StyleView",
            "_model_name": "ProgressStyleModel",
            "description_width": "initial",
            "_view_module": "@jupyter-widgets/base",
            "_model_module_version": "1.5.0",
            "_view_count": null,
            "_view_module_version": "1.2.0",
            "bar_color": null,
            "_model_module": "@jupyter-widgets/controls"
          }
        },
        "fffc9a51e28e42218cac5a676366e9cd": {
          "model_module": "@jupyter-widgets/base",
          "model_name": "LayoutModel",
          "state": {
            "_view_name": "LayoutView",
            "grid_template_rows": null,
            "right": null,
            "justify_content": null,
            "_view_module": "@jupyter-widgets/base",
            "overflow": null,
            "_model_module_version": "1.2.0",
            "_view_count": null,
            "flex_flow": null,
            "width": null,
            "min_width": null,
            "border": null,
            "align_items": null,
            "bottom": null,
            "_model_module": "@jupyter-widgets/base",
            "top": null,
            "grid_column": null,
            "overflow_y": null,
            "overflow_x": null,
            "grid_auto_flow": null,
            "grid_area": null,
            "grid_template_columns": null,
            "flex": null,
            "_model_name": "LayoutModel",
            "justify_items": null,
            "grid_row": null,
            "max_height": null,
            "align_content": null,
            "visibility": null,
            "align_self": null,
            "height": null,
            "min_height": null,
            "padding": null,
            "grid_auto_rows": null,
            "grid_gap": null,
            "max_width": null,
            "order": null,
            "_view_module_version": "1.2.0",
            "grid_template_areas": null,
            "object_position": null,
            "object_fit": null,
            "grid_auto_columns": null,
            "margin": null,
            "display": null,
            "left": null
          }
        },
        "606494beb87b4c0e82146fb72d9ebcfe": {
          "model_module": "@jupyter-widgets/controls",
          "model_name": "DescriptionStyleModel",
          "state": {
            "_view_name": "StyleView",
            "_model_name": "DescriptionStyleModel",
            "description_width": "",
            "_view_module": "@jupyter-widgets/base",
            "_model_module_version": "1.5.0",
            "_view_count": null,
            "_view_module_version": "1.2.0",
            "_model_module": "@jupyter-widgets/controls"
          }
        },
        "9c445abea9a04dbfbd66288bb9faa645": {
          "model_module": "@jupyter-widgets/base",
          "model_name": "LayoutModel",
          "state": {
            "_view_name": "LayoutView",
            "grid_template_rows": null,
            "right": null,
            "justify_content": null,
            "_view_module": "@jupyter-widgets/base",
            "overflow": null,
            "_model_module_version": "1.2.0",
            "_view_count": null,
            "flex_flow": null,
            "width": null,
            "min_width": null,
            "border": null,
            "align_items": null,
            "bottom": null,
            "_model_module": "@jupyter-widgets/base",
            "top": null,
            "grid_column": null,
            "overflow_y": null,
            "overflow_x": null,
            "grid_auto_flow": null,
            "grid_area": null,
            "grid_template_columns": null,
            "flex": null,
            "_model_name": "LayoutModel",
            "justify_items": null,
            "grid_row": null,
            "max_height": null,
            "align_content": null,
            "visibility": null,
            "align_self": null,
            "height": null,
            "min_height": null,
            "padding": null,
            "grid_auto_rows": null,
            "grid_gap": null,
            "max_width": null,
            "order": null,
            "_view_module_version": "1.2.0",
            "grid_template_areas": null,
            "object_position": null,
            "object_fit": null,
            "grid_auto_columns": null,
            "margin": null,
            "display": null,
            "left": null
          }
        },
        "5300c5ae44cc47cd968fd265502ae71d": {
          "model_module": "@jupyter-widgets/controls",
          "model_name": "HBoxModel",
          "state": {
            "_view_name": "HBoxView",
            "_dom_classes": [],
            "_model_name": "HBoxModel",
            "_view_module": "@jupyter-widgets/controls",
            "_model_module_version": "1.5.0",
            "_view_count": null,
            "_view_module_version": "1.5.0",
            "box_style": "",
            "layout": "IPY_MODEL_68b4c94adebd4d7593dcbc9d27c560d3",
            "_model_module": "@jupyter-widgets/controls",
            "children": [
              "IPY_MODEL_d0417c29c70542bfb38441cdc3b340f5",
              "IPY_MODEL_46584ffa9367407bb4424fa38f7d56c9"
            ]
          }
        },
        "68b4c94adebd4d7593dcbc9d27c560d3": {
          "model_module": "@jupyter-widgets/base",
          "model_name": "LayoutModel",
          "state": {
            "_view_name": "LayoutView",
            "grid_template_rows": null,
            "right": null,
            "justify_content": null,
            "_view_module": "@jupyter-widgets/base",
            "overflow": null,
            "_model_module_version": "1.2.0",
            "_view_count": null,
            "flex_flow": null,
            "width": null,
            "min_width": null,
            "border": null,
            "align_items": null,
            "bottom": null,
            "_model_module": "@jupyter-widgets/base",
            "top": null,
            "grid_column": null,
            "overflow_y": null,
            "overflow_x": null,
            "grid_auto_flow": null,
            "grid_area": null,
            "grid_template_columns": null,
            "flex": null,
            "_model_name": "LayoutModel",
            "justify_items": null,
            "grid_row": null,
            "max_height": null,
            "align_content": null,
            "visibility": null,
            "align_self": null,
            "height": null,
            "min_height": null,
            "padding": null,
            "grid_auto_rows": null,
            "grid_gap": null,
            "max_width": null,
            "order": null,
            "_view_module_version": "1.2.0",
            "grid_template_areas": null,
            "object_position": null,
            "object_fit": null,
            "grid_auto_columns": null,
            "margin": null,
            "display": null,
            "left": null
          }
        },
        "d0417c29c70542bfb38441cdc3b340f5": {
          "model_module": "@jupyter-widgets/controls",
          "model_name": "FloatProgressModel",
          "state": {
            "_view_name": "ProgressView",
            "style": "IPY_MODEL_7b5e2af03e79427d91127236c6d437a2",
            "_dom_classes": [],
            "description": "100%",
            "_model_name": "FloatProgressModel",
            "bar_style": "success",
            "max": 6702,
            "_view_module": "@jupyter-widgets/controls",
            "_model_module_version": "1.5.0",
            "value": 6702,
            "_view_count": null,
            "_view_module_version": "1.5.0",
            "orientation": "horizontal",
            "min": 0,
            "description_tooltip": null,
            "_model_module": "@jupyter-widgets/controls",
            "layout": "IPY_MODEL_44f563b6e0a1491399425153546709b4"
          }
        },
        "46584ffa9367407bb4424fa38f7d56c9": {
          "model_module": "@jupyter-widgets/controls",
          "model_name": "HTMLModel",
          "state": {
            "_view_name": "HTMLView",
            "style": "IPY_MODEL_0109de433a9445648ce45642c80fdf43",
            "_dom_classes": [],
            "description": "",
            "_model_name": "HTMLModel",
            "placeholder": "​",
            "_view_module": "@jupyter-widgets/controls",
            "_model_module_version": "1.5.0",
            "value": " 6702/6702 [37:46&lt;00:00,  2.96it/s]",
            "_view_count": null,
            "_view_module_version": "1.5.0",
            "description_tooltip": null,
            "_model_module": "@jupyter-widgets/controls",
            "layout": "IPY_MODEL_6b6d5c6dbf0644a4ba46a77415c35563"
          }
        },
        "7b5e2af03e79427d91127236c6d437a2": {
          "model_module": "@jupyter-widgets/controls",
          "model_name": "ProgressStyleModel",
          "state": {
            "_view_name": "StyleView",
            "_model_name": "ProgressStyleModel",
            "description_width": "initial",
            "_view_module": "@jupyter-widgets/base",
            "_model_module_version": "1.5.0",
            "_view_count": null,
            "_view_module_version": "1.2.0",
            "bar_color": null,
            "_model_module": "@jupyter-widgets/controls"
          }
        },
        "44f563b6e0a1491399425153546709b4": {
          "model_module": "@jupyter-widgets/base",
          "model_name": "LayoutModel",
          "state": {
            "_view_name": "LayoutView",
            "grid_template_rows": null,
            "right": null,
            "justify_content": null,
            "_view_module": "@jupyter-widgets/base",
            "overflow": null,
            "_model_module_version": "1.2.0",
            "_view_count": null,
            "flex_flow": null,
            "width": null,
            "min_width": null,
            "border": null,
            "align_items": null,
            "bottom": null,
            "_model_module": "@jupyter-widgets/base",
            "top": null,
            "grid_column": null,
            "overflow_y": null,
            "overflow_x": null,
            "grid_auto_flow": null,
            "grid_area": null,
            "grid_template_columns": null,
            "flex": null,
            "_model_name": "LayoutModel",
            "justify_items": null,
            "grid_row": null,
            "max_height": null,
            "align_content": null,
            "visibility": null,
            "align_self": null,
            "height": null,
            "min_height": null,
            "padding": null,
            "grid_auto_rows": null,
            "grid_gap": null,
            "max_width": null,
            "order": null,
            "_view_module_version": "1.2.0",
            "grid_template_areas": null,
            "object_position": null,
            "object_fit": null,
            "grid_auto_columns": null,
            "margin": null,
            "display": null,
            "left": null
          }
        },
        "0109de433a9445648ce45642c80fdf43": {
          "model_module": "@jupyter-widgets/controls",
          "model_name": "DescriptionStyleModel",
          "state": {
            "_view_name": "StyleView",
            "_model_name": "DescriptionStyleModel",
            "description_width": "",
            "_view_module": "@jupyter-widgets/base",
            "_model_module_version": "1.5.0",
            "_view_count": null,
            "_view_module_version": "1.2.0",
            "_model_module": "@jupyter-widgets/controls"
          }
        },
        "6b6d5c6dbf0644a4ba46a77415c35563": {
          "model_module": "@jupyter-widgets/base",
          "model_name": "LayoutModel",
          "state": {
            "_view_name": "LayoutView",
            "grid_template_rows": null,
            "right": null,
            "justify_content": null,
            "_view_module": "@jupyter-widgets/base",
            "overflow": null,
            "_model_module_version": "1.2.0",
            "_view_count": null,
            "flex_flow": null,
            "width": null,
            "min_width": null,
            "border": null,
            "align_items": null,
            "bottom": null,
            "_model_module": "@jupyter-widgets/base",
            "top": null,
            "grid_column": null,
            "overflow_y": null,
            "overflow_x": null,
            "grid_auto_flow": null,
            "grid_area": null,
            "grid_template_columns": null,
            "flex": null,
            "_model_name": "LayoutModel",
            "justify_items": null,
            "grid_row": null,
            "max_height": null,
            "align_content": null,
            "visibility": null,
            "align_self": null,
            "height": null,
            "min_height": null,
            "padding": null,
            "grid_auto_rows": null,
            "grid_gap": null,
            "max_width": null,
            "order": null,
            "_view_module_version": "1.2.0",
            "grid_template_areas": null,
            "object_position": null,
            "object_fit": null,
            "grid_auto_columns": null,
            "margin": null,
            "display": null,
            "left": null
          }
        }
      }
    }
  },
  "cells": [
    {
      "cell_type": "markdown",
      "metadata": {
        "id": "eZeZLLigdNXk",
        "colab_type": "text"
      },
      "source": [
        "# Deep Learning and Text\n",
        "Challenge: [Santander Rio y MetaData](https://metadata.fundacionsadosky.org.ar/competition/21/)\n"
      ]
    },
    {
      "cell_type": "markdown",
      "metadata": {
        "id": "BQ50S5IRqtp5",
        "colab_type": "text"
      },
      "source": [
        "## Connect to google and imports"
      ]
    },
    {
      "cell_type": "code",
      "metadata": {
        "id": "AmUXR_BOgJXC",
        "colab_type": "code",
        "colab": {
          "base_uri": "https://localhost:8080/",
          "height": 118
        },
        "outputId": "44f5f70d-5596-4239-d9cf-116bdbf10d30"
      },
      "source": [
        "from google.colab import drive\n",
        "drive.mount('/content/drive')"
      ],
      "execution_count": 1,
      "outputs": [
        {
          "output_type": "stream",
          "text": [
            "Go to this URL in a browser: https://accounts.google.com/o/oauth2/auth?client_id=947318989803-6bn6qk8qdgf4n4g3pfee6491hc0brc4i.apps.googleusercontent.com&redirect_uri=urn%3aietf%3awg%3aoauth%3a2.0%3aoob&response_type=code&scope=email%20https%3a%2f%2fwww.googleapis.com%2fauth%2fdocs.test%20https%3a%2f%2fwww.googleapis.com%2fauth%2fdrive%20https%3a%2f%2fwww.googleapis.com%2fauth%2fdrive.photos.readonly%20https%3a%2f%2fwww.googleapis.com%2fauth%2fpeopleapi.readonly\n",
            "\n",
            "Enter your authorization code:\n",
            "··········\n",
            "Mounted at /content/drive\n"
          ],
          "name": "stdout"
        }
      ]
    },
    {
      "cell_type": "code",
      "metadata": {
        "id": "_rWOOOtXngdQ",
        "colab_type": "code",
        "colab": {}
      },
      "source": [
        "import pandas as pd\n",
        "import matplotlib.pyplot as plt\n",
        "import numpy as np\n",
        "plt.style.use('ggplot')\n",
        "from tqdm.notebook import trange, tqdm\n",
        "import os"
      ],
      "execution_count": 2,
      "outputs": []
    },
    {
      "cell_type": "code",
      "metadata": {
        "id": "NW-oJId5Vp-a",
        "colab_type": "code",
        "colab": {}
      },
      "source": [
        "import torch\n",
        "if torch.cuda.is_available():\n",
        "  torch.device('cuda')"
      ],
      "execution_count": 3,
      "outputs": []
    },
    {
      "cell_type": "code",
      "metadata": {
        "id": "CB-nfPRrie1H",
        "colab_type": "code",
        "colab": {}
      },
      "source": [
        "from torch import nn"
      ],
      "execution_count": 4,
      "outputs": []
    },
    {
      "cell_type": "markdown",
      "metadata": {
        "id": "ASvF4rzgexfR",
        "colab_type": "text"
      },
      "source": [
        "### Gather Data"
      ]
    },
    {
      "cell_type": "code",
      "metadata": {
        "id": "lQiOQWkyl-i-",
        "colab_type": "code",
        "colab": {
          "base_uri": "https://localhost:8080/",
          "height": 391
        },
        "outputId": "d942c1b1-76b2-422e-d3ec-4bb2122d9279"
      },
      "source": [
        "# %%capture output\n",
        "!unzip -o 'drive/My Drive/Colab Notebooks/nlp-sadosky/data.zip' -d ./"
      ],
      "execution_count": 5,
      "outputs": [
        {
          "output_type": "stream",
          "text": [
            "Archive:  drive/My Drive/Colab Notebooks/nlp-sadosky/data.zip\n",
            "   creating: ./data/\n",
            "   creating: ./data/raw/\n",
            "  inflating: ./data/raw/test_santander.csv  \n",
            "  inflating: ./data/raw/train.csv    \n",
            "  inflating: ./data/raw/first_submit_santander.csv  \n",
            "  inflating: ./data/raw/.gitkeep     \n",
            "   creating: ./data/external/\n",
            "  inflating: ./data/external/answers.csv  \n",
            "  inflating: ./data/external/CREA_total.zip  \n",
            "  inflating: ./data/external/.gitkeep  \n",
            "  inflating: ./data/external/stopwords.txt  \n",
            "  inflating: ./data/external/CREA_total.TXT  \n",
            "  inflating: ./data/external/dict.json  \n",
            "   creating: ./data/processed/\n",
            "  inflating: ./data/processed/.gitkeep  \n",
            "  inflating: ./data/processed/test_cleaned.csv  \n",
            "  inflating: ./data/processed/train_cleaned.csv  \n",
            "   creating: ./data/interim/\n",
            "  inflating: ./data/interim/.gitkeep  \n",
            "  inflating: ./data/interim/dictionary.gz  \n",
            "   creating: ./data/results/\n",
            "   creating: ./data/.ipynb_checkpoints/\n"
          ],
          "name": "stdout"
        }
      ]
    },
    {
      "cell_type": "code",
      "metadata": {
        "id": "TKNxe_enkmmS",
        "colab_type": "code",
        "colab": {}
      },
      "source": [
        "DATA_DIR ='./data'\n",
        "RAW_DIR =  os.path.join(DATA_DIR, 'raw/')\n",
        "PROCESSED_DIR =  os.path.join(DATA_DIR, 'processed/')\n",
        "EXTERNAL_DIR = os.path.join(DATA_DIR, 'external/')\n",
        "TRAIN_DATA = os.path.join(PROCESSED_DIR, 'train_cleaned.csv')\n",
        "TEST_DATA = os.path.join(PROCESSED_DIR, 'test_cleaned.csv')\n",
        "STOPWORDS_DIR = os.path.join(EXTERNAL_DIR, 'stopwords.txt')"
      ],
      "execution_count": 6,
      "outputs": []
    },
    {
      "cell_type": "markdown",
      "metadata": {
        "id": "C_Uhu4fkp-_W",
        "colab_type": "text"
      },
      "source": [
        "## Features\n"
      ]
    },
    {
      "cell_type": "markdown",
      "metadata": {
        "id": "dLx8mfiXOPeJ",
        "colab_type": "text"
      },
      "source": [
        "\n",
        "### Explore dataset\n",
        "If you explore the ./data/raw/... folder you will see 2 new files: \n",
        "- train.csv\n",
        "- test_santander.csv\n"
      ]
    },
    {
      "cell_type": "code",
      "metadata": {
        "id": "3ybr2GaduBko",
        "colab_type": "code",
        "colab": {}
      },
      "source": [
        "# pregunta:\n",
        "# categoria:\n",
        "\n",
        "columns = [\"Pregunta\", \"Intencion\"]"
      ],
      "execution_count": 7,
      "outputs": []
    },
    {
      "cell_type": "code",
      "metadata": {
        "id": "u4DSYImmbTU1",
        "colab_type": "code",
        "colab": {
          "base_uri": "https://localhost:8080/",
          "height": 33
        },
        "outputId": "069ca134-c1af-4d77-cf15-00826210dba5"
      },
      "source": [
        "!ls $TRAIN_DATA"
      ],
      "execution_count": 8,
      "outputs": [
        {
          "output_type": "stream",
          "text": [
            "./data/processed/train_cleaned.csv\n"
          ],
          "name": "stdout"
        }
      ]
    },
    {
      "cell_type": "code",
      "metadata": {
        "id": "W6tkR5a9mb_q",
        "colab_type": "code",
        "colab": {
          "base_uri": "https://localhost:8080/",
          "height": 191
        },
        "outputId": "2322c15d-fc9d-4baa-e607-ee5f6aa10fa2"
      },
      "source": [
        "data = pd.read_csv(TRAIN_DATA, encoding='utf-8', sep=',')\n",
        "\n",
        "# data.columns = columns\n",
        "data.sample(5)"
      ],
      "execution_count": 9,
      "outputs": [
        {
          "output_type": "execute_result",
          "data": {
            "text/html": [
              "<div>\n",
              "<style scoped>\n",
              "    .dataframe tbody tr th:only-of-type {\n",
              "        vertical-align: middle;\n",
              "    }\n",
              "\n",
              "    .dataframe tbody tr th {\n",
              "        vertical-align: top;\n",
              "    }\n",
              "\n",
              "    .dataframe thead th {\n",
              "        text-align: right;\n",
              "    }\n",
              "</style>\n",
              "<table border=\"1\" class=\"dataframe\">\n",
              "  <thead>\n",
              "    <tr style=\"text-align: right;\">\n",
              "      <th></th>\n",
              "      <th>Pregunta</th>\n",
              "      <th>Intencion</th>\n",
              "    </tr>\n",
              "  </thead>\n",
              "  <tbody>\n",
              "    <tr>\n",
              "      <th>2508</th>\n",
              "      <td>no puedo darme de baja de la sorpresa</td>\n",
              "      <td>Cat_320</td>\n",
              "    </tr>\n",
              "    <tr>\n",
              "      <th>13332</th>\n",
              "      <td>que quiere decir este movimiento?</td>\n",
              "      <td>Cat_115</td>\n",
              "    </tr>\n",
              "    <tr>\n",
              "      <th>12214</th>\n",
              "      <td>desear baja debito automatico tarjeta credito ...</td>\n",
              "      <td>Cat_345</td>\n",
              "    </tr>\n",
              "    <tr>\n",
              "      <th>815</th>\n",
              "      <td>donde puedo obtener una dijo?</td>\n",
              "      <td>Cat_67</td>\n",
              "    </tr>\n",
              "    <tr>\n",
              "      <th>4230</th>\n",
              "      <td>la cuenta infinity gold es con chequera?</td>\n",
              "      <td>Cat_39</td>\n",
              "    </tr>\n",
              "  </tbody>\n",
              "</table>\n",
              "</div>"
            ],
            "text/plain": [
              "                                                Pregunta Intencion\n",
              "2508               no puedo darme de baja de la sorpresa   Cat_320\n",
              "13332                  que quiere decir este movimiento?   Cat_115\n",
              "12214  desear baja debito automatico tarjeta credito ...   Cat_345\n",
              "815                        donde puedo obtener una dijo?    Cat_67\n",
              "4230            la cuenta infinity gold es con chequera?    Cat_39"
            ]
          },
          "metadata": {
            "tags": []
          },
          "execution_count": 9
        }
      ]
    },
    {
      "cell_type": "code",
      "metadata": {
        "id": "5rOtIoCvHIDa",
        "colab_type": "code",
        "colab": {
          "base_uri": "https://localhost:8080/",
          "height": 391
        },
        "outputId": "254076e1-49a6-4664-cd6e-bb3097368bf6"
      },
      "source": [
        "test = pd.read_csv(TEST_DATA)\n",
        "test\n"
      ],
      "execution_count": 10,
      "outputs": [
        {
          "output_type": "execute_result",
          "data": {
            "text/html": [
              "<div>\n",
              "<style scoped>\n",
              "    .dataframe tbody tr th:only-of-type {\n",
              "        vertical-align: middle;\n",
              "    }\n",
              "\n",
              "    .dataframe tbody tr th {\n",
              "        vertical-align: top;\n",
              "    }\n",
              "\n",
              "    .dataframe thead th {\n",
              "        text-align: right;\n",
              "    }\n",
              "</style>\n",
              "<table border=\"1\" class=\"dataframe\">\n",
              "  <thead>\n",
              "    <tr style=\"text-align: right;\">\n",
              "      <th></th>\n",
              "      <th>id</th>\n",
              "      <th>Pregunta</th>\n",
              "    </tr>\n",
              "  </thead>\n",
              "  <tbody>\n",
              "    <tr>\n",
              "      <th>0</th>\n",
              "      <td>0</td>\n",
              "      <td>querer saber tarjeta sin limite</td>\n",
              "    </tr>\n",
              "    <tr>\n",
              "      <th>1</th>\n",
              "      <td>1</td>\n",
              "      <td>¿cuál es el límite de mi tarjeta santander?</td>\n",
              "    </tr>\n",
              "    <tr>\n",
              "      <th>2</th>\n",
              "      <td>2</td>\n",
              "      <td>hay beneficios en restaurantes de la costa atl...</td>\n",
              "    </tr>\n",
              "    <tr>\n",
              "      <th>3</th>\n",
              "      <td>3</td>\n",
              "      <td>semana realizar pagar afip monotributo volver ...</td>\n",
              "    </tr>\n",
              "    <tr>\n",
              "      <th>4</th>\n",
              "      <td>4</td>\n",
              "      <td>por un prestamo de mil cuanto es el interes?</td>\n",
              "    </tr>\n",
              "    <tr>\n",
              "      <th>...</th>\n",
              "      <td>...</td>\n",
              "      <td>...</td>\n",
              "    </tr>\n",
              "    <tr>\n",
              "      <th>6697</th>\n",
              "      <td>6697</td>\n",
              "      <td>denunciar un cobro de tarjeta de credito</td>\n",
              "    </tr>\n",
              "    <tr>\n",
              "      <th>6698</th>\n",
              "      <td>6698</td>\n",
              "      <td>quiero pagar deuda refinanciada</td>\n",
              "    </tr>\n",
              "    <tr>\n",
              "      <th>6699</th>\n",
              "      <td>6699</td>\n",
              "      <td>quiero pagar de mi open credit un poquito mas ...</td>\n",
              "    </tr>\n",
              "    <tr>\n",
              "      <th>6700</th>\n",
              "      <td>6700</td>\n",
              "      <td>nesecito imprimir mi resumen tarjeta de credit...</td>\n",
              "    </tr>\n",
              "    <tr>\n",
              "      <th>6701</th>\n",
              "      <td>6701</td>\n",
              "      <td>quiero obtener una visa credito</td>\n",
              "    </tr>\n",
              "  </tbody>\n",
              "</table>\n",
              "<p>6702 rows × 2 columns</p>\n",
              "</div>"
            ],
            "text/plain": [
              "        id                                           Pregunta\n",
              "0        0                    querer saber tarjeta sin limite\n",
              "1        1        ¿cuál es el límite de mi tarjeta santander?\n",
              "2        2  hay beneficios en restaurantes de la costa atl...\n",
              "3        3  semana realizar pagar afip monotributo volver ...\n",
              "4        4       por un prestamo de mil cuanto es el interes?\n",
              "...    ...                                                ...\n",
              "6697  6697           denunciar un cobro de tarjeta de credito\n",
              "6698  6698                    quiero pagar deuda refinanciada\n",
              "6699  6699  quiero pagar de mi open credit un poquito mas ...\n",
              "6700  6700  nesecito imprimir mi resumen tarjeta de credit...\n",
              "6701  6701                    quiero obtener una visa credito\n",
              "\n",
              "[6702 rows x 2 columns]"
            ]
          },
          "metadata": {
            "tags": []
          },
          "execution_count": 10
        }
      ]
    },
    {
      "cell_type": "code",
      "metadata": {
        "id": "JMRdY6Mn-cMu",
        "colab_type": "code",
        "colab": {}
      },
      "source": [
        "# test.Pregunta.str.len().argmax()\n",
        "# s = test.Pregunta.apply(cleaner.sentence_cleaning)"
      ],
      "execution_count": 11,
      "outputs": []
    },
    {
      "cell_type": "code",
      "metadata": {
        "id": "sDyHSuIhIcTA",
        "colab_type": "code",
        "colab": {
          "base_uri": "https://localhost:8080/",
          "height": 163
        },
        "outputId": "58d26022-10fd-4b10-f644-1fbce426c484"
      },
      "source": [
        "data.info()"
      ],
      "execution_count": 12,
      "outputs": [
        {
          "output_type": "stream",
          "text": [
            "<class 'pandas.core.frame.DataFrame'>\n",
            "RangeIndex: 20104 entries, 0 to 20103\n",
            "Data columns (total 2 columns):\n",
            " #   Column     Non-Null Count  Dtype \n",
            "---  ------     --------------  ----- \n",
            " 0   Pregunta   20104 non-null  object\n",
            " 1   Intencion  20104 non-null  object\n",
            "dtypes: object(2)\n",
            "memory usage: 314.2+ KB\n"
          ],
          "name": "stdout"
        }
      ]
    },
    {
      "cell_type": "code",
      "metadata": {
        "id": "4w1zQ3m0mmi-",
        "colab_type": "code",
        "colab": {
          "base_uri": "https://localhost:8080/",
          "height": 351
        },
        "outputId": "1dce60ae-8b82-4994-cfd3-1475e7fe8446"
      },
      "source": [
        "data.loc[:,'Intencion'].value_counts()[0:10].plot.bar(figsize=(10,5))\n",
        "plt.show()"
      ],
      "execution_count": 13,
      "outputs": [
        {
          "output_type": "display_data",
          "data": {
            "image/png": "[encoded data removed]",
            "text/plain": [
              "<Figure size 720x360 with 1 Axes>"
            ]
          },
          "metadata": {
            "tags": []
          }
        }
      ]
    },
    {
      "cell_type": "code",
      "metadata": {
        "id": "tzxw6r3Ac_mq",
        "colab_type": "code",
        "colab": {
          "base_uri": "https://localhost:8080/",
          "height": 351
        },
        "outputId": "d86b6753-5d57-4c9e-f57c-31d5b4ae172b"
      },
      "source": [
        "data.loc[:,'Intencion'].value_counts()[-10:].plot.bar(figsize=(10,5))\n",
        "plt.show()"
      ],
      "execution_count": 14,
      "outputs": [
        {
          "output_type": "display_data",
          "data": {
            "image/png": "[encoded data removed]",
            "text/plain": [
              "<Figure size 720x360 with 1 Axes>"
            ]
          },
          "metadata": {
            "tags": []
          }
        }
      ]
    },
    {
      "cell_type": "code",
      "metadata": {
        "id": "TjzFZxT1hw_K",
        "colab_type": "code",
        "colab": {
          "base_uri": "https://localhost:8080/",
          "height": 33
        },
        "outputId": "bd64df27-10e0-4f76-bc17-ce91368e4b82"
      },
      "source": [
        "data.loc[:,'Intencion'].nunique()"
      ],
      "execution_count": 15,
      "outputs": [
        {
          "output_type": "execute_result",
          "data": {
            "text/plain": [
              "352"
            ]
          },
          "metadata": {
            "tags": []
          },
          "execution_count": 15
        }
      ]
    },
    {
      "cell_type": "code",
      "metadata": {
        "id": "dzDkON3Roihs",
        "colab_type": "code",
        "colab": {
          "base_uri": "https://localhost:8080/",
          "height": 281
        },
        "outputId": "7b9fce86-fdd4-42f8-ecd4-ac9c6e07e0b2"
      },
      "source": [
        "# size of words\n",
        "data.Pregunta.str.len().plot.hist(bins=15)"
      ],
      "execution_count": 16,
      "outputs": [
        {
          "output_type": "execute_result",
          "data": {
            "text/plain": [
              "<matplotlib.axes._subplots.AxesSubplot at 0x7f945a3cb6d8>"
            ]
          },
          "metadata": {
            "tags": []
          },
          "execution_count": 16
        },
        {
          "output_type": "display_data",
          "data": {
            "image/png": "[encoded data removed]",
            "text/plain": [
              "<Figure size 432x288 with 1 Axes>"
            ]
          },
          "metadata": {
            "tags": []
          }
        }
      ]
    },
    {
      "cell_type": "code",
      "metadata": {
        "id": "295aDjUOr29t",
        "colab_type": "code",
        "colab": {}
      },
      "source": [
        "# data['Intencion'] = data['Intencion'].str.replace('Cat_','').astype('int').astype('category')\n",
        "# data['Intencion'], data[\"Intencion\"].cat.codes\n",
        "# data[\"Target\"] = data['Intencion'].cat.codes.astype('int')"
      ],
      "execution_count": 17,
      "outputs": []
    },
    {
      "cell_type": "code",
      "metadata": {
        "id": "10l1vLeJSZmC",
        "colab_type": "code",
        "colab": {}
      },
      "source": [
        "# para adaptar al código existente\n",
        "data[\"Target\"] = data.Intencion"
      ],
      "execution_count": 18,
      "outputs": []
    },
    {
      "cell_type": "code",
      "metadata": {
        "id": "_8fhCiRwczu2",
        "colab_type": "code",
        "colab": {}
      },
      "source": [
        "# dictcats = { code: cat for code, cat in zip(data.Target, data.Intencion)}\n",
        "# print(dictcats)"
      ],
      "execution_count": 19,
      "outputs": []
    },
    {
      "cell_type": "markdown",
      "metadata": {
        "id": "Z5BNfL1QgZY_",
        "colab_type": "text"
      },
      "source": [
        "### Data Cleaning"
      ]
    },
    {
      "cell_type": "code",
      "metadata": {
        "id": "LDDCQFs5wYrE",
        "colab_type": "code",
        "colab": {}
      },
      "source": [
        "# import unidecode\n",
        "import nltk\n",
        "from nltk.corpus import stopwords\n",
        "from nltk.tokenize import word_tokenize, WordPunctTokenizer\n",
        "from nltk.tokenize.treebank import TreebankWordDetokenizer , TreebankWordTokenizer\n",
        "import re\n",
        "from toolz import pipe\n",
        "from functools import partial\n",
        "import string\n",
        "import tokenize"
      ],
      "execution_count": 20,
      "outputs": []
    },
    {
      "cell_type": "code",
      "metadata": {
        "id": "rJyJ247BpiU6",
        "colab_type": "code",
        "colab": {}
      },
      "source": [
        "def get_stopwords():\n",
        "  STOPWORDS = set(stopwords.words('spanish'))\n",
        "  STOPWORDS.discard('no') #this souldn't be an stopword\n",
        "  return STOPWORDS\n",
        "\n",
        "def get_specialwords():\n",
        "  \"\"\"\n",
        "  Clean known spelling mistakes\n",
        "  \"\"\"\n",
        "  return [\n",
        "          ('\\\\bccredito\\\\b|\\\\bcredit\\\\b','credito'),('pra','para'),('\\\\bx\\\\b','por'),('\\\\bq\\\\b','que'),\n",
        "          ('\\\\bxq\\\\b','porque'),('\\\\bcta\\\\b|\\\\bctas\\\\b','cuenta'),('targeta','tarjeta'),('nececit|nesecit','necesit'),\n",
        "          ('queiro','quiero'),('\\\\b0kilometro\\\\b|\\\\b0k\\\\b|\\\\b0kmm\\\\b','0km'),\n",
        "          ('\\\\baadavantatge\\\\b|\\\\baadnatage_\\\\b|\\\\baadvantag\\\\b|\\\\baadvantege\\\\b|\\\\baddvantage\\\\b|\\\\baadvantagee\\\\b','aadvantage'),('aaños','años'),\n",
        "          ('aberes','haberes'),('abiles','habiles'),('aceder|acseder|adceder|accederv','acceder'),('acuenta','a cuenta'),\n",
        "          ('acumuladasi','acumuladas'),('adentanto','adelanto'),('aderente','adherente'),('aderirme|adhirirme','adherirme'),\n",
        "          ('adhesioni','adhesion'),\n",
        "          ('balkin|balking|bamking|bankie|bankig|bankin|banquin|banquing|bancking|baking|bangking|bankingg','banking'),\n",
        "          ('bco|bsnco|baco','banco'),('benficio','beneficio'),('boucher','voucher'),('brazil|buzios','brasil')\n",
        "          ] + [\n",
        "          ('aciento','asiento'),('ahroa','ahora'),('american express','amex'),('atravez|atraves','a traves'),\n",
        "          ('balenco','banelco'),('baucher|boucher','voucher'),('canselacion','cancelacion'),('cartele|cartelito','cartel'),\n",
        "          ('cobroon','cobro'),('comprovante','comprobante'),('comunicaciin','comunicacion'),('consuitar|consultala','consultar'),\n",
        "          ('contactacme','contactar'),('datos','dato'),\n",
        "          ('darian|\\\\bdarla\\\\b|\\\\bdarlas\\\\b|\\\\bdarle\\\\b|\\\\bdarlo\\\\b|\\\\bdarte\\\\b|\\\\bdas\\\\b','dar'),\n",
        "          ('devite|devito','debito'),('dirjo|dirijio','dirigirme'),('\\\\bdolar\\\\b|dolars','dolares')\n",
        "          ]"
      ],
      "execution_count": 21,
      "outputs": []
    },
    {
      "cell_type": "code",
      "metadata": {
        "id": "RR_0yTDPsD-I",
        "colab_type": "code",
        "colab": {}
      },
      "source": [
        "class Cleaner():\n",
        "  \"\"\"\n",
        "  This class executes regexes for cleaning the dataset.\n",
        "  - filter stopwords\n",
        "  - clean mispellings\n",
        "  - remove tokens and punctuation (string.punctuation)\n",
        "  \"\"\"  \n",
        "\n",
        "  def __init__(self):\n",
        "    nltk.download('punkt')\n",
        "    nltk.download('stopwords')\n",
        "\n",
        "    self.STOPWORDS = get_stopwords()\n",
        "    self.SPECIALWORDS=get_specialwords()\n",
        "\n",
        "    self.tk = TreebankWordTokenizer()\n",
        "    self.dtk = TreebankWordDetokenizer()\n",
        "    # self.SPACES=re.compile(\"\\s+\")\n",
        "    self.BAD_CAT_REMOVE = re.compile('^Cat_')\n",
        "    self.A_TILDE_REMOVE = re.compile('[á]')\n",
        "    self.E_TILDE_REMOVE = re.compile('[é]')\n",
        "    self.I_TILDE_REMOVE = re.compile('[í]')\n",
        "    self.O_TILDE_REMOVE = re.compile('[ó]')\n",
        "    self.U_TILDE_REMOVE = re.compile('[ú]')\n",
        "    self.POINT_FOLLOWING_LETTER=re.compile('(?<=\\S)(\\.|\\,)(?=\\w)') # once or zero space following \". or ,\" following  once or zero alphanumeric\n",
        "    self.WEIRD = re.compile(\"[\" + \"|\".join(\"¬≠¬≠¬≠¬≠¬≠¬≠‚ç¨≈°¬¨¬†‚äö¬¨√ö¬°¬¨äö¬¨√ö¬æ¬¢‚äö¬¨√ö¬°¬¨‚ç¨¬¶¬°¬¨¬≠¬≠‚ç¨≈°¬¨¬¶‚äö¬¨√ö¬°¬¨‚ç¨¬¶‚äö¬¨√ö\".split())+\"]\") #fix special case\n",
        "    self.specials_regex = [re.compile(bad) for bad, _ in self.SPECIALWORDS] # generate spelling corrector with regex.\n",
        "    self.correct_words = [ correct for _, correct in self.SPECIALWORDS]\n",
        "    self.BAD_SYMBOLS_REMOVE = re.compile('[^A-Za-z0-9_ áéíóú]')\n",
        "  \n",
        "  def applyRegex(self, value,regex,replacement):\n",
        "    value = regex.sub(replacement,value)\n",
        "    return value\n",
        "\n",
        "  def text_cleaning(self, text):\n",
        " \n",
        "    return pipe(\n",
        "        text.lower(),\n",
        "        partial(self.BAD_SYMBOLS_REMOVE.sub,  ''), \n",
        "        partial(self.WEIRD.sub, ''), \n",
        "        # partial(self.SPACES.sub, ''), \n",
        "        partial(self.A_TILDE_REMOVE.sub, 'a'), \n",
        "        partial(self.E_TILDE_REMOVE.sub, 'e'), \n",
        "        partial(self.I_TILDE_REMOVE.sub, 'i'), \n",
        "        partial(self.O_TILDE_REMOVE.sub, 'o'), \n",
        "        partial(self.U_TILDE_REMOVE.sub, 'u'), \n",
        "        *(partial(regex.sub, correct) for regex, correct in zip(self.specials_regex, self.correct_words)),\n",
        "        # partial(self.POINT_FOLLOWING_LETTER.sub('. '))\n",
        "    )\n",
        "\n",
        "  def sentence_cleaning(self, sentence, detokenize=False):\n",
        "    word_tokens = pipe(\n",
        "        sentence, \n",
        "        # partial(self.POINT_FOLLOWING_LETTER.sub, '. '),\n",
        "        self.tk.tokenize\n",
        "    )       \n",
        "\n",
        "    \n",
        "    word_tokens = [word.strip(string.punctuation+\"¿¡\") for word in word_tokens]\n",
        "\n",
        "    word_tokens = [self.text_cleaning(text) for text in word_tokens if not text in self.STOPWORDS and text not in string.whitespace]\n",
        "\n",
        "    if detokenize:\n",
        "        return self.dtk.detokenize(word_tokens)\n",
        "    else: \n",
        "        return word_tokens\n",
        "        "
      ],
      "execution_count": 22,
      "outputs": []
    },
    {
      "cell_type": "markdown",
      "metadata": {
        "id": "cTevUfPasQMg",
        "colab_type": "text"
      },
      "source": [
        ""
      ]
    },
    {
      "cell_type": "code",
      "metadata": {
        "id": "PMQ68pWg8O-i",
        "colab_type": "code",
        "colab": {
          "base_uri": "https://localhost:8080/",
          "height": 130,
          "referenced_widgets": [
            "4409e996f7204a28af30fd400136a4de",
            "37edc161014b4fe1b911ac4f97992b69",
            "9d05931aeba4425caf37e77b01b0f31d",
            "f6fd6ba810b846148c4c6ab461b19017",
            "f26da7fa93eb47949d30ee107cffb9b6",
            "6f04f88cd78d40fa95bb7337fad7f7c8",
            "1aa8c8de6ace40b09b17a369627ee38f",
            "14bd2ad4ff1a421090bcd323eedc48c5"
          ]
        },
        "outputId": "a254146d-5641-48bf-b013-de587e132f5d"
      },
      "source": [
        "def replace_unknown(r):\n",
        "    return cleaner.sentence_cleaning(r, detokenize=True)\n",
        "\n",
        "def tqdemizado(s, pbar):\n",
        "    pbar.update(1)\n",
        "    return replace_unknown(s)\n",
        "\n",
        "cleaner = Cleaner()\n",
        "pbar = tqdm(total=len(data.Pregunta))\n",
        "data[\"Pregunta\"] = data.Pregunta.apply(lambda s: tqdemizado(s, pbar))\n",
        "\n",
        "pbar.close()"
      ],
      "execution_count": 25,
      "outputs": [
        {
          "output_type": "stream",
          "text": [
            "[nltk_data] Downloading package punkt to /root/nltk_data...\n",
            "[nltk_data]   Unzipping tokenizers/punkt.zip.\n",
            "[nltk_data] Downloading package stopwords to /root/nltk_data...\n",
            "[nltk_data]   Unzipping corpora/stopwords.zip.\n"
          ],
          "name": "stdout"
        },
        {
          "output_type": "display_data",
          "data": {
            "application/vnd.jupyter.widget-view+json": {
              "model_id": "4409e996f7204a28af30fd400136a4de",
              "version_minor": 0,
              "version_major": 2
            },
            "text/plain": [
              "HBox(children=(FloatProgress(value=0.0, max=20104.0), HTML(value='')))"
            ]
          },
          "metadata": {
            "tags": []
          }
        },
        {
          "output_type": "stream",
          "text": [
            "\n"
          ],
          "name": "stdout"
        }
      ]
    },
    {
      "cell_type": "code",
      "metadata": {
        "id": "TCBNplGnsidx",
        "colab_type": "code",
        "colab": {
          "base_uri": "https://localhost:8080/",
          "height": 33
        },
        "outputId": "f19e66dc-e684-40cd-d4d3-1fbb459cd3d5"
      },
      "source": [
        "# see mean and std lenght of sentences, to fix as a default lenght to feed the NN\n",
        "data.Pregunta.str.len().mean(), data.Pregunta.str.len().std(), data.Pregunta.str.len().max(), data.Pregunta.str.len().min()"
      ],
      "execution_count": 26,
      "outputs": [
        {
          "output_type": "execute_result",
          "data": {
            "text/plain": [
              "(35.96264424990052, 16.137940288041, 178, 2)"
            ]
          },
          "metadata": {
            "tags": []
          },
          "execution_count": 26
        }
      ]
    },
    {
      "cell_type": "code",
      "metadata": {
        "id": "dLaXf5xWszjb",
        "colab_type": "code",
        "colab": {
          "base_uri": "https://localhost:8080/",
          "height": 281
        },
        "outputId": "8bc0249a-14f9-4470-9084-aed207c45d76"
      },
      "source": [
        "# data[data.Pregunta.str.len() > 128].sort_values(by=\"Pregunta\") # to found sentences longer than 128 characters\n",
        "# data.iloc[9314].Pregunta # special case, misspelling\n",
        "data.Pregunta.str.len().plot.hist()"
      ],
      "execution_count": 27,
      "outputs": [
        {
          "output_type": "execute_result",
          "data": {
            "text/plain": [
              "<matplotlib.axes._subplots.AxesSubplot at 0x7f94396364a8>"
            ]
          },
          "metadata": {
            "tags": []
          },
          "execution_count": 27
        },
        {
          "output_type": "display_data",
          "data": {
            "image/png": "[encoded data removed]",
            "text/plain": [
              "<Figure size 432x288 with 1 Axes>"
            ]
          },
          "metadata": {
            "tags": []
          }
        }
      ]
    },
    {
      "cell_type": "markdown",
      "metadata": {
        "id": "3yfp9LL6aQCt",
        "colab_type": "text"
      },
      "source": [
        "### DataIngestion with Dataset and Example's\n",
        "To feed the model we will use Torchtext.\n",
        "- Define a LabelField\n",
        "- Define a TextField with fixed lenght at 64 characters"
      ]
    },
    {
      "cell_type": "code",
      "metadata": {
        "id": "0znSIiyZJ6g6",
        "colab_type": "code",
        "colab": {}
      },
      "source": [
        "%%capture output\n",
        "!pip install -U torchtext==0.6.0\n",
        "import torchtext"
      ],
      "execution_count": 28,
      "outputs": []
    },
    {
      "cell_type": "code",
      "metadata": {
        "colab_type": "code",
        "id": "-x18reuFditT",
        "colab": {}
      },
      "source": [
        "## Defining fields for the model\n",
        "LABEL = torchtext.data.LabelField()\n",
        "TWEET = torchtext.data.Field(tokenize='spacy', lower=True, eos_token=\"<eos>\", fix_length=64)"
      ],
      "execution_count": 394,
      "outputs": []
    },
    {
      "cell_type": "code",
      "metadata": {
        "colab_type": "code",
        "id": "ufzZfyqDdit2",
        "colab": {}
      },
      "source": [
        "fields = [\n",
        "  ('Target', LABEL), \n",
        "  ('Pregunta', TWEET),\n",
        "]"
      ],
      "execution_count": 395,
      "outputs": []
    },
    {
      "cell_type": "code",
      "metadata": {
        "id": "99pL0JoFKojA",
        "colab_type": "code",
        "colab": {}
      },
      "source": [
        "# we define 3 categories types regarding cardinality, we test three options, and we detect that with less data it is less accurate than we have more data.\n",
        "categories = data.Target.value_counts()[(data.Target.value_counts()>2)].index\n",
        "categories_low = data.Target.value_counts()[(data.Target.value_counts()<100) & (data.Target.value_counts()>2)].index\n",
        "categories_high = data.Target.value_counts()[(data.Target.value_counts()>=80)].index"
      ],
      "execution_count": 396,
      "outputs": []
    },
    {
      "cell_type": "code",
      "metadata": {
        "id": "Ci7HpBRdsWJv",
        "colab_type": "code",
        "colab": {}
      },
      "source": [
        "from sklearn.model_selection import train_test_split\n",
        "\n",
        "data_trainable = data[data.Target.isin(categories_high)]\n",
        "\n",
        "data_train, data_test = train_test_split(data_trainable, train_size=0.1, stratify=data_trainable.Target, shuffle=True, random_state=42)\n",
        "data_valid, data_test = train_test_split(data_test, stratify=data_test.Target, train_size=0.1, shuffle=True)"
      ],
      "execution_count": 397,
      "outputs": []
    },
    {
      "cell_type": "code",
      "metadata": {
        "id": "Z0r78OEE1x0D",
        "colab_type": "code",
        "colab": {
          "base_uri": "https://localhost:8080/",
          "height": 391
        },
        "outputId": "1a53d611-8240-4ffe-bf54-fa764e8a78f1"
      },
      "source": [
        "data_train"
      ],
      "execution_count": 398,
      "outputs": [
        {
          "output_type": "execute_result",
          "data": {
            "text/html": [
              "<div>\n",
              "<style scoped>\n",
              "    .dataframe tbody tr th:only-of-type {\n",
              "        vertical-align: middle;\n",
              "    }\n",
              "\n",
              "    .dataframe tbody tr th {\n",
              "        vertical-align: top;\n",
              "    }\n",
              "\n",
              "    .dataframe thead th {\n",
              "        text-align: right;\n",
              "    }\n",
              "</style>\n",
              "<table border=\"1\" class=\"dataframe\">\n",
              "  <thead>\n",
              "    <tr style=\"text-align: right;\">\n",
              "      <th></th>\n",
              "      <th>Pregunta</th>\n",
              "      <th>Intencion</th>\n",
              "      <th>Target</th>\n",
              "      <th>Predicted</th>\n",
              "    </tr>\n",
              "  </thead>\n",
              "  <tbody>\n",
              "    <tr>\n",
              "      <th>8929</th>\n",
              "      <td>quiero abrir caja ahorro no cbu como puedo hac...</td>\n",
              "      <td>Cat_39</td>\n",
              "      <td>Cat_39</td>\n",
              "      <td>Cat_39</td>\n",
              "    </tr>\n",
              "    <tr>\n",
              "      <th>7713</th>\n",
              "      <td>querer cerrar cuenta</td>\n",
              "      <td>Cat_41</td>\n",
              "      <td>Cat_41</td>\n",
              "      <td>Cat_41</td>\n",
              "    </tr>\n",
              "    <tr>\n",
              "      <th>16916</th>\n",
              "      <td>ao caja ahorrar convenio universia casar cerra...</td>\n",
              "      <td>Cat_61</td>\n",
              "      <td>Cat_61</td>\n",
              "      <td>Cat_61</td>\n",
              "    </tr>\n",
              "    <tr>\n",
              "      <th>6449</th>\n",
              "      <td>funciona compara protegida american express</td>\n",
              "      <td>Cat_311</td>\n",
              "      <td>Cat_311</td>\n",
              "      <td>Cat_311</td>\n",
              "    </tr>\n",
              "    <tr>\n",
              "      <th>9893</th>\n",
              "      <td>servicio mantenimiento paga meses</td>\n",
              "      <td>Cat_96</td>\n",
              "      <td>Cat_96</td>\n",
              "      <td>Cat_96</td>\n",
              "    </tr>\n",
              "    <tr>\n",
              "      <th>...</th>\n",
              "      <td>...</td>\n",
              "      <td>...</td>\n",
              "      <td>...</td>\n",
              "      <td>...</td>\n",
              "    </tr>\n",
              "    <tr>\n",
              "      <th>17528</th>\n",
              "      <td>numero superlinda</td>\n",
              "      <td>Cat_147</td>\n",
              "      <td>Cat_147</td>\n",
              "      <td>Cat_147</td>\n",
              "    </tr>\n",
              "    <tr>\n",
              "      <th>13636</th>\n",
              "      <td>quisiera ver cuanto margen tarjeta</td>\n",
              "      <td>Cat_303</td>\n",
              "      <td>Cat_303</td>\n",
              "      <td>Cat_303</td>\n",
              "    </tr>\n",
              "    <tr>\n",
              "      <th>18921</th>\n",
              "      <td>solicito tarjeta</td>\n",
              "      <td>Cat_337</td>\n",
              "      <td>Cat_337</td>\n",
              "      <td>Cat_337</td>\n",
              "    </tr>\n",
              "    <tr>\n",
              "      <th>10886</th>\n",
              "      <td>no emitido aun no resumenes cuenta tarjetas cr...</td>\n",
              "      <td>Cat_138</td>\n",
              "      <td>Cat_138</td>\n",
              "      <td>Cat_138</td>\n",
              "    </tr>\n",
              "    <tr>\n",
              "      <th>988</th>\n",
              "      <td>como hago pedir cambio tarjeta gastada</td>\n",
              "      <td>Cat_316</td>\n",
              "      <td>Cat_316</td>\n",
              "      <td>Cat_316</td>\n",
              "    </tr>\n",
              "  </tbody>\n",
              "</table>\n",
              "<p>1166 rows × 4 columns</p>\n",
              "</div>"
            ],
            "text/plain": [
              "                                                Pregunta  ... Predicted\n",
              "8929   quiero abrir caja ahorro no cbu como puedo hac...  ...    Cat_39\n",
              "7713                                querer cerrar cuenta  ...    Cat_41\n",
              "16916  ao caja ahorrar convenio universia casar cerra...  ...    Cat_61\n",
              "6449         funciona compara protegida american express  ...   Cat_311\n",
              "9893                   servicio mantenimiento paga meses  ...    Cat_96\n",
              "...                                                  ...  ...       ...\n",
              "17528                                  numero superlinda  ...   Cat_147\n",
              "13636                 quisiera ver cuanto margen tarjeta  ...   Cat_303\n",
              "18921                                   solicito tarjeta  ...   Cat_337\n",
              "10886  no emitido aun no resumenes cuenta tarjetas cr...  ...   Cat_138\n",
              "988               como hago pedir cambio tarjeta gastada  ...   Cat_316\n",
              "\n",
              "[1166 rows x 4 columns]"
            ]
          },
          "metadata": {
            "tags": []
          },
          "execution_count": 398
        }
      ]
    },
    {
      "cell_type": "code",
      "metadata": {
        "id": "yOfokI9uaivC",
        "colab_type": "code",
        "colab": {}
      },
      "source": [
        "def map_examples(data):\n",
        "  examples=[]\n",
        "  for ex in tqdm(data[['Target', 'Pregunta']].values):\n",
        "    examples.append(torchtext.data.Example.fromlist(ex, fields))\n",
        "  return examples\n"
      ],
      "execution_count": 399,
      "outputs": []
    },
    {
      "cell_type": "code",
      "metadata": {
        "id": "T2FacK9otFn5",
        "colab_type": "code",
        "colab": {
          "base_uri": "https://localhost:8080/",
          "height": 161,
          "referenced_widgets": [
            "2570f44959a64334a659677518bf98f4",
            "a189634d96764f5d840ee01d31506224",
            "e721b0330dc84993889671057580d3c7",
            "326bbc77f5fc4330ab14508fd72ceda0",
            "b8d6b789bca34428bc389205ae4940fa",
            "93d7850a3ad14a55ad4bd6134183c97d",
            "f8625573862940ccaa6827170b15d1de",
            "068566c06993445699c1a31e9f165cf7",
            "6d93f9ba93be4f76ac6f7aede49a684e",
            "e3a7a116cf8b447e93a0dfa02bd7b8c4",
            "5d79c22d2f114076b13807fac187d5ee",
            "3399171d432e4eeba2640b994c10225b",
            "88164e1fe8be4ec88df36eda65f2fff6",
            "01c10ea8d19d4c4aa004d1285ca8bc09",
            "c14ef773d7a84c80b5c235bd76425962",
            "0c7b8704a14c48678b792868dfc0b194",
            "588ab4f16f5743329a19142cf832d8ed",
            "5e6dfe7be8134270917b26c96f464f6b",
            "7b536d16c9524322b3a4eac4202d6301",
            "d8415cb8d1484e6387a1827b1f5fbe0b",
            "7d8606417c1a474a99e992729c731c02",
            "5b61629b229e47a3aac377cea8279101",
            "b2eeefb8d0b942a09082372cd977f4f2",
            "0274a6ee39b24a3c8836f18405038bf3"
          ]
        },
        "outputId": "06bef081-770b-4e9f-bcdc-e9be2d2a38fb"
      },
      "source": [
        "examples_train = map_examples(data_train)\n",
        "examples_valid = map_examples(data_valid)\n",
        "examples_test = map_examples(data_test)"
      ],
      "execution_count": 400,
      "outputs": [
        {
          "output_type": "display_data",
          "data": {
            "application/vnd.jupyter.widget-view+json": {
              "model_id": "2570f44959a64334a659677518bf98f4",
              "version_minor": 0,
              "version_major": 2
            },
            "text/plain": [
              "HBox(children=(FloatProgress(value=0.0, max=1166.0), HTML(value='')))"
            ]
          },
          "metadata": {
            "tags": []
          }
        },
        {
          "output_type": "stream",
          "text": [
            "\n"
          ],
          "name": "stdout"
        },
        {
          "output_type": "display_data",
          "data": {
            "application/vnd.jupyter.widget-view+json": {
              "model_id": "6d93f9ba93be4f76ac6f7aede49a684e",
              "version_minor": 0,
              "version_major": 2
            },
            "text/plain": [
              "HBox(children=(FloatProgress(value=0.0, max=1049.0), HTML(value='')))"
            ]
          },
          "metadata": {
            "tags": []
          }
        },
        {
          "output_type": "stream",
          "text": [
            "\n"
          ],
          "name": "stdout"
        },
        {
          "output_type": "display_data",
          "data": {
            "application/vnd.jupyter.widget-view+json": {
              "model_id": "588ab4f16f5743329a19142cf832d8ed",
              "version_minor": 0,
              "version_major": 2
            },
            "text/plain": [
              "HBox(children=(FloatProgress(value=0.0, max=9448.0), HTML(value='')))"
            ]
          },
          "metadata": {
            "tags": []
          }
        },
        {
          "output_type": "stream",
          "text": [
            "\n"
          ],
          "name": "stdout"
        }
      ]
    },
    {
      "cell_type": "code",
      "metadata": {
        "id": "5d5XmP0Ubx2L",
        "colab_type": "code",
        "colab": {}
      },
      "source": [
        "# pytorch need a dataset to feed de nn\n",
        "train = torchtext.data.Dataset(examples_train, fields)\n",
        "test = torchtext.data.Dataset(examples_test, fields)\n",
        "valid = torchtext.data.Dataset(examples_valid, fields)\n"
      ],
      "execution_count": 401,
      "outputs": []
    },
    {
      "cell_type": "code",
      "metadata": {
        "id": "le98D24_dKLi",
        "colab_type": "code",
        "colab": {
          "base_uri": "https://localhost:8080/",
          "height": 33
        },
        "outputId": "1ab65577-705f-4514-b5da-a685e45e8d91"
      },
      "source": [
        "# Build a vocabulary\n",
        "%%timeit\n",
        "vocab_size = 20000\n",
        "TWEET.build_vocab(train, max_size = vocab_size)\n",
        "LABEL.build_vocab(train)"
      ],
      "execution_count": 402,
      "outputs": [
        {
          "output_type": "stream",
          "text": [
            "100 loops, best of 3: 6.99 ms per loop\n"
          ],
          "name": "stdout"
        }
      ]
    },
    {
      "cell_type": "code",
      "metadata": {
        "id": "_gGuvDBndNeB",
        "colab_type": "code",
        "colab": {}
      },
      "source": [
        "# this is a kind of DataLoader.\n",
        "train_iterator, valid_iterator, test_iterator = torchtext.data.BucketIterator.splits(\n",
        "  (train, valid, test), \n",
        "  batch_size = 256, \n",
        "  device = 'cuda',\n",
        "  shuffle=True,\n",
        "  sort_key = lambda x: len(x.Pregunta),\n",
        "  sort_within_batch = False\n",
        ")"
      ],
      "execution_count": 403,
      "outputs": []
    },
    {
      "cell_type": "code",
      "metadata": {
        "id": "-mw9RSWjdzii",
        "colab_type": "code",
        "colab": {
          "base_uri": "https://localhost:8080/",
          "height": 33
        },
        "outputId": "1d2b00dc-74fe-4a8c-8ef1-0ca25817b1a1"
      },
      "source": [
        "len(TWEET.vocab), len(LABEL.vocab)"
      ],
      "execution_count": 404,
      "outputs": [
        {
          "output_type": "execute_result",
          "data": {
            "text/plain": [
              "(1233, 53)"
            ]
          },
          "metadata": {
            "tags": []
          },
          "execution_count": 404
        }
      ]
    },
    {
      "cell_type": "markdown",
      "metadata": {
        "id": "a4zJbo-S51Pr",
        "colab_type": "text"
      },
      "source": [
        "## Training"
      ]
    },
    {
      "cell_type": "markdown",
      "metadata": {
        "id": "aGFaGzKuYJgJ",
        "colab_type": "text"
      },
      "source": [
        "### Defining a model"
      ]
    },
    {
      "cell_type": "markdown",
      "metadata": {
        "id": "_xiu28LOzCVo",
        "colab_type": "text"
      },
      "source": [
        "The iterator returns shape => (sequence_len, batch_size)\n",
        "Embedding Layer:\n",
        "- input ( * )\n",
        "- output (*, embedding_size)\n",
        "\n",
        "So embedding returns shape => (seq_len, batch_size, embedding_size)\n",
        "\n",
        "Then, a RNN expects:\n",
        "- Input (seq_len, batch_size, input_size)\n",
        "\n",
        "- output: output, (h_n, c_n)\n",
        "  - output: (seq_len, batch, num_directions * hidden_size)\n",
        "  - h_n: (num_layers * num_directions, batch, hidden_size)\n",
        "  - c_n:(num_layers * num_directions, batch, hidden_size) (only LSTM)\n",
        "> If it is bidireccional, multiply num_direcctions * hidden_size by 2.\n",
        "\n",
        "To sum up, in RNN layers:\n",
        "- input_size should be embedding_dim.\n",
        "- we should use hidden[-1,:,:] or \n",
        "  - hidden[-1,:,:] and hidden[-1,:,:] if it is bidirectional: \n",
        "  ```torch.cat((hidden[-2,:,:], hidden[-1,:,:]), dim = 1)```\n",
        "  - ```assert torch.equal(output[-1,:,:], hidden.squeeze(0))``` should be true\n",
        "\n"
      ]
    },
    {
      "cell_type": "markdown",
      "metadata": {
        "id": "OmzKDdTr-uaC",
        "colab_type": "text"
      },
      "source": [
        "Ver https://towardsdatascience.com/understand-how-to-use-namedtuple-and-dataclass-in-python-e82e535c3691"
      ]
    },
    {
      "cell_type": "markdown",
      "metadata": {
        "id": "br334LlKpr3A",
        "colab_type": "text"
      },
      "source": [
        "Este mixin is our Trainer. as pytorch-lighting "
      ]
    },
    {
      "cell_type": "code",
      "metadata": {
        "id": "0y4NpQYg2fMA",
        "colab_type": "code",
        "colab": {}
      },
      "source": [
        "class TrainerMixin():\n",
        "  def training_step(self, batch, loss_fn, metric):\n",
        "    inputs, labels = batch \n",
        "    out = self(inputs) # Generate predictions call forward method\n",
        "    loss = loss_fn(out, labels) # Calculate loss\n",
        "    acc = metric(out, labels)\n",
        "    return {'train_loss': loss, 'train_acc': acc}\n",
        "    \n",
        "  def validation_step(self, batch, loss_fn, metric):\n",
        "    inputs, labels = batch \n",
        "    out = self(inputs)          # Generate predictions call forward method\n",
        "    loss = loss_fn(out, labels) # Calculate loss\n",
        "    acc = metric(out, labels)   # Calculate accuracy\n",
        "    return {'val_loss': loss, 'val_acc': acc}\n",
        "        \n",
        "  def validation_epoch_end(self, outputs):\n",
        "    #TODO: refactor\n",
        "    batch_losses = [x['val_loss'] for x in outputs]\n",
        "    epoch_loss = torch.stack(batch_losses).mean()   # Combine losses\n",
        "\n",
        "    batch_accs = [x['val_acc'] for x in outputs]\n",
        "    epoch_acc = torch.stack(batch_accs).mean()      # Combine accuracies\n",
        "\n",
        "    return {'val_loss': epoch_loss.item(), 'val_acc': epoch_acc.item()}\n",
        "\n",
        "  def train_epoch_end(self, outputs):\n",
        "    #TODO: refactor\n",
        "    batch_losses = [x['train_loss'] for x in outputs]\n",
        "    epoch_loss = torch.stack(batch_losses).mean()   # Combine losses\n",
        "\n",
        "    batch_accs = [x['train_acc'] for x in outputs]\n",
        "    epoch_acc = torch.stack(batch_accs).mean()      # Combine accuracies\n",
        "\n",
        "    return {'train_loss': epoch_loss.item(), 'train_acc': epoch_acc.item()}\n",
        "    \n",
        "  def epoch_end(self, epoch, result,lrs):\n",
        "    last_lr = \"Last LR: {:.7f}\".format(lrs['last_lr'])\n",
        "    if (lrs['last_lr'] != lrs['lr']): last_lr=\"Update LR. From: {:.7f} to: {:.7f}\".format(lrs['last_lr'], lrs['lr'])\n",
        "    \n",
        "    print(\"Epoch [{}] || val_loss: {:.4f}, val_acc: {:.4f} || train_loss : {:.4f}, train_acc: {:.4f} || {}\".format(\n",
        "        epoch, \n",
        "        result['val_loss'], \n",
        "        result['val_acc'],\n",
        "        result['train_loss'], \n",
        "        result['train_acc'],\n",
        "        last_lr\n",
        "        )\n",
        "    )\n",
        "    print(\"*\"*25)\n"
      ],
      "execution_count": 405,
      "outputs": []
    },
    {
      "cell_type": "markdown",
      "metadata": {
        "id": "QQcXlWVcp2xN",
        "colab_type": "text"
      },
      "source": [
        "We need \"balanced_accuracy\", so we must refactor \"accuracy\" metric.\n",
        "[See this](https://www.kaggle.com/jonathanloscalzo/pytorch-text-classification-torchtext-lstm/edit)"
      ]
    },
    {
      "cell_type": "code",
      "metadata": {
        "id": "BXWUNILhV-Zc",
        "colab_type": "code",
        "colab": {}
      },
      "source": [
        "def accuracy(outputs, labels):\n",
        "    _, preds = torch.max(outputs, dim=1)\n",
        "    return torch.tensor(torch.sum(preds == labels).item() / len(preds))\n",
        "\n",
        "# TODO\n",
        "# def balanced_accuracy(outputs, labels):\n",
        "#     _, preds = torch.max(outputs, dim=1)\n",
        "#     return torch.tensor(torch.sum(preds == labels).item() / len(preds))\n",
        "\n",
        "\n",
        "def fit(epochs, model, train_iterator, val_loader, optimizer, loss_fn, scheduler=None, early_stopping=15):\n",
        "  history = []\n",
        "  stopping_counter = 0\n",
        "  best_metric = np.inf\n",
        "  best_model=model.state_dict()\n",
        "\n",
        "  for epoch in range(1,epochs+1):\n",
        "    # Training Phase \n",
        "    model.train()\n",
        "    train_epoch = []\n",
        "    last_lr = optimizer.param_groups[0]['lr']\n",
        "    for bix, batch in enumerate(train_iterator):\n",
        "        inputs = (batch.Pregunta, batch.Target)\n",
        "        optimizer.zero_grad()\n",
        "        step = model.training_step(inputs, loss_fn, accuracy)\n",
        "        train_epoch.append(step)\n",
        "        step[\"train_loss\"].backward()\n",
        "        optimizer.step()\n",
        "    \n",
        "    # Validation phase\n",
        "    model.eval()\n",
        "    outputs = []\n",
        "    for bix, batch in enumerate(val_loader):\n",
        "      inputs = (batch.Pregunta, batch.Target)\n",
        "      optimizer.zero_grad()\n",
        "      outputs.append(model.validation_step(inputs, loss_fn, accuracy))\n",
        "    \n",
        "    # Epoch Ended\n",
        "    results = model.validation_epoch_end(outputs)\n",
        "    results.update(model.train_epoch_end(train_epoch))\n",
        "\n",
        "    history.append(results)\n",
        "    lr = optimizer.param_groups[0]['lr']\n",
        "    model.epoch_end(epoch, results, {\"lr\": lr, \"last_lr\": last_lr})\n",
        "\n",
        "    # early stopping monitor\n",
        "    if (best_metric > results[\"val_loss\"]):\n",
        "      stopping_counter = 0 \n",
        "      best_metric=results[\"val_loss\"]\n",
        "      best_model=model.state_dict()\n",
        "    else: \n",
        "      stopping_counter += 1\n",
        "\n",
        "    # scheduler, reduce if corresponds (?) \n",
        "    if scheduler: \n",
        "      scheduler.step(results[\"val_loss\"])\n",
        "    \n",
        "    if stopping_counter == early_stopping:\n",
        "      print(\"Early stopping at Epoch: {}, Best [{}]: {}\".format(epoch, epoch-early_stopping, best_metric))\n",
        "      break\n",
        "\n",
        "  return history, best_model"
      ],
      "execution_count": 406,
      "outputs": []
    },
    {
      "cell_type": "markdown",
      "metadata": {
        "id": "L3hCvF7JplIl",
        "colab_type": "text"
      },
      "source": [
        "### Models\n",
        "Defined Architectures:\n",
        "- Lstm V1, v2, and v3 (GRU approach)\n",
        "- SimpleNN"
      ]
    },
    {
      "cell_type": "code",
      "metadata": {
        "id": "vS7o8-IoJvDa",
        "colab_type": "code",
        "colab": {}
      },
      "source": [
        "class ClassifierLSTM(nn.Module, TrainerMixin):\n",
        "  def __init__(self, embedding_dim, vocab_size, hidden_size, \n",
        "               num_classes, num_layers=1, bidirectional=False,\n",
        "               use_only_last_hidden=False):\n",
        "    super(ClassifierLSTM, self).__init__()\n",
        "\n",
        "    self.hidden_size = hidden_size\n",
        "    self.num_layers = num_layers\n",
        "    self.bi = 2 if bidirectional else 1\n",
        "    self.fc_inputs = hidden_size*num_layers*self.bi\n",
        "    self.use_only_last_hidden = use_only_last_hidden\n",
        "\n",
        "    # the words in our text are pushed into an Embedding layer,\n",
        "    # https://pytorch.org/docs/stable/nn.html#embedding\n",
        "    self.embedding = nn.Embedding(vocab_size, embedding_dim)\n",
        "    \n",
        "    # That’s then fed into a LSTM with hidden_size hidden features\n",
        "    self.encoder = nn.LSTM(\n",
        "      input_size=embedding_dim,\n",
        "      hidden_size=hidden_size, \n",
        "      num_layers=num_layers,\n",
        "      bidirectional=bidirectional\n",
        "    )\n",
        "\n",
        "    # the final hidden state is pushed through a standard fully connected layer\n",
        "    if use_only_last_hidden:\n",
        "      self.predictor = nn.Sequential(\n",
        "          # nn.Dropout(0.5),\n",
        "          # nn.BatchNorm1d(self.fc_inputs),\n",
        "          nn.Linear(self.fc_inputs, 400),\n",
        "          # nn.Dropout(0.5),\n",
        "          # nn.BatchNorm1d(400),\n",
        "          nn.Linear(400, num_classes)\n",
        "      )\n",
        "    else:\n",
        "      self.predictor = nn.Sequential(\n",
        "          # nn.Dropout(0.5),\n",
        "          # nn.BatchNorm1d(hidden_size),\n",
        "          nn.Linear(hidden_size, 400),\n",
        "          # nn.Dropout(0.5),\n",
        "          # nn.BatchNorm1d(400),\n",
        "          nn.Linear(400, num_classes)\n",
        "      )\n",
        "\n",
        "    self.init_weights()\n",
        "\n",
        "  def init_weights(self):\n",
        "    initrange = 0.5\n",
        "    self.embedding.weight.data.uniform_(-initrange, initrange)\n",
        "\n",
        "  def forward(self, seq):\n",
        "    output, (hidden,_) = self.encoder(self.embedding(seq))\n",
        "\n",
        "    if self.use_only_last_hidden:\n",
        "      return self.predictor(hidden.reshape(-1,self.fc_inputs))\n",
        "    else:\n",
        "      return self.predictor(hidden[-1].squeeze(0))\n",
        "\n"
      ],
      "execution_count": 407,
      "outputs": []
    },
    {
      "cell_type": "code",
      "metadata": {
        "id": "xQgyyyQiXIO0",
        "colab_type": "code",
        "colab": {}
      },
      "source": [
        "class ClassifierLSTMv2(nn.Module, TrainerMixin):\n",
        "  def __init__(self, embedding_dim, \n",
        "               vocab_size, \n",
        "               hidden_size, \n",
        "               num_classes, \n",
        "               num_layers=1):\n",
        "    super(ClassifierLSTMv2, self).__init__()\n",
        "\n",
        "    self.hidden_size = hidden_size\n",
        "    self.num_layers = num_layers\n",
        "    self.fc_inputs = hidden_size*num_layers*2\n",
        "\n",
        "    # the words in our text are pushed into an Embedding layer,\n",
        "    # https://pytorch.org/docs/stable/nn.html#embedding\n",
        "    self.embedding = nn.Embedding(vocab_size, embedding_dim)\n",
        "    \n",
        "    # That’s then fed into a LSTM with hidden_size hidden features\n",
        "    self.encoder = nn.LSTM(\n",
        "      input_size=embedding_dim,\n",
        "      hidden_size=hidden_size, \n",
        "      num_layers=num_layers,\n",
        "      bidirectional=True,\n",
        "    )\n",
        "\n",
        "    # Linear layer to get \"convolution output\" to be passed to Pooling Layer\n",
        "    self.predictor = nn.Sequential(\n",
        "        nn.Linear(self.fc_inputs, self.fc_inputs//2),\n",
        "        nn.Tanh(),\n",
        "        nn.Linear(self.fc_inputs//2, num_classes)\n",
        "    )\n",
        "    \n",
        "    self.init_weights()\n",
        "\n",
        "  def init_weights(self):\n",
        "    initrange = 0.5\n",
        "    self.embedding.weight.data.uniform_(-initrange, initrange)\n",
        "\n",
        "  def forward(self, seq):\n",
        "    embedded_sent = self.embedding(seq)\n",
        "    output, (hidden,_) = self.encoder(embedded_sent)\n",
        "    last = hidden.reshape(-1, model.fc_inputs)\n",
        "    return self.predictor(last)\n",
        "\n",
        " \n"
      ],
      "execution_count": 408,
      "outputs": []
    },
    {
      "cell_type": "code",
      "metadata": {
        "id": "QTvFIdK2AeMS",
        "colab_type": "code",
        "colab": {}
      },
      "source": [
        "class ClassifierLSTMv3(nn.Module, TrainerMixin):\n",
        "  def __init__(self, embedding_dim, \n",
        "               vocab_size, \n",
        "               hidden_size, \n",
        "               num_classes, \n",
        "               num_layers=1):\n",
        "    super(ClassifierLSTMv3, self).__init__()\n",
        "\n",
        "    self.hidden_size = hidden_size\n",
        "    self.num_layers = num_layers\n",
        "    self.fc_inputs = hidden_size*num_layers*2\n",
        "\n",
        "    # the words in our text are pushed into an Embedding layer,\n",
        "    # https://pytorch.org/docs/stable/nn.html#embedding\n",
        "    self.embedding = nn.Embedding(vocab_size, embedding_dim)\n",
        "    \n",
        "    # That’s then fed into a LSTM with hidden_size hidden features\n",
        "    self.encoder = nn.GRU(\n",
        "      input_size=embedding_dim,\n",
        "      hidden_size=hidden_size, \n",
        "      num_layers=num_layers,\n",
        "      bidirectional=True,\n",
        "      dropout=0.8\n",
        "    )\n",
        "\n",
        "    # Linear layer to get \"convolution output\" to be passed to Pooling Layer\n",
        "    self.predictor = nn.Sequential(\n",
        "        nn.Linear(self.hidden_size*2, self.hidden_size),\n",
        "        nn.Dropout(0.8),\n",
        "        # nn.Tanh(),\n",
        "        nn.Linear(self.hidden_size, num_classes)\n",
        "    )\n",
        "    \n",
        "    self.init_weights()\n",
        "\n",
        "  def init_weights(self):\n",
        "    initrange = 0.7\n",
        "    self.embedding.weight.data.uniform_(-initrange, initrange)\n",
        "\n",
        "  def forward(self, seq):\n",
        "    embedded_sent = self.embedding(seq)\n",
        "    output, hidden = self.encoder(embedded_sent)\n",
        "    last =  torch.cat((hidden[-2,:,:], hidden[-1,:,:]), dim = 1)\n",
        "    return self.predictor(last)"
      ],
      "execution_count": 409,
      "outputs": []
    },
    {
      "cell_type": "code",
      "metadata": {
        "id": "qZYD37R5ozdX",
        "colab_type": "code",
        "colab": {}
      },
      "source": [
        "class SimpleNN(nn.Module, TrainerMixin):\n",
        "  def __init__(self, config, vocab_size, word_embeddings=None):\n",
        "    super(SimpleNN, self).__init__()\n",
        "    self.config = config\n",
        "    \n",
        "    # Embedding Layer\n",
        "    self.embeddings = nn.Embedding(vocab_size, self.config.embed_size)\n",
        "    \n",
        "    if word_embeddings != None:\n",
        "      self.embeddings.weight = nn.Parameter(word_embeddings, requires_grad=False)\n",
        "    \n",
        "    self.fc = nn.Sequential(\n",
        "      nn.Dropout(0.8),\n",
        "\n",
        "      # Hidden Layer\n",
        "      nn.Linear(self.config.embed_size, self.config.hidden_size),\n",
        "      nn.Dropout(0.8),\n",
        "\n",
        "      # Output Layer\n",
        "      nn.Linear(self.config.hidden_size, self.config.output_size)\n",
        "    )\n",
        "    \n",
        "  def forward(self, x):\n",
        "    embedded_sent = self.embeddings(x).permute(1,0,2)\n",
        "    return self.fc(embedded_sent.mean(1))"
      ],
      "execution_count": 410,
      "outputs": []
    },
    {
      "cell_type": "code",
      "metadata": {
        "id": "HWL_2ZDBbim7",
        "colab_type": "code",
        "colab": {}
      },
      "source": [
        "def plot_loss(history):\n",
        "  val_loss = [result['val_loss'] for result in history]\n",
        "  train_loss = [result['train_loss'] for result in history]\n",
        "  plt.plot(val_loss, '-x', label='Val')\n",
        "  plt.plot(train_loss, '-x',label='Train')\n",
        "  plt.xlabel('epoch')\n",
        "  plt.ylabel('Loss')\n",
        "  plt.title('Loss vs. No. of epochs');\n",
        "  plt.legend()\n"
      ],
      "execution_count": 411,
      "outputs": []
    },
    {
      "cell_type": "code",
      "metadata": {
        "id": "5i0ceIHpe-dX",
        "colab_type": "code",
        "colab": {
          "base_uri": "https://localhost:8080/",
          "height": 53
        },
        "outputId": "255fe5f8-7878-4cd8-cf7f-9f5fce8783ad"
      },
      "source": [
        "print(LABEL.vocab.stoi)"
      ],
      "execution_count": 412,
      "outputs": [
        {
          "output_type": "stream",
          "text": [
            "defaultdict(None, {'Cat_132': 0, 'Cat_293': 1, 'Cat_1': 2, 'Cat_147': 3, 'Cat_223': 4, 'Cat_39': 5, 'Cat_129': 6, 'Cat_248': 7, 'Cat_303': 8, 'Cat_288': 9, 'Cat_251': 10, 'Cat_225': 11, 'Cat_96': 12, 'Cat_138': 13, 'Cat_342': 14, 'Cat_311': 15, 'Cat_316': 16, 'Cat_265': 17, 'Cat_337': 18, 'Cat_41': 19, 'Cat_228': 20, 'Cat_112': 21, 'Cat_115': 22, 'Cat_117': 23, 'Cat_166': 24, 'Cat_192': 25, 'Cat_50': 26, 'Cat_83': 27, 'Cat_279': 28, 'Cat_289': 29, 'Cat_56': 30, 'Cat_286': 31, 'Cat_287': 32, 'Cat_298': 33, 'Cat_301': 34, 'Cat_312': 35, 'Cat_135': 36, 'Cat_219': 37, 'Cat_236': 38, 'Cat_239': 39, 'Cat_246': 40, 'Cat_292': 41, 'Cat_294': 42, 'Cat_3': 43, 'Cat_322': 44, 'Cat_36': 45, 'Cat_91': 46, 'Cat_157': 47, 'Cat_172': 48, 'Cat_261': 49, 'Cat_31': 50, 'Cat_326': 51, 'Cat_61': 52})\n"
          ],
          "name": "stdout"
        }
      ]
    },
    {
      "cell_type": "markdown",
      "metadata": {
        "id": "7pPTcaAfpg51",
        "colab_type": "text"
      },
      "source": [
        "Probamos distintos modelos\n",
        "\n",
        "### Evaluate: ClassifierLSTMv3\n"
      ]
    },
    {
      "cell_type": "code",
      "metadata": {
        "id": "qYeseMdX0wuS",
        "colab_type": "code",
        "colab": {
          "base_uri": "https://localhost:8080/",
          "height": 216
        },
        "outputId": "c924858d-53f4-49d6-8b42-7dceead968be"
      },
      "source": [
        "model = ClassifierLSTMv3(\n",
        "  hidden_size=2000, \n",
        "  embedding_dim=300, \n",
        "  vocab_size=len(TWEET.vocab),\n",
        "  num_classes=data.Target.nunique(),\n",
        "  num_layers=1,\n",
        ")\n",
        "\n",
        "model.to('cuda')"
      ],
      "execution_count": 314,
      "outputs": [
        {
          "output_type": "stream",
          "text": [
            "/usr/local/lib/python3.6/dist-packages/torch/nn/modules/rnn.py:50: UserWarning: dropout option adds dropout after all but last recurrent layer, so non-zero dropout expects num_layers greater than 1, but got dropout=0.8 and num_layers=1\n",
            "  \"num_layers={}\".format(dropout, num_layers))\n"
          ],
          "name": "stderr"
        },
        {
          "output_type": "execute_result",
          "data": {
            "text/plain": [
              "ClassifierLSTMv3(\n",
              "  (embedding): Embedding(1233, 300)\n",
              "  (encoder): GRU(300, 2000, dropout=0.8, bidirectional=True)\n",
              "  (predictor): Sequential(\n",
              "    (0): Linear(in_features=4000, out_features=2000, bias=True)\n",
              "    (1): Dropout(p=0.8, inplace=False)\n",
              "    (2): Linear(in_features=2000, out_features=352, bias=True)\n",
              "  )\n",
              ")"
            ]
          },
          "metadata": {
            "tags": []
          },
          "execution_count": 314
        }
      ]
    },
    {
      "cell_type": "code",
      "metadata": {
        "id": "M1MGV1LbFNFO",
        "colab_type": "code",
        "colab": {}
      },
      "source": [
        "history = []"
      ],
      "execution_count": 315,
      "outputs": []
    },
    {
      "cell_type": "code",
      "metadata": {
        "id": "c7YLm5ILcECJ",
        "colab_type": "code",
        "colab": {}
      },
      "source": [
        "bests = []"
      ],
      "execution_count": 316,
      "outputs": []
    },
    {
      "cell_type": "code",
      "metadata": {
        "id": "q3Lklz7_6jLi",
        "colab_type": "code",
        "colab": {}
      },
      "source": [
        "# calculate gradients\n",
        "loss_fn = torch.nn.CrossEntropyLoss()"
      ],
      "execution_count": 317,
      "outputs": []
    },
    {
      "cell_type": "code",
      "metadata": {
        "id": "gns3DJZDPosO",
        "colab_type": "code",
        "colab": {}
      },
      "source": [
        "torch.cuda.empty_cache()"
      ],
      "execution_count": 318,
      "outputs": []
    },
    {
      "cell_type": "code",
      "metadata": {
        "id": "ifuikVtJ_WcV",
        "colab_type": "code",
        "colab": {}
      },
      "source": [
        "# update parameters by optimize\n",
        "optimizer = torch.optim.AdamW(model.parameters(), lr=0.0005)\n",
        "scheduler = torch.optim.lr_scheduler.ReduceLROnPlateau(optimizer, patience=8, verbose=True, min_lr=5e-5, factor=0.5)\n",
        "# scheduler = torch.optim.lr_scheduler.OneCycleLR(optimizer, max_lr=0.05, total_steps=len(train_iterator))\n",
        "# optimizer = torch.optim.SGD(model.parameters(), lr=0.5)\n",
        "# scheduler = torch.optim.lr_scheduler.OneCycleLR(optimizer, max_lr=1.0, steps_per_epoch=300, epochs=50)\n",
        "# scheduler = torch.optim.lr_scheduler.StepLR(optimizer, 5, gamma=0.5)\n",
        "# scheduler = None\n"
      ],
      "execution_count": 323,
      "outputs": []
    },
    {
      "cell_type": "code",
      "metadata": {
        "id": "jK2BUSYohmuj",
        "colab_type": "code",
        "colab": {
          "base_uri": "https://localhost:8080/",
          "height": 1000
        },
        "outputId": "95595c3d-1c26-4fda-f261-386bddb2ffc1"
      },
      "source": [
        "actual_history, best_model = fit(1000, model, train_iterator, valid_iterator, optimizer, loss_fn, scheduler, early_stopping=30)\n",
        "history += actual_history"
      ],
      "execution_count": 324,
      "outputs": [
        {
          "output_type": "stream",
          "text": [
            "Epoch [1] || val_loss: 5.3165, val_acc: 0.5339 || train_loss : 0.0024, train_acc: 0.9992 || Last LR: 0.0005000\n",
            "*************************\n",
            "Epoch [2] || val_loss: 5.9625, val_acc: 0.4873 || train_loss : 0.0089, train_acc: 0.9970 || Last LR: 0.0005000\n",
            "*************************\n",
            "Epoch [3] || val_loss: 6.0033, val_acc: 0.4976 || train_loss : 0.0209, train_acc: 0.9931 || Last LR: 0.0005000\n",
            "*************************\n",
            "Epoch [4] || val_loss: 6.5177, val_acc: 0.4873 || train_loss : 0.0128, train_acc: 0.9947 || Last LR: 0.0005000\n",
            "*************************\n",
            "Epoch [5] || val_loss: 5.7354, val_acc: 0.5126 || train_loss : 0.0323, train_acc: 0.9923 || Last LR: 0.0005000\n",
            "*************************\n",
            "Epoch [6] || val_loss: 6.1666, val_acc: 0.5150 || train_loss : 0.0146, train_acc: 0.9931 || Last LR: 0.0005000\n",
            "*************************\n",
            "Epoch [7] || val_loss: 6.1283, val_acc: 0.5132 || train_loss : 0.0151, train_acc: 0.9961 || Last LR: 0.0005000\n",
            "*************************\n",
            "Epoch [8] || val_loss: 6.1169, val_acc: 0.5331 || train_loss : 0.0167, train_acc: 0.9955 || Last LR: 0.0005000\n",
            "*************************\n",
            "Epoch [9] || val_loss: 5.9680, val_acc: 0.5243 || train_loss : 0.0151, train_acc: 0.9970 || Last LR: 0.0005000\n",
            "*************************\n",
            "Epoch [10] || val_loss: 6.1316, val_acc: 0.5247 || train_loss : 0.0100, train_acc: 0.9970 || Last LR: 0.0005000\n",
            "*************************\n",
            "Epoch    10: reducing learning rate of group 0 to 2.5000e-04.\n",
            "Epoch [11] || val_loss: 6.1104, val_acc: 0.5310 || train_loss : 0.0091, train_acc: 0.9970 || Last LR: 0.0002500\n",
            "*************************\n",
            "Epoch [12] || val_loss: 6.0063, val_acc: 0.5325 || train_loss : 0.0069, train_acc: 0.9984 || Last LR: 0.0002500\n",
            "*************************\n",
            "Epoch [13] || val_loss: 5.9795, val_acc: 0.5372 || train_loss : 0.0065, train_acc: 0.9969 || Last LR: 0.0002500\n",
            "*************************\n",
            "Epoch [14] || val_loss: 5.8788, val_acc: 0.5452 || train_loss : 0.0078, train_acc: 0.9962 || Last LR: 0.0002500\n",
            "*************************\n",
            "Epoch [15] || val_loss: 5.7805, val_acc: 0.5483 || train_loss : 0.0010, train_acc: 1.0000 || Last LR: 0.0002500\n",
            "*************************\n",
            "Epoch [16] || val_loss: 5.7014, val_acc: 0.5491 || train_loss : 0.0022, train_acc: 0.9992 || Last LR: 0.0002500\n",
            "*************************\n",
            "Epoch [17] || val_loss: 5.6501, val_acc: 0.5491 || train_loss : 0.0011, train_acc: 1.0000 || Last LR: 0.0002500\n",
            "*************************\n",
            "Epoch [18] || val_loss: 5.6040, val_acc: 0.5450 || train_loss : 0.0026, train_acc: 0.9986 || Last LR: 0.0002500\n",
            "*************************\n",
            "Epoch [19] || val_loss: 5.5910, val_acc: 0.5435 || train_loss : 0.0009, train_acc: 1.0000 || Last LR: 0.0002500\n",
            "*************************\n",
            "Epoch    19: reducing learning rate of group 0 to 1.2500e-04.\n",
            "Epoch [20] || val_loss: 5.5965, val_acc: 0.5339 || train_loss : 0.0016, train_acc: 0.9992 || Last LR: 0.0001250\n",
            "*************************\n",
            "Epoch [21] || val_loss: 5.6153, val_acc: 0.5362 || train_loss : 0.0002, train_acc: 1.0000 || Last LR: 0.0001250\n",
            "*************************\n",
            "Epoch [22] || val_loss: 5.6155, val_acc: 0.5394 || train_loss : 0.0009, train_acc: 1.0000 || Last LR: 0.0001250\n",
            "*************************\n",
            "Epoch [23] || val_loss: 5.6421, val_acc: 0.5441 || train_loss : 0.0008, train_acc: 0.9992 || Last LR: 0.0001250\n",
            "*************************\n",
            "Epoch [24] || val_loss: 5.6012, val_acc: 0.5448 || train_loss : 0.0010, train_acc: 1.0000 || Last LR: 0.0001250\n",
            "*************************\n",
            "Epoch [25] || val_loss: 5.5659, val_acc: 0.5456 || train_loss : 0.0008, train_acc: 1.0000 || Last LR: 0.0001250\n",
            "*************************\n",
            "Epoch [26] || val_loss: 5.5468, val_acc: 0.5433 || train_loss : 0.0006, train_acc: 1.0000 || Last LR: 0.0001250\n",
            "*************************\n",
            "Epoch [27] || val_loss: 5.5777, val_acc: 0.5386 || train_loss : 0.0001, train_acc: 1.0000 || Last LR: 0.0001250\n",
            "*************************\n",
            "Epoch [28] || val_loss: 5.5845, val_acc: 0.5474 || train_loss : 0.0004, train_acc: 1.0000 || Last LR: 0.0001250\n",
            "*************************\n",
            "Epoch    28: reducing learning rate of group 0 to 6.2500e-05.\n",
            "Epoch [29] || val_loss: 5.5937, val_acc: 0.5409 || train_loss : 0.0002, train_acc: 1.0000 || Last LR: 0.0000625\n",
            "*************************\n",
            "Epoch [30] || val_loss: 5.5957, val_acc: 0.5466 || train_loss : 0.0017, train_acc: 0.9986 || Last LR: 0.0000625\n",
            "*************************\n",
            "Epoch [31] || val_loss: 5.5877, val_acc: 0.5474 || train_loss : 0.0002, train_acc: 1.0000 || Last LR: 0.0000625\n",
            "*************************\n",
            "Early stopping at Epoch: 31, Best [1]: 5.3164801597595215\n"
          ],
          "name": "stdout"
        }
      ]
    },
    {
      "cell_type": "code",
      "metadata": {
        "id": "6A0ZZxQObujn",
        "colab_type": "code",
        "colab": {}
      },
      "source": [
        "# restauramos el mejor y continuamos de ahí\n",
        "bests.append(best_model)"
      ],
      "execution_count": 188,
      "outputs": []
    },
    {
      "cell_type": "code",
      "metadata": {
        "id": "oO_6Z3bFb5N-",
        "colab_type": "code",
        "colab": {
          "base_uri": "https://localhost:8080/",
          "height": 33
        },
        "outputId": "5aa40211-9ed8-4750-eaf1-b165586c8394"
      },
      "source": [
        "model.load_state_dict(bests[0])"
      ],
      "execution_count": 189,
      "outputs": [
        {
          "output_type": "execute_result",
          "data": {
            "text/plain": [
              "<All keys matched successfully>"
            ]
          },
          "metadata": {
            "tags": []
          },
          "execution_count": 189
        }
      ]
    },
    {
      "cell_type": "code",
      "metadata": {
        "id": "s3R4NFiF7PVT",
        "colab_type": "code",
        "colab": {
          "base_uri": "https://localhost:8080/",
          "height": 407
        },
        "outputId": "e1bad6e7-5568-4ae5-dc86-9d5037d8409c"
      },
      "source": [
        "optimizer = torch.optim.AdamW(model.parameters(), lr=0.0001)\n",
        "scheduler = torch.optim.lr_scheduler.ReduceLROnPlateau(optimizer, patience=8, verbose=True, min_lr=1e-6, factor=0.5)\n",
        "\n",
        "actual_history, best_model = fit(50, model, train_iterator, valid_iterator, optimizer, loss_fn, scheduler, early_stopping=10)\n",
        "history += actual_history"
      ],
      "execution_count": 190,
      "outputs": [
        {
          "output_type": "stream",
          "text": [
            "Epoch [1] || val_loss: 2.5944, val_acc: 0.5403 || train_loss : 0.0078, train_acc: 0.9992 || Last LR: 0.0001000\n",
            "*************************\n",
            "Epoch [2] || val_loss: 2.6717, val_acc: 0.5323 || train_loss : 0.0104, train_acc: 0.9978 || Last LR: 0.0001000\n",
            "*************************\n",
            "Epoch [3] || val_loss: 2.6842, val_acc: 0.5269 || train_loss : 0.0079, train_acc: 0.9992 || Last LR: 0.0001000\n",
            "*************************\n",
            "Epoch [4] || val_loss: 2.6860, val_acc: 0.5292 || train_loss : 0.0082, train_acc: 1.0000 || Last LR: 0.0001000\n",
            "*************************\n",
            "Epoch [5] || val_loss: 2.6848, val_acc: 0.5530 || train_loss : 0.0078, train_acc: 0.9984 || Last LR: 0.0001000\n",
            "*************************\n",
            "Epoch [6] || val_loss: 2.6974, val_acc: 0.5394 || train_loss : 0.0046, train_acc: 1.0000 || Last LR: 0.0001000\n",
            "*************************\n",
            "Epoch [7] || val_loss: 2.7090, val_acc: 0.5450 || train_loss : 0.0066, train_acc: 1.0000 || Last LR: 0.0001000\n",
            "*************************\n",
            "Epoch [8] || val_loss: 2.7065, val_acc: 0.5571 || train_loss : 0.0052, train_acc: 0.9992 || Last LR: 0.0001000\n",
            "*************************\n",
            "Epoch [9] || val_loss: 2.6940, val_acc: 0.5556 || train_loss : 0.0046, train_acc: 1.0000 || Last LR: 0.0001000\n",
            "*************************\n",
            "Epoch [10] || val_loss: 2.7143, val_acc: 0.5618 || train_loss : 0.0048, train_acc: 1.0000 || Last LR: 0.0001000\n",
            "*************************\n",
            "Epoch    10: reducing learning rate of group 0 to 5.0000e-05.\n",
            "Epoch [11] || val_loss: 2.7291, val_acc: 0.5595 || train_loss : 0.0040, train_acc: 1.0000 || Last LR: 0.0000500\n",
            "*************************\n",
            "Early stopping at Epoch: 11, Best [1]: 2.594381093978882\n"
          ],
          "name": "stdout"
        }
      ]
    },
    {
      "cell_type": "code",
      "metadata": {
        "id": "Fn-WzSLtuHSO",
        "colab_type": "code",
        "colab": {}
      },
      "source": [
        "bests.append(best_model)"
      ],
      "execution_count": 191,
      "outputs": []
    },
    {
      "cell_type": "code",
      "metadata": {
        "id": "mmBM3slHbii_",
        "colab_type": "code",
        "colab": {
          "base_uri": "https://localhost:8080/",
          "height": 298
        },
        "outputId": "e28e2ed7-962c-4931-cd97-7ff974adec67"
      },
      "source": [
        "plot_loss(history)"
      ],
      "execution_count": 325,
      "outputs": [
        {
          "output_type": "display_data",
          "data": {
            "image/png": "[encoded data removed]",
            "text/plain": [
              "<Figure size 432x288 with 1 Axes>"
            ]
          },
          "metadata": {
            "tags": []
          }
        }
      ]
    },
    {
      "cell_type": "code",
      "metadata": {
        "id": "S57jmSY7LhP0",
        "colab_type": "code",
        "colab": {}
      },
      "source": [
        "# torch.save(best_model, \"./best_model.pt\")"
      ],
      "execution_count": null,
      "outputs": []
    },
    {
      "cell_type": "code",
      "metadata": {
        "id": "r33I7rGeEX_Q",
        "colab_type": "code",
        "colab": {}
      },
      "source": [
        "torch.save(bests[0], 'drive/My Drive/Colab Notebooks/nlp-sadosky/model-lstm-v3.pt')"
      ],
      "execution_count": null,
      "outputs": []
    },
    {
      "cell_type": "code",
      "metadata": {
        "id": "hnWr0itlTao-",
        "colab_type": "code",
        "colab": {}
      },
      "source": [
        "# model.load_state_dict(best_model)"
      ],
      "execution_count": null,
      "outputs": []
    },
    {
      "cell_type": "markdown",
      "metadata": {
        "id": "39cNLw7YwHuX",
        "colab_type": "text"
      },
      "source": [
        "### Evaluate SimpleRNN"
      ]
    },
    {
      "cell_type": "code",
      "metadata": {
        "id": "jteEmDaQRl3I",
        "colab_type": "code",
        "colab": {
          "base_uri": "https://localhost:8080/",
          "height": 358
        },
        "outputId": "84dfc1f2-af8a-4387-94dc-2d938c33cb39"
      },
      "source": [
        "# !wget http://dcc.uchile.cl/~jperez/word-embeddings/glove-sbwc.i25.vec.gz"
      ],
      "execution_count": 67,
      "outputs": [
        {
          "output_type": "stream",
          "text": [
            "--2020-07-03 20:03:08--  http://dcc.uchile.cl/~jperez/word-embeddings/glove-sbwc.i25.vec.gz\n",
            "Resolving dcc.uchile.cl (dcc.uchile.cl)... 192.80.24.11\n",
            "Connecting to dcc.uchile.cl (dcc.uchile.cl)|192.80.24.11|:80... connected.\n",
            "HTTP request sent, awaiting response... 301 Moved Permanently\n",
            "Location: https://www.dcc.uchile.cl/~jperez/word-embeddings/glove-sbwc.i25.vec.gz [following]\n",
            "--2020-07-03 20:03:08--  https://www.dcc.uchile.cl/~jperez/word-embeddings/glove-sbwc.i25.vec.gz\n",
            "Resolving www.dcc.uchile.cl (www.dcc.uchile.cl)... 200.9.99.213, 192.80.24.11\n",
            "Connecting to www.dcc.uchile.cl (www.dcc.uchile.cl)|200.9.99.213|:443... connected.\n",
            "HTTP request sent, awaiting response... 302 Found\n",
            "Location: https://users.dcc.uchile.cl/~jperez/word-embeddings/glove-sbwc.i25.vec.gz [following]\n",
            "--2020-07-03 20:03:09--  https://users.dcc.uchile.cl/~jperez/word-embeddings/glove-sbwc.i25.vec.gz\n",
            "Resolving users.dcc.uchile.cl (users.dcc.uchile.cl)... 200.9.99.211, 192.80.24.4\n",
            "Connecting to users.dcc.uchile.cl (users.dcc.uchile.cl)|200.9.99.211|:443... connected.\n",
            "HTTP request sent, awaiting response... 200 OK\n",
            "Length: 949886421 (906M) [application/x-gzip]\n",
            "Saving to: ‘glove-sbwc.i25.vec.gz’\n",
            "\n",
            "glove-sbwc.i25.vec. 100%[===================>] 905.88M  6.98MB/s    in 3m 52s  \n",
            "\n",
            "2020-07-03 20:07:02 (3.90 MB/s) - ‘glove-sbwc.i25.vec.gz’ saved [949886421/949886421]\n",
            "\n"
          ],
          "name": "stdout"
        }
      ]
    },
    {
      "cell_type": "code",
      "metadata": {
        "id": "HMtIRXK0RKrw",
        "colab_type": "code",
        "colab": {
          "base_uri": "https://localhost:8080/",
          "height": 70
        },
        "outputId": "30419c29-4d33-4f90-aec6-c71c52db481d"
      },
      "source": [
        "# from gensim.models.keyedvectors import KeyedVectors\n",
        "# wordvectors_file_vec = 'glove-sbwc.i25.vec.gz'\n",
        "# cantidad = 100000\n",
        "# wordvectors = KeyedVectors.load_word2vec_format(wordvectors_file_vec, limit=cantidad)"
      ],
      "execution_count": 68,
      "outputs": [
        {
          "output_type": "stream",
          "text": [
            "/usr/local/lib/python3.6/dist-packages/smart_open/smart_open_lib.py:253: UserWarning: This function is deprecated, use smart_open.open instead. See the migration notes for details: https://github.com/RaRe-Technologies/smart_open/blob/master/README.rst#migrating-to-the-new-open-function\n",
            "  'See the migration notes for details: %s' % _MIGRATION_NOTES_URL\n"
          ],
          "name": "stderr"
        }
      ]
    },
    {
      "cell_type": "code",
      "metadata": {
        "id": "8oW15ktvRtof",
        "colab_type": "code",
        "colab": {}
      },
      "source": [
        "# embeddings = torch.FloatTensor(wordvectors.vectors)"
      ],
      "execution_count": 72,
      "outputs": []
    },
    {
      "cell_type": "code",
      "metadata": {
        "id": "0KrbPvKkwXoF",
        "colab_type": "code",
        "colab": {
          "base_uri": "https://localhost:8080/",
          "height": 163
        },
        "outputId": "7a37ee0c-7b90-4984-82c0-e18798b2d27e"
      },
      "source": [
        "class Config(object):\n",
        "  embed_size = 300\n",
        "  hidden_size = 2000\n",
        "  output_size = data_trainable.Target.nunique()\n",
        "  # max_epochs = 30\n",
        "  # lr = 0.5\n",
        "  # batch_size = 128\n",
        "\n",
        "config = Config()\n",
        "\n",
        "snn_model = SimpleNN(\n",
        "  config=config, \n",
        "  # word_embeddings = embeddings, \n",
        "  vocab_size=len(TWEET.vocab),\n",
        ")\n",
        "\n",
        "snn_model.to('cuda')"
      ],
      "execution_count": 413,
      "outputs": [
        {
          "output_type": "execute_result",
          "data": {
            "text/plain": [
              "SimpleNN(\n",
              "  (embeddings): Embedding(1233, 300)\n",
              "  (fc): Sequential(\n",
              "    (0): Dropout(p=0.8, inplace=False)\n",
              "    (1): Linear(in_features=300, out_features=2000, bias=True)\n",
              "    (2): Dropout(p=0.8, inplace=False)\n",
              "    (3): Linear(in_features=2000, out_features=53, bias=True)\n",
              "  )\n",
              ")"
            ]
          },
          "metadata": {
            "tags": []
          },
          "execution_count": 413
        }
      ]
    },
    {
      "cell_type": "code",
      "metadata": {
        "colab_type": "code",
        "id": "nGgourl00ixJ",
        "colab": {}
      },
      "source": [
        "loss_fn = torch.nn.CrossEntropyLoss()"
      ],
      "execution_count": 414,
      "outputs": []
    },
    {
      "cell_type": "code",
      "metadata": {
        "colab_type": "code",
        "id": "kKw_7-py0ixM",
        "colab": {}
      },
      "source": [
        "optimizer = torch.optim.AdamW(snn_model.parameters(), lr=0.01)\n",
        "scheduler = torch.optim.lr_scheduler.ReduceLROnPlateau(optimizer, patience=8, verbose=True, min_lr=1e-6, factor=0.5)"
      ],
      "execution_count": 415,
      "outputs": []
    },
    {
      "cell_type": "code",
      "metadata": {
        "id": "HzxaJb1JzbEi",
        "colab_type": "code",
        "colab": {}
      },
      "source": [
        "history_nn = []"
      ],
      "execution_count": 416,
      "outputs": []
    },
    {
      "cell_type": "code",
      "metadata": {
        "id": "LUwpZpvx1Kzj",
        "colab_type": "code",
        "colab": {
          "base_uri": "https://localhost:8080/",
          "height": 1000
        },
        "outputId": "d41aff00-3d06-4080-d350-c31c918fcd79"
      },
      "source": [
        "actual_history, best_model = fit(150, snn_model, train_iterator, valid_iterator, optimizer, loss_fn, scheduler, early_stopping=np.inf)\n",
        "history_nn += actual_history"
      ],
      "execution_count": 417,
      "outputs": [
        {
          "output_type": "stream",
          "text": [
            "Epoch [1] || val_loss: 12.9259, val_acc: 0.0305 || train_loss : 12.9145, train_acc: 0.0288 || Last LR: 0.0100000\n",
            "*************************\n",
            "Epoch [2] || val_loss: 13.0645, val_acc: 0.0188 || train_loss : 18.1692, train_acc: 0.0225 || Last LR: 0.0100000\n",
            "*************************\n",
            "Epoch [3] || val_loss: 10.3141, val_acc: 0.0449 || train_loss : 15.9676, train_acc: 0.0342 || Last LR: 0.0100000\n",
            "*************************\n",
            "Epoch [4] || val_loss: 8.6227, val_acc: 0.0352 || train_loss : 16.3744, train_acc: 0.0222 || Last LR: 0.0100000\n",
            "*************************\n",
            "Epoch [5] || val_loss: 6.3318, val_acc: 0.0816 || train_loss : 14.3087, train_acc: 0.0331 || Last LR: 0.0100000\n",
            "*************************\n",
            "Epoch [6] || val_loss: 6.4331, val_acc: 0.0375 || train_loss : 13.7432, train_acc: 0.0280 || Last LR: 0.0100000\n",
            "*************************\n",
            "Epoch [7] || val_loss: 6.6919, val_acc: 0.0344 || train_loss : 13.0176, train_acc: 0.0433 || Last LR: 0.0100000\n",
            "*************************\n",
            "Epoch [8] || val_loss: 5.3403, val_acc: 0.0740 || train_loss : 12.6464, train_acc: 0.0369 || Last LR: 0.0100000\n",
            "*************************\n",
            "Epoch [9] || val_loss: 5.5218, val_acc: 0.1726 || train_loss : 11.7925, train_acc: 0.0449 || Last LR: 0.0100000\n",
            "*************************\n",
            "Epoch [10] || val_loss: 4.4761, val_acc: 0.1297 || train_loss : 11.4651, train_acc: 0.0442 || Last LR: 0.0100000\n",
            "*************************\n",
            "Epoch [11] || val_loss: 4.8804, val_acc: 0.1851 || train_loss : 10.5932, train_acc: 0.0530 || Last LR: 0.0100000\n",
            "*************************\n",
            "Epoch [12] || val_loss: 3.6258, val_acc: 0.2134 || train_loss : 10.5607, train_acc: 0.0667 || Last LR: 0.0100000\n",
            "*************************\n",
            "Epoch [13] || val_loss: 4.2500, val_acc: 0.2150 || train_loss : 9.6458, train_acc: 0.0739 || Last LR: 0.0100000\n",
            "*************************\n",
            "Epoch [14] || val_loss: 3.4645, val_acc: 0.2581 || train_loss : 8.6403, train_acc: 0.0775 || Last LR: 0.0100000\n",
            "*************************\n",
            "Epoch [15] || val_loss: 3.4047, val_acc: 0.2825 || train_loss : 8.0225, train_acc: 0.1020 || Last LR: 0.0100000\n",
            "*************************\n",
            "Epoch [16] || val_loss: 3.2821, val_acc: 0.2939 || train_loss : 7.2965, train_acc: 0.1239 || Last LR: 0.0100000\n",
            "*************************\n",
            "Epoch [17] || val_loss: 3.1501, val_acc: 0.2966 || train_loss : 6.6019, train_acc: 0.1258 || Last LR: 0.0100000\n",
            "*************************\n",
            "Epoch [18] || val_loss: 2.6983, val_acc: 0.3599 || train_loss : 6.3153, train_acc: 0.1314 || Last LR: 0.0100000\n",
            "*************************\n",
            "Epoch [19] || val_loss: 2.7045, val_acc: 0.3741 || train_loss : 5.6722, train_acc: 0.1403 || Last LR: 0.0100000\n",
            "*************************\n",
            "Epoch [20] || val_loss: 2.4217, val_acc: 0.3839 || train_loss : 5.1080, train_acc: 0.1772 || Last LR: 0.0100000\n",
            "*************************\n",
            "Epoch [21] || val_loss: 2.2843, val_acc: 0.4313 || train_loss : 4.6706, train_acc: 0.1985 || Last LR: 0.0100000\n",
            "*************************\n",
            "Epoch [22] || val_loss: 2.1487, val_acc: 0.4382 || train_loss : 4.1564, train_acc: 0.2407 || Last LR: 0.0100000\n",
            "*************************\n",
            "Epoch [23] || val_loss: 1.9633, val_acc: 0.4809 || train_loss : 3.7438, train_acc: 0.2646 || Last LR: 0.0100000\n",
            "*************************\n",
            "Epoch [24] || val_loss: 1.9224, val_acc: 0.4657 || train_loss : 3.2962, train_acc: 0.2823 || Last LR: 0.0100000\n",
            "*************************\n",
            "Epoch [25] || val_loss: 1.8864, val_acc: 0.4995 || train_loss : 3.2068, train_acc: 0.3037 || Last LR: 0.0100000\n",
            "*************************\n",
            "Epoch [26] || val_loss: 1.8191, val_acc: 0.5122 || train_loss : 2.9852, train_acc: 0.3324 || Last LR: 0.0100000\n",
            "*************************\n",
            "Epoch [27] || val_loss: 1.7273, val_acc: 0.5321 || train_loss : 2.6303, train_acc: 0.3611 || Last LR: 0.0100000\n",
            "*************************\n",
            "Epoch [28] || val_loss: 1.6847, val_acc: 0.5499 || train_loss : 2.4809, train_acc: 0.3782 || Last LR: 0.0100000\n",
            "*************************\n",
            "Epoch [29] || val_loss: 1.6315, val_acc: 0.5561 || train_loss : 2.3836, train_acc: 0.3987 || Last LR: 0.0100000\n",
            "*************************\n",
            "Epoch [30] || val_loss: 1.5779, val_acc: 0.5846 || train_loss : 2.1811, train_acc: 0.4480 || Last LR: 0.0100000\n",
            "*************************\n",
            "Epoch [31] || val_loss: 1.5838, val_acc: 0.5825 || train_loss : 2.0540, train_acc: 0.4494 || Last LR: 0.0100000\n",
            "*************************\n",
            "Epoch [32] || val_loss: 1.5195, val_acc: 0.6001 || train_loss : 1.9437, train_acc: 0.4805 || Last LR: 0.0100000\n",
            "*************************\n",
            "Epoch [33] || val_loss: 1.4812, val_acc: 0.6018 || train_loss : 1.8638, train_acc: 0.4889 || Last LR: 0.0100000\n",
            "*************************\n",
            "Epoch [34] || val_loss: 1.4759, val_acc: 0.5940 || train_loss : 1.7634, train_acc: 0.5241 || Last LR: 0.0100000\n",
            "*************************\n",
            "Epoch [35] || val_loss: 1.4960, val_acc: 0.5854 || train_loss : 1.7388, train_acc: 0.5172 || Last LR: 0.0100000\n",
            "*************************\n",
            "Epoch [36] || val_loss: 1.4507, val_acc: 0.6120 || train_loss : 1.6662, train_acc: 0.5359 || Last LR: 0.0100000\n",
            "*************************\n",
            "Epoch [37] || val_loss: 1.4146, val_acc: 0.6284 || train_loss : 1.5179, train_acc: 0.5670 || Last LR: 0.0100000\n",
            "*************************\n",
            "Epoch [38] || val_loss: 1.3781, val_acc: 0.6213 || train_loss : 1.4763, train_acc: 0.5634 || Last LR: 0.0100000\n",
            "*************************\n",
            "Epoch [39] || val_loss: 1.3847, val_acc: 0.6245 || train_loss : 1.4048, train_acc: 0.5936 || Last LR: 0.0100000\n",
            "*************************\n",
            "Epoch [40] || val_loss: 1.3807, val_acc: 0.6221 || train_loss : 1.3174, train_acc: 0.6110 || Last LR: 0.0100000\n",
            "*************************\n",
            "Epoch [41] || val_loss: 1.3753, val_acc: 0.6268 || train_loss : 1.3024, train_acc: 0.6082 || Last LR: 0.0100000\n",
            "*************************\n",
            "Epoch [42] || val_loss: 1.3412, val_acc: 0.6393 || train_loss : 1.2175, train_acc: 0.6480 || Last LR: 0.0100000\n",
            "*************************\n",
            "Epoch [43] || val_loss: 1.3332, val_acc: 0.6495 || train_loss : 1.1687, train_acc: 0.6505 || Last LR: 0.0100000\n",
            "*************************\n",
            "Epoch [44] || val_loss: 1.3179, val_acc: 0.6565 || train_loss : 1.1609, train_acc: 0.6530 || Last LR: 0.0100000\n",
            "*************************\n",
            "Epoch [45] || val_loss: 1.2903, val_acc: 0.6534 || train_loss : 1.1411, train_acc: 0.6632 || Last LR: 0.0100000\n",
            "*************************\n",
            "Epoch [46] || val_loss: 1.2960, val_acc: 0.6510 || train_loss : 1.0709, train_acc: 0.6780 || Last LR: 0.0100000\n",
            "*************************\n",
            "Epoch [47] || val_loss: 1.3071, val_acc: 0.6557 || train_loss : 1.0752, train_acc: 0.6832 || Last LR: 0.0100000\n",
            "*************************\n",
            "Epoch [48] || val_loss: 1.2923, val_acc: 0.6620 || train_loss : 0.9670, train_acc: 0.7232 || Last LR: 0.0100000\n",
            "*************************\n",
            "Epoch [49] || val_loss: 1.2789, val_acc: 0.6612 || train_loss : 0.9411, train_acc: 0.7034 || Last LR: 0.0100000\n",
            "*************************\n",
            "Epoch [50] || val_loss: 1.2783, val_acc: 0.6573 || train_loss : 0.9481, train_acc: 0.6940 || Last LR: 0.0100000\n",
            "*************************\n",
            "Epoch [51] || val_loss: 1.2595, val_acc: 0.6534 || train_loss : 0.9007, train_acc: 0.7224 || Last LR: 0.0100000\n",
            "*************************\n",
            "Epoch [52] || val_loss: 1.2264, val_acc: 0.6729 || train_loss : 0.8770, train_acc: 0.7434 || Last LR: 0.0100000\n",
            "*************************\n",
            "Epoch [53] || val_loss: 1.2179, val_acc: 0.6752 || train_loss : 0.8415, train_acc: 0.7457 || Last LR: 0.0100000\n",
            "*************************\n",
            "Epoch [54] || val_loss: 1.2382, val_acc: 0.6596 || train_loss : 0.8407, train_acc: 0.7345 || Last LR: 0.0100000\n",
            "*************************\n",
            "Epoch [55] || val_loss: 1.2525, val_acc: 0.6612 || train_loss : 0.8727, train_acc: 0.7391 || Last LR: 0.0100000\n",
            "*************************\n",
            "Epoch [56] || val_loss: 1.2278, val_acc: 0.6579 || train_loss : 0.7827, train_acc: 0.7641 || Last LR: 0.0100000\n",
            "*************************\n",
            "Epoch [57] || val_loss: 1.2285, val_acc: 0.6680 || train_loss : 0.7754, train_acc: 0.7479 || Last LR: 0.0100000\n",
            "*************************\n",
            "Epoch [58] || val_loss: 1.2455, val_acc: 0.6696 || train_loss : 0.7184, train_acc: 0.7698 || Last LR: 0.0100000\n",
            "*************************\n",
            "Epoch [59] || val_loss: 1.2616, val_acc: 0.6665 || train_loss : 0.8028, train_acc: 0.7445 || Last LR: 0.0100000\n",
            "*************************\n",
            "Epoch [60] || val_loss: 1.2656, val_acc: 0.6704 || train_loss : 0.6878, train_acc: 0.7788 || Last LR: 0.0100000\n",
            "*************************\n",
            "Epoch [61] || val_loss: 1.2724, val_acc: 0.6633 || train_loss : 0.6802, train_acc: 0.7835 || Last LR: 0.0100000\n",
            "*************************\n",
            "Epoch [62] || val_loss: 1.2680, val_acc: 0.6735 || train_loss : 0.7085, train_acc: 0.7777 || Last LR: 0.0100000\n",
            "*************************\n",
            "Epoch    62: reducing learning rate of group 0 to 5.0000e-03.\n",
            "Epoch [63] || val_loss: 1.2611, val_acc: 0.6758 || train_loss : 0.6154, train_acc: 0.8078 || Last LR: 0.0050000\n",
            "*************************\n",
            "Epoch [64] || val_loss: 1.2399, val_acc: 0.6798 || train_loss : 0.6787, train_acc: 0.7787 || Last LR: 0.0050000\n",
            "*************************\n",
            "Epoch [65] || val_loss: 1.2293, val_acc: 0.6758 || train_loss : 0.6093, train_acc: 0.8140 || Last LR: 0.0050000\n",
            "*************************\n",
            "Epoch [66] || val_loss: 1.2271, val_acc: 0.6798 || train_loss : 0.6543, train_acc: 0.7974 || Last LR: 0.0050000\n",
            "*************************\n",
            "Epoch [67] || val_loss: 1.2329, val_acc: 0.6790 || train_loss : 0.6159, train_acc: 0.8104 || Last LR: 0.0050000\n",
            "*************************\n",
            "Epoch [68] || val_loss: 1.2293, val_acc: 0.6844 || train_loss : 0.6027, train_acc: 0.7949 || Last LR: 0.0050000\n",
            "*************************\n",
            "Epoch [69] || val_loss: 1.2295, val_acc: 0.6774 || train_loss : 0.5369, train_acc: 0.8290 || Last LR: 0.0050000\n",
            "*************************\n",
            "Epoch [70] || val_loss: 1.2265, val_acc: 0.6766 || train_loss : 0.5009, train_acc: 0.8465 || Last LR: 0.0050000\n",
            "*************************\n",
            "Epoch [71] || val_loss: 1.2292, val_acc: 0.6805 || train_loss : 0.5432, train_acc: 0.8306 || Last LR: 0.0050000\n",
            "*************************\n",
            "Epoch    71: reducing learning rate of group 0 to 2.5000e-03.\n",
            "Epoch [72] || val_loss: 1.2288, val_acc: 0.6844 || train_loss : 0.5107, train_acc: 0.8445 || Last LR: 0.0025000\n",
            "*************************\n",
            "Epoch [73] || val_loss: 1.2258, val_acc: 0.6868 || train_loss : 0.5567, train_acc: 0.8234 || Last LR: 0.0025000\n",
            "*************************\n",
            "Epoch [74] || val_loss: 1.2237, val_acc: 0.6837 || train_loss : 0.5345, train_acc: 0.8284 || Last LR: 0.0025000\n",
            "*************************\n",
            "Epoch [75] || val_loss: 1.2203, val_acc: 0.6829 || train_loss : 0.5047, train_acc: 0.8400 || Last LR: 0.0025000\n",
            "*************************\n",
            "Epoch [76] || val_loss: 1.2179, val_acc: 0.6829 || train_loss : 0.4712, train_acc: 0.8399 || Last LR: 0.0025000\n",
            "*************************\n",
            "Epoch [77] || val_loss: 1.2204, val_acc: 0.6844 || train_loss : 0.5441, train_acc: 0.8404 || Last LR: 0.0025000\n",
            "*************************\n",
            "Epoch [78] || val_loss: 1.2238, val_acc: 0.6915 || train_loss : 0.5050, train_acc: 0.8400 || Last LR: 0.0025000\n",
            "*************************\n",
            "Epoch [79] || val_loss: 1.2273, val_acc: 0.6883 || train_loss : 0.5753, train_acc: 0.8171 || Last LR: 0.0025000\n",
            "*************************\n",
            "Epoch [80] || val_loss: 1.2279, val_acc: 0.6899 || train_loss : 0.5336, train_acc: 0.8434 || Last LR: 0.0025000\n",
            "*************************\n",
            "Epoch    80: reducing learning rate of group 0 to 1.2500e-03.\n",
            "Epoch [81] || val_loss: 1.2265, val_acc: 0.6891 || train_loss : 0.5383, train_acc: 0.8296 || Last LR: 0.0012500\n",
            "*************************\n",
            "Epoch [82] || val_loss: 1.2237, val_acc: 0.6907 || train_loss : 0.4489, train_acc: 0.8609 || Last LR: 0.0012500\n",
            "*************************\n",
            "Epoch [83] || val_loss: 1.2229, val_acc: 0.6923 || train_loss : 0.4657, train_acc: 0.8564 || Last LR: 0.0012500\n",
            "*************************\n",
            "Epoch [84] || val_loss: 1.2208, val_acc: 0.6923 || train_loss : 0.5003, train_acc: 0.8409 || Last LR: 0.0012500\n",
            "*************************\n",
            "Epoch [85] || val_loss: 1.2204, val_acc: 0.6907 || train_loss : 0.4513, train_acc: 0.8606 || Last LR: 0.0012500\n",
            "*************************\n",
            "Epoch [86] || val_loss: 1.2232, val_acc: 0.6907 || train_loss : 0.4931, train_acc: 0.8432 || Last LR: 0.0012500\n",
            "*************************\n",
            "Epoch [87] || val_loss: 1.2251, val_acc: 0.6915 || train_loss : 0.4843, train_acc: 0.8420 || Last LR: 0.0012500\n",
            "*************************\n",
            "Epoch [88] || val_loss: 1.2242, val_acc: 0.6907 || train_loss : 0.4527, train_acc: 0.8617 || Last LR: 0.0012500\n",
            "*************************\n",
            "Epoch [89] || val_loss: 1.2238, val_acc: 0.6899 || train_loss : 0.4503, train_acc: 0.8545 || Last LR: 0.0012500\n",
            "*************************\n",
            "Epoch    89: reducing learning rate of group 0 to 6.2500e-04.\n",
            "Epoch [90] || val_loss: 1.2241, val_acc: 0.6899 || train_loss : 0.4777, train_acc: 0.8520 || Last LR: 0.0006250\n",
            "*************************\n",
            "Epoch [91] || val_loss: 1.2248, val_acc: 0.6876 || train_loss : 0.4763, train_acc: 0.8367 || Last LR: 0.0006250\n",
            "*************************\n",
            "Epoch [92] || val_loss: 1.2246, val_acc: 0.6883 || train_loss : 0.3972, train_acc: 0.8725 || Last LR: 0.0006250\n",
            "*************************\n",
            "Epoch [93] || val_loss: 1.2238, val_acc: 0.6899 || train_loss : 0.4044, train_acc: 0.8700 || Last LR: 0.0006250\n",
            "*************************\n",
            "Epoch [94] || val_loss: 1.2220, val_acc: 0.6899 || train_loss : 0.4726, train_acc: 0.8349 || Last LR: 0.0006250\n",
            "*************************\n",
            "Epoch [95] || val_loss: 1.2206, val_acc: 0.6907 || train_loss : 0.4511, train_acc: 0.8606 || Last LR: 0.0006250\n",
            "*************************\n",
            "Epoch [96] || val_loss: 1.2208, val_acc: 0.6915 || train_loss : 0.4395, train_acc: 0.8564 || Last LR: 0.0006250\n",
            "*************************\n",
            "Epoch [97] || val_loss: 1.2208, val_acc: 0.6915 || train_loss : 0.4145, train_acc: 0.8625 || Last LR: 0.0006250\n",
            "*************************\n",
            "Epoch [98] || val_loss: 1.2201, val_acc: 0.6899 || train_loss : 0.4579, train_acc: 0.8609 || Last LR: 0.0006250\n",
            "*************************\n",
            "Epoch    98: reducing learning rate of group 0 to 3.1250e-04.\n",
            "Epoch [99] || val_loss: 1.2200, val_acc: 0.6899 || train_loss : 0.4569, train_acc: 0.8457 || Last LR: 0.0003125\n",
            "*************************\n",
            "Epoch [100] || val_loss: 1.2201, val_acc: 0.6899 || train_loss : 0.4686, train_acc: 0.8540 || Last LR: 0.0003125\n",
            "*************************\n",
            "Epoch [101] || val_loss: 1.2198, val_acc: 0.6907 || train_loss : 0.4666, train_acc: 0.8528 || Last LR: 0.0003125\n",
            "*************************\n",
            "Epoch [102] || val_loss: 1.2197, val_acc: 0.6930 || train_loss : 0.4725, train_acc: 0.8553 || Last LR: 0.0003125\n",
            "*************************\n",
            "Epoch [103] || val_loss: 1.2187, val_acc: 0.6938 || train_loss : 0.4705, train_acc: 0.8490 || Last LR: 0.0003125\n",
            "*************************\n",
            "Epoch [104] || val_loss: 1.2180, val_acc: 0.6954 || train_loss : 0.4592, train_acc: 0.8673 || Last LR: 0.0003125\n",
            "*************************\n",
            "Epoch [105] || val_loss: 1.2179, val_acc: 0.6962 || train_loss : 0.4517, train_acc: 0.8617 || Last LR: 0.0003125\n",
            "*************************\n",
            "Epoch [106] || val_loss: 1.2180, val_acc: 0.6969 || train_loss : 0.4004, train_acc: 0.8718 || Last LR: 0.0003125\n",
            "*************************\n",
            "Epoch [107] || val_loss: 1.2183, val_acc: 0.6954 || train_loss : 0.4286, train_acc: 0.8654 || Last LR: 0.0003125\n",
            "*************************\n",
            "Epoch   107: reducing learning rate of group 0 to 1.5625e-04.\n",
            "Epoch [108] || val_loss: 1.2185, val_acc: 0.6946 || train_loss : 0.4330, train_acc: 0.8585 || Last LR: 0.0001563\n",
            "*************************\n",
            "Epoch [109] || val_loss: 1.2188, val_acc: 0.6954 || train_loss : 0.4618, train_acc: 0.8611 || Last LR: 0.0001563\n",
            "*************************\n",
            "Epoch [110] || val_loss: 1.2192, val_acc: 0.6954 || train_loss : 0.4417, train_acc: 0.8582 || Last LR: 0.0001563\n",
            "*************************\n",
            "Epoch [111] || val_loss: 1.2195, val_acc: 0.6946 || train_loss : 0.4430, train_acc: 0.8521 || Last LR: 0.0001563\n",
            "*************************\n",
            "Epoch [112] || val_loss: 1.2196, val_acc: 0.6954 || train_loss : 0.4830, train_acc: 0.8506 || Last LR: 0.0001563\n",
            "*************************\n",
            "Epoch [113] || val_loss: 1.2201, val_acc: 0.6954 || train_loss : 0.4542, train_acc: 0.8590 || Last LR: 0.0001563\n",
            "*************************\n",
            "Epoch [114] || val_loss: 1.2205, val_acc: 0.6954 || train_loss : 0.4406, train_acc: 0.8645 || Last LR: 0.0001563\n",
            "*************************\n",
            "Epoch [115] || val_loss: 1.2208, val_acc: 0.6954 || train_loss : 0.4282, train_acc: 0.8623 || Last LR: 0.0001563\n",
            "*************************\n",
            "Epoch [116] || val_loss: 1.2212, val_acc: 0.6954 || train_loss : 0.4607, train_acc: 0.8514 || Last LR: 0.0001563\n",
            "*************************\n",
            "Epoch   116: reducing learning rate of group 0 to 7.8125e-05.\n",
            "Epoch [117] || val_loss: 1.2214, val_acc: 0.6954 || train_loss : 0.4466, train_acc: 0.8561 || Last LR: 0.0000781\n",
            "*************************\n",
            "Epoch [118] || val_loss: 1.2216, val_acc: 0.6954 || train_loss : 0.4375, train_acc: 0.8745 || Last LR: 0.0000781\n",
            "*************************\n",
            "Epoch [119] || val_loss: 1.2217, val_acc: 0.6954 || train_loss : 0.4406, train_acc: 0.8548 || Last LR: 0.0000781\n",
            "*************************\n",
            "Epoch [120] || val_loss: 1.2219, val_acc: 0.6954 || train_loss : 0.4278, train_acc: 0.8651 || Last LR: 0.0000781\n",
            "*************************\n",
            "Epoch [121] || val_loss: 1.2221, val_acc: 0.6954 || train_loss : 0.4500, train_acc: 0.8579 || Last LR: 0.0000781\n",
            "*************************\n",
            "Epoch [122] || val_loss: 1.2222, val_acc: 0.6954 || train_loss : 0.4341, train_acc: 0.8731 || Last LR: 0.0000781\n",
            "*************************\n",
            "Epoch [123] || val_loss: 1.2223, val_acc: 0.6954 || train_loss : 0.4294, train_acc: 0.8534 || Last LR: 0.0000781\n",
            "*************************\n",
            "Epoch [124] || val_loss: 1.2223, val_acc: 0.6954 || train_loss : 0.4698, train_acc: 0.8459 || Last LR: 0.0000781\n",
            "*************************\n",
            "Epoch [125] || val_loss: 1.2222, val_acc: 0.6954 || train_loss : 0.4512, train_acc: 0.8631 || Last LR: 0.0000781\n",
            "*************************\n",
            "Epoch   125: reducing learning rate of group 0 to 3.9063e-05.\n",
            "Epoch [126] || val_loss: 1.2222, val_acc: 0.6954 || train_loss : 0.4601, train_acc: 0.8442 || Last LR: 0.0000391\n",
            "*************************\n",
            "Epoch [127] || val_loss: 1.2222, val_acc: 0.6954 || train_loss : 0.4318, train_acc: 0.8606 || Last LR: 0.0000391\n",
            "*************************\n",
            "Epoch [128] || val_loss: 1.2221, val_acc: 0.6954 || train_loss : 0.4649, train_acc: 0.8449 || Last LR: 0.0000391\n",
            "*************************\n",
            "Epoch [129] || val_loss: 1.2220, val_acc: 0.6946 || train_loss : 0.4435, train_acc: 0.8687 || Last LR: 0.0000391\n",
            "*************************\n",
            "Epoch [130] || val_loss: 1.2219, val_acc: 0.6946 || train_loss : 0.4413, train_acc: 0.8550 || Last LR: 0.0000391\n",
            "*************************\n",
            "Epoch [131] || val_loss: 1.2219, val_acc: 0.6946 || train_loss : 0.4319, train_acc: 0.8568 || Last LR: 0.0000391\n",
            "*************************\n",
            "Epoch [132] || val_loss: 1.2219, val_acc: 0.6946 || train_loss : 0.4344, train_acc: 0.8639 || Last LR: 0.0000391\n",
            "*************************\n",
            "Epoch [133] || val_loss: 1.2219, val_acc: 0.6946 || train_loss : 0.4449, train_acc: 0.8557 || Last LR: 0.0000391\n",
            "*************************\n",
            "Epoch [134] || val_loss: 1.2220, val_acc: 0.6946 || train_loss : 0.4386, train_acc: 0.8603 || Last LR: 0.0000391\n",
            "*************************\n",
            "Epoch   134: reducing learning rate of group 0 to 1.9531e-05.\n",
            "Epoch [135] || val_loss: 1.2220, val_acc: 0.6946 || train_loss : 0.4641, train_acc: 0.8442 || Last LR: 0.0000195\n",
            "*************************\n",
            "Epoch [136] || val_loss: 1.2220, val_acc: 0.6946 || train_loss : 0.4309, train_acc: 0.8603 || Last LR: 0.0000195\n",
            "*************************\n",
            "Epoch [137] || val_loss: 1.2221, val_acc: 0.6946 || train_loss : 0.4334, train_acc: 0.8623 || Last LR: 0.0000195\n",
            "*************************\n",
            "Epoch [138] || val_loss: 1.2221, val_acc: 0.6946 || train_loss : 0.4445, train_acc: 0.8720 || Last LR: 0.0000195\n",
            "*************************\n",
            "Epoch [139] || val_loss: 1.2221, val_acc: 0.6946 || train_loss : 0.4117, train_acc: 0.8656 || Last LR: 0.0000195\n",
            "*************************\n",
            "Epoch [140] || val_loss: 1.2221, val_acc: 0.6946 || train_loss : 0.4332, train_acc: 0.8582 || Last LR: 0.0000195\n",
            "*************************\n",
            "Epoch [141] || val_loss: 1.2222, val_acc: 0.6946 || train_loss : 0.4345, train_acc: 0.8559 || Last LR: 0.0000195\n",
            "*************************\n",
            "Epoch [142] || val_loss: 1.2222, val_acc: 0.6946 || train_loss : 0.3898, train_acc: 0.8761 || Last LR: 0.0000195\n",
            "*************************\n",
            "Epoch [143] || val_loss: 1.2223, val_acc: 0.6946 || train_loss : 0.4687, train_acc: 0.8454 || Last LR: 0.0000195\n",
            "*************************\n",
            "Epoch   143: reducing learning rate of group 0 to 9.7656e-06.\n",
            "Epoch [144] || val_loss: 1.2224, val_acc: 0.6946 || train_loss : 0.4301, train_acc: 0.8639 || Last LR: 0.0000098\n",
            "*************************\n",
            "Epoch [145] || val_loss: 1.2224, val_acc: 0.6946 || train_loss : 0.4081, train_acc: 0.8812 || Last LR: 0.0000098\n",
            "*************************\n",
            "Epoch [146] || val_loss: 1.2224, val_acc: 0.6946 || train_loss : 0.4365, train_acc: 0.8687 || Last LR: 0.0000098\n",
            "*************************\n",
            "Epoch [147] || val_loss: 1.2224, val_acc: 0.6946 || train_loss : 0.4282, train_acc: 0.8700 || Last LR: 0.0000098\n",
            "*************************\n",
            "Epoch [148] || val_loss: 1.2224, val_acc: 0.6946 || train_loss : 0.4944, train_acc: 0.8506 || Last LR: 0.0000098\n",
            "*************************\n",
            "Epoch [149] || val_loss: 1.2224, val_acc: 0.6946 || train_loss : 0.3907, train_acc: 0.8714 || Last LR: 0.0000098\n",
            "*************************\n",
            "Epoch [150] || val_loss: 1.2225, val_acc: 0.6946 || train_loss : 0.4473, train_acc: 0.8568 || Last LR: 0.0000098\n",
            "*************************\n"
          ],
          "name": "stdout"
        }
      ]
    },
    {
      "cell_type": "code",
      "metadata": {
        "id": "ssTBdYipvCwN",
        "colab_type": "code",
        "colab": {
          "base_uri": "https://localhost:8080/",
          "height": 298
        },
        "outputId": "00e7e012-5748-4c2e-a0ba-81f509c246aa"
      },
      "source": [
        "plot_loss(history_nn)"
      ],
      "execution_count": 418,
      "outputs": [
        {
          "output_type": "display_data",
          "data": {
            "image/png": "[encoded data removed]",
            "text/plain": [
              "<Figure size 432x288 with 1 Axes>"
            ]
          },
          "metadata": {
            "tags": []
          }
        }
      ]
    },
    {
      "cell_type": "code",
      "metadata": {
        "id": "ka2Funw30TQq",
        "colab_type": "code",
        "colab": {}
      },
      "source": [
        "torch.save(best_model, 'drive/My Drive/Colab Notebooks/nlp-sadosky/model-simplenn.pt')"
      ],
      "execution_count": 419,
      "outputs": []
    },
    {
      "cell_type": "code",
      "metadata": {
        "id": "0EnP1qQc0JFH",
        "colab_type": "code",
        "colab": {
          "base_uri": "https://localhost:8080/",
          "height": 33
        },
        "outputId": "80926a66-05ce-4d71-da21-2c6a3776866f"
      },
      "source": [
        "snn_model.load_state_dict(best_model)"
      ],
      "execution_count": 420,
      "outputs": [
        {
          "output_type": "execute_result",
          "data": {
            "text/plain": [
              "<All keys matched successfully>"
            ]
          },
          "metadata": {
            "tags": []
          },
          "execution_count": 420
        }
      ]
    },
    {
      "cell_type": "code",
      "metadata": {
        "id": "wGLDtqVqD3X2",
        "colab_type": "code",
        "colab": {
          "base_uri": "https://localhost:8080/",
          "height": 66
        },
        "outputId": "4193aa73-4620-418f-89c7-6a71794ac120"
      },
      "source": [
        "for i in train_iterator:\n",
        "  print(i.Pregunta[:,0], i.Target[0], LABEL.vocab.itos[i.Target[0].item()])\n",
        "  break"
      ],
      "execution_count": 421,
      "outputs": [
        {
          "output_type": "stream",
          "text": [
            "tensor([216,  57,   9,  23, 162,   2,   1,   1,   1,   1,   1,   1,   1,   1,\n",
            "          1,   1,   1,   1,   1,   1,   1,   1,   1,   1,   1,   1,   1,   1,\n",
            "          1,   1,   1,   1,   1,   1,   1,   1], device='cuda:0') tensor(41, device='cuda:0') Cat_292\n"
          ],
          "name": "stdout"
        }
      ]
    },
    {
      "cell_type": "markdown",
      "metadata": {
        "id": "y-zoBALtVyia",
        "colab_type": "text"
      },
      "source": [
        "### [Remove this]Evaluate LogisticRegressor for low cardinality data"
      ]
    },
    {
      "cell_type": "code",
      "metadata": {
        "id": "X4y1M3goWYKB",
        "colab_type": "code",
        "colab": {}
      },
      "source": [
        "from sklearn.linear_model import LogisticRegression, SGDClassifier\n",
        "from sklearn.pipeline import Pipeline\n",
        "from sklearn.feature_extraction.text import CountVectorizer, TfidfTransformer\n",
        "from lightgbm import LGBMClassifier\n",
        "from sklearn.model_selection import GridSearchCV\n",
        "from sklearn.naive_bayes import MultinomialNB\n",
        "from sklearn.metrics import balanced_accuracy_score\n"
      ],
      "execution_count": 125,
      "outputs": []
    },
    {
      "cell_type": "code",
      "metadata": {
        "id": "8jetNOtKVxk2",
        "colab_type": "code",
        "colab": {}
      },
      "source": [
        "data_low = data[data.Target.isin(categories)]\n",
        "\n",
        "\n",
        "data_low_train, data_low_test = train_test_split(data_low, train_size=0.1, stratify=data_low.Target, shuffle=True, random_state=42)\n",
        "data_low_valid, data_low_test = train_test_split(data_low_test, stratify=data_low_test.Target, train_size=0.1, shuffle=True)"
      ],
      "execution_count": 376,
      "outputs": []
    },
    {
      "cell_type": "code",
      "metadata": {
        "id": "DauLs9eyqCmr",
        "colab_type": "code",
        "colab": {}
      },
      "source": [
        "\n",
        "text_clf = Pipeline([\n",
        "    ('vect', CountVectorizer()),\n",
        "    ('tfidf', TfidfTransformer()),\n",
        "    ('clf', LogisticRegression(C=10000)),\n",
        "    # ('clf', SGDClassifier(loss='hinge', penalty='l2', alpha=1e-3, random_state=42, max_iter=50, tol=None))\n",
        "])\n",
        "\n",
        "parameters = {\n",
        "    'vect__ngram_range': [(1, 2)],\n",
        "    'tfidf__use_idf': (True, False),\n",
        "    # 'clf__alpha': (1e-2, 1e-3, 1e-4),\n",
        "    'clf__C': (2,5,20,50),\n",
        "}\n",
        "\n",
        "gs_clf = GridSearchCV(text_clf, parameters, cv=3, n_jobs=-1)"
      ],
      "execution_count": 387,
      "outputs": []
    },
    {
      "cell_type": "code",
      "metadata": {
        "id": "Uovg2sRjXTL-",
        "colab_type": "code",
        "colab": {
          "base_uri": "https://localhost:8080/",
          "height": 345
        },
        "outputId": "4c661895-1750-4120-9804-b2f846bcaf3f"
      },
      "source": [
        "# text_clf.fit(data_low_train.Pregunta, data_low_train.Intencion)\n",
        "gs_clf.fit(data_low_train.Pregunta, data_low_train.Intencion)"
      ],
      "execution_count": 388,
      "outputs": [
        {
          "output_type": "stream",
          "text": [
            "/usr/local/lib/python3.6/dist-packages/sklearn/model_selection/_split.py:667: UserWarning: The least populated class in y has only 1 members, which is less than n_splits=3.\n",
            "  % (min_groups, self.n_splits)), UserWarning)\n"
          ],
          "name": "stderr"
        },
        {
          "output_type": "error",
          "ename": "KeyboardInterrupt",
          "evalue": "ignored",
          "traceback": [
            "\u001b[0;31m---------------------------------------------------------------------------\u001b[0m",
            "\u001b[0;31mKeyboardInterrupt\u001b[0m                         Traceback (most recent call last)",
            "\u001b[0;32m<ipython-input-388-f4a17dc164da>\u001b[0m in \u001b[0;36m<module>\u001b[0;34m()\u001b[0m\n\u001b[1;32m      1\u001b[0m \u001b[0;31m# text_clf.fit(data_low_train.Pregunta, data_low_train.Intencion)\u001b[0m\u001b[0;34m\u001b[0m\u001b[0;34m\u001b[0m\u001b[0;34m\u001b[0m\u001b[0m\n\u001b[0;32m----> 2\u001b[0;31m \u001b[0mgs_clf\u001b[0m\u001b[0;34m.\u001b[0m\u001b[0mfit\u001b[0m\u001b[0;34m(\u001b[0m\u001b[0mdata_low_train\u001b[0m\u001b[0;34m.\u001b[0m\u001b[0mPregunta\u001b[0m\u001b[0;34m,\u001b[0m \u001b[0mdata_low_train\u001b[0m\u001b[0;34m.\u001b[0m\u001b[0mIntencion\u001b[0m\u001b[0;34m)\u001b[0m\u001b[0;34m\u001b[0m\u001b[0;34m\u001b[0m\u001b[0m\n\u001b[0m",
            "\u001b[0;32m/usr/local/lib/python3.6/dist-packages/sklearn/model_selection/_search.py\u001b[0m in \u001b[0;36mfit\u001b[0;34m(self, X, y, groups, **fit_params)\u001b[0m\n\u001b[1;32m    708\u001b[0m                 \u001b[0;32mreturn\u001b[0m \u001b[0mresults\u001b[0m\u001b[0;34m\u001b[0m\u001b[0;34m\u001b[0m\u001b[0m\n\u001b[1;32m    709\u001b[0m \u001b[0;34m\u001b[0m\u001b[0m\n\u001b[0;32m--> 710\u001b[0;31m             \u001b[0mself\u001b[0m\u001b[0;34m.\u001b[0m\u001b[0m_run_search\u001b[0m\u001b[0;34m(\u001b[0m\u001b[0mevaluate_candidates\u001b[0m\u001b[0;34m)\u001b[0m\u001b[0;34m\u001b[0m\u001b[0;34m\u001b[0m\u001b[0m\n\u001b[0m\u001b[1;32m    711\u001b[0m \u001b[0;34m\u001b[0m\u001b[0m\n\u001b[1;32m    712\u001b[0m         \u001b[0;31m# For multi-metric evaluation, store the best_index_, best_params_ and\u001b[0m\u001b[0;34m\u001b[0m\u001b[0;34m\u001b[0m\u001b[0;34m\u001b[0m\u001b[0m\n",
            "\u001b[0;32m/usr/local/lib/python3.6/dist-packages/sklearn/model_selection/_search.py\u001b[0m in \u001b[0;36m_run_search\u001b[0;34m(self, evaluate_candidates)\u001b[0m\n\u001b[1;32m   1149\u001b[0m     \u001b[0;32mdef\u001b[0m \u001b[0m_run_search\u001b[0m\u001b[0;34m(\u001b[0m\u001b[0mself\u001b[0m\u001b[0;34m,\u001b[0m \u001b[0mevaluate_candidates\u001b[0m\u001b[0;34m)\u001b[0m\u001b[0;34m:\u001b[0m\u001b[0;34m\u001b[0m\u001b[0;34m\u001b[0m\u001b[0m\n\u001b[1;32m   1150\u001b[0m         \u001b[0;34m\"\"\"Search all candidates in param_grid\"\"\"\u001b[0m\u001b[0;34m\u001b[0m\u001b[0;34m\u001b[0m\u001b[0m\n\u001b[0;32m-> 1151\u001b[0;31m         \u001b[0mevaluate_candidates\u001b[0m\u001b[0;34m(\u001b[0m\u001b[0mParameterGrid\u001b[0m\u001b[0;34m(\u001b[0m\u001b[0mself\u001b[0m\u001b[0;34m.\u001b[0m\u001b[0mparam_grid\u001b[0m\u001b[0;34m)\u001b[0m\u001b[0;34m)\u001b[0m\u001b[0;34m\u001b[0m\u001b[0;34m\u001b[0m\u001b[0m\n\u001b[0m\u001b[1;32m   1152\u001b[0m \u001b[0;34m\u001b[0m\u001b[0m\n\u001b[1;32m   1153\u001b[0m \u001b[0;34m\u001b[0m\u001b[0m\n",
            "\u001b[0;32m/usr/local/lib/python3.6/dist-packages/sklearn/model_selection/_search.py\u001b[0m in \u001b[0;36mevaluate_candidates\u001b[0;34m(candidate_params)\u001b[0m\n\u001b[1;32m    687\u001b[0m                                \u001b[0;32mfor\u001b[0m \u001b[0mparameters\u001b[0m\u001b[0;34m,\u001b[0m \u001b[0;34m(\u001b[0m\u001b[0mtrain\u001b[0m\u001b[0;34m,\u001b[0m \u001b[0mtest\u001b[0m\u001b[0;34m)\u001b[0m\u001b[0;34m\u001b[0m\u001b[0;34m\u001b[0m\u001b[0m\n\u001b[1;32m    688\u001b[0m                                in product(candidate_params,\n\u001b[0;32m--> 689\u001b[0;31m                                           cv.split(X, y, groups)))\n\u001b[0m\u001b[1;32m    690\u001b[0m \u001b[0;34m\u001b[0m\u001b[0m\n\u001b[1;32m    691\u001b[0m                 \u001b[0;32mif\u001b[0m \u001b[0mlen\u001b[0m\u001b[0;34m(\u001b[0m\u001b[0mout\u001b[0m\u001b[0;34m)\u001b[0m \u001b[0;34m<\u001b[0m \u001b[0;36m1\u001b[0m\u001b[0;34m:\u001b[0m\u001b[0;34m\u001b[0m\u001b[0;34m\u001b[0m\u001b[0m\n",
            "\u001b[0;32m/usr/local/lib/python3.6/dist-packages/joblib/parallel.py\u001b[0m in \u001b[0;36m__call__\u001b[0;34m(self, iterable)\u001b[0m\n\u001b[1;32m   1040\u001b[0m \u001b[0;34m\u001b[0m\u001b[0m\n\u001b[1;32m   1041\u001b[0m             \u001b[0;32mwith\u001b[0m \u001b[0mself\u001b[0m\u001b[0;34m.\u001b[0m\u001b[0m_backend\u001b[0m\u001b[0;34m.\u001b[0m\u001b[0mretrieval_context\u001b[0m\u001b[0;34m(\u001b[0m\u001b[0;34m)\u001b[0m\u001b[0;34m:\u001b[0m\u001b[0;34m\u001b[0m\u001b[0;34m\u001b[0m\u001b[0m\n\u001b[0;32m-> 1042\u001b[0;31m                 \u001b[0mself\u001b[0m\u001b[0;34m.\u001b[0m\u001b[0mretrieve\u001b[0m\u001b[0;34m(\u001b[0m\u001b[0;34m)\u001b[0m\u001b[0;34m\u001b[0m\u001b[0;34m\u001b[0m\u001b[0m\n\u001b[0m\u001b[1;32m   1043\u001b[0m             \u001b[0;31m# Make sure that we get a last message telling us we are done\u001b[0m\u001b[0;34m\u001b[0m\u001b[0;34m\u001b[0m\u001b[0;34m\u001b[0m\u001b[0m\n\u001b[1;32m   1044\u001b[0m             \u001b[0melapsed_time\u001b[0m \u001b[0;34m=\u001b[0m \u001b[0mtime\u001b[0m\u001b[0;34m.\u001b[0m\u001b[0mtime\u001b[0m\u001b[0;34m(\u001b[0m\u001b[0;34m)\u001b[0m \u001b[0;34m-\u001b[0m \u001b[0mself\u001b[0m\u001b[0;34m.\u001b[0m\u001b[0m_start_time\u001b[0m\u001b[0;34m\u001b[0m\u001b[0;34m\u001b[0m\u001b[0m\n",
            "\u001b[0;32m/usr/local/lib/python3.6/dist-packages/joblib/parallel.py\u001b[0m in \u001b[0;36mretrieve\u001b[0;34m(self)\u001b[0m\n\u001b[1;32m    919\u001b[0m             \u001b[0;32mtry\u001b[0m\u001b[0;34m:\u001b[0m\u001b[0;34m\u001b[0m\u001b[0;34m\u001b[0m\u001b[0m\n\u001b[1;32m    920\u001b[0m                 \u001b[0;32mif\u001b[0m \u001b[0mgetattr\u001b[0m\u001b[0;34m(\u001b[0m\u001b[0mself\u001b[0m\u001b[0;34m.\u001b[0m\u001b[0m_backend\u001b[0m\u001b[0;34m,\u001b[0m \u001b[0;34m'supports_timeout'\u001b[0m\u001b[0;34m,\u001b[0m \u001b[0;32mFalse\u001b[0m\u001b[0;34m)\u001b[0m\u001b[0;34m:\u001b[0m\u001b[0;34m\u001b[0m\u001b[0;34m\u001b[0m\u001b[0m\n\u001b[0;32m--> 921\u001b[0;31m                     \u001b[0mself\u001b[0m\u001b[0;34m.\u001b[0m\u001b[0m_output\u001b[0m\u001b[0;34m.\u001b[0m\u001b[0mextend\u001b[0m\u001b[0;34m(\u001b[0m\u001b[0mjob\u001b[0m\u001b[0;34m.\u001b[0m\u001b[0mget\u001b[0m\u001b[0;34m(\u001b[0m\u001b[0mtimeout\u001b[0m\u001b[0;34m=\u001b[0m\u001b[0mself\u001b[0m\u001b[0;34m.\u001b[0m\u001b[0mtimeout\u001b[0m\u001b[0;34m)\u001b[0m\u001b[0;34m)\u001b[0m\u001b[0;34m\u001b[0m\u001b[0;34m\u001b[0m\u001b[0m\n\u001b[0m\u001b[1;32m    922\u001b[0m                 \u001b[0;32melse\u001b[0m\u001b[0;34m:\u001b[0m\u001b[0;34m\u001b[0m\u001b[0;34m\u001b[0m\u001b[0m\n\u001b[1;32m    923\u001b[0m                     \u001b[0mself\u001b[0m\u001b[0;34m.\u001b[0m\u001b[0m_output\u001b[0m\u001b[0;34m.\u001b[0m\u001b[0mextend\u001b[0m\u001b[0;34m(\u001b[0m\u001b[0mjob\u001b[0m\u001b[0;34m.\u001b[0m\u001b[0mget\u001b[0m\u001b[0;34m(\u001b[0m\u001b[0;34m)\u001b[0m\u001b[0;34m)\u001b[0m\u001b[0;34m\u001b[0m\u001b[0;34m\u001b[0m\u001b[0m\n",
            "\u001b[0;32m/usr/local/lib/python3.6/dist-packages/joblib/_parallel_backends.py\u001b[0m in \u001b[0;36mwrap_future_result\u001b[0;34m(future, timeout)\u001b[0m\n\u001b[1;32m    538\u001b[0m         AsyncResults.get from multiprocessing.\"\"\"\n\u001b[1;32m    539\u001b[0m         \u001b[0;32mtry\u001b[0m\u001b[0;34m:\u001b[0m\u001b[0;34m\u001b[0m\u001b[0;34m\u001b[0m\u001b[0m\n\u001b[0;32m--> 540\u001b[0;31m             \u001b[0;32mreturn\u001b[0m \u001b[0mfuture\u001b[0m\u001b[0;34m.\u001b[0m\u001b[0mresult\u001b[0m\u001b[0;34m(\u001b[0m\u001b[0mtimeout\u001b[0m\u001b[0;34m=\u001b[0m\u001b[0mtimeout\u001b[0m\u001b[0;34m)\u001b[0m\u001b[0;34m\u001b[0m\u001b[0;34m\u001b[0m\u001b[0m\n\u001b[0m\u001b[1;32m    541\u001b[0m         \u001b[0;32mexcept\u001b[0m \u001b[0mCfTimeoutError\u001b[0m\u001b[0;34m:\u001b[0m\u001b[0;34m\u001b[0m\u001b[0;34m\u001b[0m\u001b[0m\n\u001b[1;32m    542\u001b[0m             \u001b[0;32mraise\u001b[0m \u001b[0mTimeoutError\u001b[0m\u001b[0;34m(\u001b[0m\u001b[0;34m)\u001b[0m\u001b[0;34m\u001b[0m\u001b[0;34m\u001b[0m\u001b[0m\n",
            "\u001b[0;32m/usr/lib/python3.6/concurrent/futures/_base.py\u001b[0m in \u001b[0;36mresult\u001b[0;34m(self, timeout)\u001b[0m\n\u001b[1;32m    425\u001b[0m                 \u001b[0;32mreturn\u001b[0m \u001b[0mself\u001b[0m\u001b[0;34m.\u001b[0m\u001b[0m__get_result\u001b[0m\u001b[0;34m(\u001b[0m\u001b[0;34m)\u001b[0m\u001b[0;34m\u001b[0m\u001b[0;34m\u001b[0m\u001b[0m\n\u001b[1;32m    426\u001b[0m \u001b[0;34m\u001b[0m\u001b[0m\n\u001b[0;32m--> 427\u001b[0;31m             \u001b[0mself\u001b[0m\u001b[0;34m.\u001b[0m\u001b[0m_condition\u001b[0m\u001b[0;34m.\u001b[0m\u001b[0mwait\u001b[0m\u001b[0;34m(\u001b[0m\u001b[0mtimeout\u001b[0m\u001b[0;34m)\u001b[0m\u001b[0;34m\u001b[0m\u001b[0;34m\u001b[0m\u001b[0m\n\u001b[0m\u001b[1;32m    428\u001b[0m \u001b[0;34m\u001b[0m\u001b[0m\n\u001b[1;32m    429\u001b[0m             \u001b[0;32mif\u001b[0m \u001b[0mself\u001b[0m\u001b[0;34m.\u001b[0m\u001b[0m_state\u001b[0m \u001b[0;32min\u001b[0m \u001b[0;34m[\u001b[0m\u001b[0mCANCELLED\u001b[0m\u001b[0;34m,\u001b[0m \u001b[0mCANCELLED_AND_NOTIFIED\u001b[0m\u001b[0;34m]\u001b[0m\u001b[0;34m:\u001b[0m\u001b[0;34m\u001b[0m\u001b[0;34m\u001b[0m\u001b[0m\n",
            "\u001b[0;32m/usr/lib/python3.6/threading.py\u001b[0m in \u001b[0;36mwait\u001b[0;34m(self, timeout)\u001b[0m\n\u001b[1;32m    293\u001b[0m         \u001b[0;32mtry\u001b[0m\u001b[0;34m:\u001b[0m    \u001b[0;31m# restore state no matter what (e.g., KeyboardInterrupt)\u001b[0m\u001b[0;34m\u001b[0m\u001b[0;34m\u001b[0m\u001b[0m\n\u001b[1;32m    294\u001b[0m             \u001b[0;32mif\u001b[0m \u001b[0mtimeout\u001b[0m \u001b[0;32mis\u001b[0m \u001b[0;32mNone\u001b[0m\u001b[0;34m:\u001b[0m\u001b[0;34m\u001b[0m\u001b[0;34m\u001b[0m\u001b[0m\n\u001b[0;32m--> 295\u001b[0;31m                 \u001b[0mwaiter\u001b[0m\u001b[0;34m.\u001b[0m\u001b[0macquire\u001b[0m\u001b[0;34m(\u001b[0m\u001b[0;34m)\u001b[0m\u001b[0;34m\u001b[0m\u001b[0;34m\u001b[0m\u001b[0m\n\u001b[0m\u001b[1;32m    296\u001b[0m                 \u001b[0mgotit\u001b[0m \u001b[0;34m=\u001b[0m \u001b[0;32mTrue\u001b[0m\u001b[0;34m\u001b[0m\u001b[0;34m\u001b[0m\u001b[0m\n\u001b[1;32m    297\u001b[0m             \u001b[0;32melse\u001b[0m\u001b[0;34m:\u001b[0m\u001b[0;34m\u001b[0m\u001b[0;34m\u001b[0m\u001b[0m\n",
            "\u001b[0;31mKeyboardInterrupt\u001b[0m: "
          ]
        }
      ]
    },
    {
      "cell_type": "code",
      "metadata": {
        "id": "Nw7vynMeZ2gX",
        "colab_type": "code",
        "colab": {}
      },
      "source": [
        "gs_clf.best_params_"
      ],
      "execution_count": null,
      "outputs": []
    },
    {
      "cell_type": "code",
      "metadata": {
        "id": "PMzDhbvmXl1m",
        "colab_type": "code",
        "colab": {}
      },
      "source": [
        "print(balanced_accuracy_score(data_low_test.Intencion, gs_clf.best_estimator_.predict(data_low_test.Pregunta)))"
      ],
      "execution_count": null,
      "outputs": []
    },
    {
      "cell_type": "markdown",
      "metadata": {
        "id": "sZK26aFHiPgu",
        "colab_type": "text"
      },
      "source": [
        "### Evaluate results in test data\n"
      ]
    },
    {
      "cell_type": "code",
      "metadata": {
        "id": "YMNGn5tseMVU",
        "colab_type": "code",
        "colab": {}
      },
      "source": [
        "# acc = []\n",
        "# for batch in test_iterator:\n",
        "#   with torch.no_grad():\n",
        "#     outputs = snn_model(batch.Pregunta)\n",
        "#     acc.append(accuracy(outputs, batch.Target).numpy())\n"
      ],
      "execution_count": 775,
      "outputs": []
    },
    {
      "cell_type": "code",
      "metadata": {
        "id": "vpO3Mab7UFZT",
        "colab_type": "code",
        "colab": {}
      },
      "source": [
        "# print(\"Test performance: {:2f} +/- {:2f}\".format(np.array(acc).mean(), np.array(acc).std()))"
      ],
      "execution_count": 423,
      "outputs": []
    },
    {
      "cell_type": "markdown",
      "metadata": {
        "id": "KAteClO-iWW-",
        "colab_type": "text"
      },
      "source": [
        "### Semi-Production (?)\n",
        "Test our model  with input text.\n"
      ]
    },
    {
      "cell_type": "code",
      "metadata": {
        "id": "QnaF7-rZ63B6",
        "colab_type": "code",
        "colab": {}
      },
      "source": [
        "def classify_tweet(tweet, TWEET, LABEL):\n",
        "  processed = TWEET.process([TWEET.preprocess(tweet)])\n",
        "  # print(processed)\n",
        "  processed = processed.to('cuda')\n",
        "  with torch.no_grad():\n",
        "    return LABEL.vocab.itos[snn_model(processed).argmax().item()]"
      ],
      "execution_count": 424,
      "outputs": []
    },
    {
      "cell_type": "code",
      "metadata": {
        "id": "U9lHba24fl_p",
        "colab_type": "code",
        "cellView": "both",
        "colab": {
          "base_uri": "https://localhost:8080/",
          "height": 35
        },
        "outputId": "8490ea81-5476-45a4-8aec-b075137f04c9"
      },
      "source": [
        "#@title ### Test the model!\n",
        "text = \"credito\" #@param {type:\"string\"}\n",
        "classify_tweet(text, TWEET, LABEL)"
      ],
      "execution_count": 425,
      "outputs": [
        {
          "output_type": "execute_result",
          "data": {
            "application/vnd.google.colaboratory.intrinsic": {
              "type": "string"
            },
            "text/plain": [
              "'Cat_225'"
            ]
          },
          "metadata": {
            "tags": []
          },
          "execution_count": 425
        }
      ]
    },
    {
      "cell_type": "markdown",
      "metadata": {
        "id": "XNKViBK11BEU",
        "colab_type": "text"
      },
      "source": [
        "## Predictions\n",
        "> *From deep learning with pytorch: Another hassle of torchtext is that it’s a bit of a pain to get it to predict things.*\n",
        "\n",
        "it's true, the best solution was to fix the lenght for training, and when we predict on test-data, it will be best accurate. Also, Bert and other BigModels use this technique (Bert use 512, we have use 64).\n",
        "\n",
        "Issues: \n",
        "- training data has sentences with more than 64 characters. \n",
        "- test data has small sentences, so we should use a longer fixed lenght\n",
        "  - this issue also happend in bert too... Workarounds?"
      ]
    },
    {
      "cell_type": "code",
      "metadata": {
        "colab_type": "code",
        "id": "qV0wmJHJbP8a",
        "colab": {
          "base_uri": "https://localhost:8080/",
          "height": 82,
          "referenced_widgets": [
            "f6033e2082614bea9c5592d2f4703017",
            "3effde000d124a8f82a58b86c72135f2",
            "523238bac93247d69be02f3b97dbdab4",
            "4705e77d3cf54077b5ada1b712e872d3",
            "6b69297a7c264dfca01b89d5898648ec",
            "964364c5492a4af1a114fa1db8b9aa12",
            "aaa66307aa164b38bf9b2fdac6475b40",
            "2f1f7db6b0ac418cbc77780e35b27e62"
          ]
        },
        "outputId": "edd21e90-5d51-4622-e09d-915ed21bcc74"
      },
      "source": [
        "examples_data = map_examples(data)\n",
        "fulldata = torchtext.data.Dataset(examples_data, fields)\n",
        "fulldata[0].Target"
      ],
      "execution_count": 204,
      "outputs": [
        {
          "output_type": "display_data",
          "data": {
            "application/vnd.jupyter.widget-view+json": {
              "model_id": "f6033e2082614bea9c5592d2f4703017",
              "version_minor": 0,
              "version_major": 2
            },
            "text/plain": [
              "HBox(children=(FloatProgress(value=0.0, max=20104.0), HTML(value='')))"
            ]
          },
          "metadata": {
            "tags": []
          }
        },
        {
          "output_type": "stream",
          "text": [
            "\n"
          ],
          "name": "stdout"
        },
        {
          "output_type": "execute_result",
          "data": {
            "application/vnd.google.colaboratory.intrinsic": {
              "type": "string"
            },
            "text/plain": [
              "'Cat_102'"
            ]
          },
          "metadata": {
            "tags": []
          },
          "execution_count": 204
        }
      ]
    },
    {
      "cell_type": "code",
      "metadata": {
        "colab_type": "code",
        "id": "BnJFeyyqbP8j",
        "colab": {
          "base_uri": "https://localhost:8080/",
          "height": 33
        },
        "outputId": "2e7ed466-dc6c-4477-b795-e3b168e6343d"
      },
      "source": [
        "# Build a vocabulary\n",
        "%%timeit\n",
        "vocab_size = 20000\n",
        "TWEET.build_vocab(fulldata, max_size = vocab_size)\n",
        "LABEL.build_vocab(fulldata)"
      ],
      "execution_count": 205,
      "outputs": [
        {
          "output_type": "stream",
          "text": [
            "10 loops, best of 3: 115 ms per loop\n"
          ],
          "name": "stdout"
        }
      ]
    },
    {
      "cell_type": "code",
      "metadata": {
        "id": "UDawUY-ud3YO",
        "colab_type": "code",
        "colab": {}
      },
      "source": [
        "fulldata_iterator = torchtext.data.BucketIterator(\n",
        "  fulldata, \n",
        "  batch_size = 128, \n",
        "  device = 'cuda',\n",
        "  shuffle=True,\n",
        "  sort_key = lambda x: len(x.Pregunta),\n",
        "  sort_within_batch = False\n",
        ")"
      ],
      "execution_count": 206,
      "outputs": []
    },
    {
      "cell_type": "code",
      "metadata": {
        "id": "SpD1HA3L0cdG",
        "colab_type": "code",
        "colab": {
          "base_uri": "https://localhost:8080/",
          "height": 163
        },
        "outputId": "630c40e0-cf4b-430d-8070-b6634fcbb21f"
      },
      "source": [
        "class Config(object):\n",
        "  embed_size = 300\n",
        "  hidden_size = 2000\n",
        "  output_size = data.Target.nunique()\n",
        "  # max_epochs = 30\n",
        "  # lr = 0.5\n",
        "  # batch_size = 128\n",
        "\n",
        "config = Config()\n",
        "\n",
        "snn_model = SimpleNN(\n",
        "  config=config, \n",
        "  # word_embeddings = embeddings, \n",
        "  vocab_size=len(TWEET.vocab),\n",
        ")\n",
        "\n",
        "snn_model.to('cuda')"
      ],
      "execution_count": 208,
      "outputs": [
        {
          "output_type": "execute_result",
          "data": {
            "text/plain": [
              "SimpleNN(\n",
              "  (embeddings): Embedding(5343, 300)\n",
              "  (fc): Sequential(\n",
              "    (0): Dropout(p=0.8, inplace=False)\n",
              "    (1): Linear(in_features=300, out_features=2000, bias=True)\n",
              "    (2): Dropout(p=0.8, inplace=False)\n",
              "    (3): Linear(in_features=2000, out_features=352, bias=True)\n",
              "  )\n",
              ")"
            ]
          },
          "metadata": {
            "tags": []
          },
          "execution_count": 208
        }
      ]
    },
    {
      "cell_type": "code",
      "metadata": {
        "colab_type": "code",
        "id": "3UqKs1eucWlF",
        "colab": {}
      },
      "source": [
        "loss_fn = torch.nn.CrossEntropyLoss()"
      ],
      "execution_count": 209,
      "outputs": []
    },
    {
      "cell_type": "code",
      "metadata": {
        "colab_type": "code",
        "id": "mqSlCYTrcWlk",
        "colab": {}
      },
      "source": [
        "optimizer = torch.optim.AdamW(snn_model.parameters(), lr=0.001)\n",
        "scheduler = torch.optim.lr_scheduler.ReduceLROnPlateau(optimizer, patience=8, verbose=True, min_lr=1e-5, factor=0.5)"
      ],
      "execution_count": 274,
      "outputs": []
    },
    {
      "cell_type": "code",
      "metadata": {
        "colab_type": "code",
        "id": "1hiMb7CbcWlv",
        "colab": {}
      },
      "source": [
        "history_final = []"
      ],
      "execution_count": 275,
      "outputs": []
    },
    {
      "cell_type": "code",
      "metadata": {
        "colab_type": "code",
        "id": "3LVHbtkZcWl0",
        "colab": {
          "base_uri": "https://localhost:8080/",
          "height": 1000
        },
        "outputId": "d9ab13f1-3b57-4298-fe44-4f4b43341b7f"
      },
      "source": [
        "actual_history, best_model = fit(150, snn_model, fulldata_iterator, fulldata_iterator, optimizer, loss_fn, scheduler, early_stopping=np.inf)\n",
        "history_final += actual_history"
      ],
      "execution_count": 276,
      "outputs": [
        {
          "output_type": "stream",
          "text": [
            "Epoch [1] || val_loss: 0.0574, val_acc: 0.9827 || train_loss : 0.2757, train_acc: 0.9140 || Last LR: 0.0010000\n",
            "*************************\n",
            "Epoch [2] || val_loss: 0.0575, val_acc: 0.9829 || train_loss : 0.2678, train_acc: 0.9161 || Last LR: 0.0010000\n",
            "*************************\n",
            "Epoch [3] || val_loss: 0.0583, val_acc: 0.9829 || train_loss : 0.2829, train_acc: 0.9136 || Last LR: 0.0010000\n",
            "*************************\n",
            "Epoch [4] || val_loss: 0.0568, val_acc: 0.9832 || train_loss : 0.2762, train_acc: 0.9148 || Last LR: 0.0010000\n",
            "*************************\n",
            "Epoch [5] || val_loss: 0.0594, val_acc: 0.9816 || train_loss : 0.2703, train_acc: 0.9144 || Last LR: 0.0010000\n",
            "*************************\n",
            "Epoch [6] || val_loss: 0.0577, val_acc: 0.9832 || train_loss : 0.2722, train_acc: 0.9161 || Last LR: 0.0010000\n",
            "*************************\n",
            "Epoch [7] || val_loss: 0.0593, val_acc: 0.9821 || train_loss : 0.2898, train_acc: 0.9106 || Last LR: 0.0010000\n",
            "*************************\n",
            "Epoch [8] || val_loss: 0.0577, val_acc: 0.9829 || train_loss : 0.2739, train_acc: 0.9147 || Last LR: 0.0010000\n",
            "*************************\n",
            "Epoch [9] || val_loss: 0.0584, val_acc: 0.9816 || train_loss : 0.2851, train_acc: 0.9093 || Last LR: 0.0010000\n",
            "*************************\n",
            "Epoch [10] || val_loss: 0.0613, val_acc: 0.9809 || train_loss : 0.2762, train_acc: 0.9142 || Last LR: 0.0010000\n",
            "*************************\n",
            "Epoch [11] || val_loss: 0.0581, val_acc: 0.9818 || train_loss : 0.2781, train_acc: 0.9123 || Last LR: 0.0010000\n",
            "*************************\n",
            "Epoch [12] || val_loss: 0.0585, val_acc: 0.9830 || train_loss : 0.2872, train_acc: 0.9106 || Last LR: 0.0010000\n",
            "*************************\n",
            "Epoch [13] || val_loss: 0.0594, val_acc: 0.9815 || train_loss : 0.2795, train_acc: 0.9124 || Last LR: 0.0010000\n",
            "*************************\n",
            "Epoch    13: reducing learning rate of group 0 to 5.0000e-04.\n",
            "Epoch [14] || val_loss: 0.0568, val_acc: 0.9827 || train_loss : 0.2611, train_acc: 0.9178 || Last LR: 0.0005000\n",
            "*************************\n",
            "Epoch [15] || val_loss: 0.0560, val_acc: 0.9822 || train_loss : 0.2521, train_acc: 0.9211 || Last LR: 0.0005000\n",
            "*************************\n",
            "Epoch [16] || val_loss: 0.0559, val_acc: 0.9829 || train_loss : 0.2611, train_acc: 0.9177 || Last LR: 0.0005000\n",
            "*************************\n",
            "Epoch [17] || val_loss: 0.0585, val_acc: 0.9818 || train_loss : 0.2491, train_acc: 0.9204 || Last LR: 0.0005000\n",
            "*************************\n",
            "Epoch [18] || val_loss: 0.0569, val_acc: 0.9825 || train_loss : 0.2543, train_acc: 0.9201 || Last LR: 0.0005000\n",
            "*************************\n",
            "Epoch [19] || val_loss: 0.0558, val_acc: 0.9832 || train_loss : 0.2543, train_acc: 0.9219 || Last LR: 0.0005000\n",
            "*************************\n",
            "Epoch [20] || val_loss: 0.0555, val_acc: 0.9831 || train_loss : 0.2398, train_acc: 0.9245 || Last LR: 0.0005000\n",
            "*************************\n",
            "Epoch [21] || val_loss: 0.0550, val_acc: 0.9837 || train_loss : 0.2519, train_acc: 0.9194 || Last LR: 0.0005000\n",
            "*************************\n",
            "Epoch [22] || val_loss: 0.0562, val_acc: 0.9830 || train_loss : 0.2540, train_acc: 0.9213 || Last LR: 0.0005000\n",
            "*************************\n",
            "Epoch [23] || val_loss: 0.0586, val_acc: 0.9818 || train_loss : 0.2403, train_acc: 0.9222 || Last LR: 0.0005000\n",
            "*************************\n",
            "Epoch [24] || val_loss: 0.0549, val_acc: 0.9840 || train_loss : 0.2469, train_acc: 0.9229 || Last LR: 0.0005000\n",
            "*************************\n",
            "Epoch [25] || val_loss: 0.0539, val_acc: 0.9846 || train_loss : 0.2538, train_acc: 0.9208 || Last LR: 0.0005000\n",
            "*************************\n",
            "Epoch [26] || val_loss: 0.0547, val_acc: 0.9840 || train_loss : 0.2451, train_acc: 0.9241 || Last LR: 0.0005000\n",
            "*************************\n",
            "Epoch [27] || val_loss: 0.0545, val_acc: 0.9841 || train_loss : 0.2373, train_acc: 0.9268 || Last LR: 0.0005000\n",
            "*************************\n",
            "Epoch [28] || val_loss: 0.0548, val_acc: 0.9840 || train_loss : 0.2525, train_acc: 0.9193 || Last LR: 0.0005000\n",
            "*************************\n",
            "Epoch [29] || val_loss: 0.0541, val_acc: 0.9839 || train_loss : 0.2435, train_acc: 0.9217 || Last LR: 0.0005000\n",
            "*************************\n",
            "Epoch [30] || val_loss: 0.0548, val_acc: 0.9836 || train_loss : 0.2376, train_acc: 0.9255 || Last LR: 0.0005000\n",
            "*************************\n",
            "Epoch [31] || val_loss: 0.0554, val_acc: 0.9832 || train_loss : 0.2367, train_acc: 0.9259 || Last LR: 0.0005000\n",
            "*************************\n",
            "Epoch [32] || val_loss: 0.0540, val_acc: 0.9841 || train_loss : 0.2467, train_acc: 0.9239 || Last LR: 0.0005000\n",
            "*************************\n",
            "Epoch [33] || val_loss: 0.0544, val_acc: 0.9831 || train_loss : 0.2475, train_acc: 0.9224 || Last LR: 0.0005000\n",
            "*************************\n",
            "Epoch [34] || val_loss: 0.0542, val_acc: 0.9841 || train_loss : 0.2355, train_acc: 0.9264 || Last LR: 0.0005000\n",
            "*************************\n",
            "Epoch    34: reducing learning rate of group 0 to 2.5000e-04.\n",
            "Epoch [35] || val_loss: 0.0534, val_acc: 0.9838 || train_loss : 0.2313, train_acc: 0.9279 || Last LR: 0.0002500\n",
            "*************************\n",
            "Epoch [36] || val_loss: 0.0534, val_acc: 0.9839 || train_loss : 0.2308, train_acc: 0.9267 || Last LR: 0.0002500\n",
            "*************************\n",
            "Epoch [37] || val_loss: 0.0531, val_acc: 0.9842 || train_loss : 0.2312, train_acc: 0.9259 || Last LR: 0.0002500\n",
            "*************************\n",
            "Epoch [38] || val_loss: 0.0534, val_acc: 0.9843 || train_loss : 0.2310, train_acc: 0.9274 || Last LR: 0.0002500\n",
            "*************************\n",
            "Epoch [39] || val_loss: 0.0536, val_acc: 0.9845 || train_loss : 0.2318, train_acc: 0.9283 || Last LR: 0.0002500\n",
            "*************************\n",
            "Epoch [40] || val_loss: 0.0529, val_acc: 0.9836 || train_loss : 0.2242, train_acc: 0.9296 || Last LR: 0.0002500\n",
            "*************************\n",
            "Epoch [41] || val_loss: 0.0529, val_acc: 0.9840 || train_loss : 0.2314, train_acc: 0.9286 || Last LR: 0.0002500\n",
            "*************************\n",
            "Epoch [42] || val_loss: 0.0529, val_acc: 0.9840 || train_loss : 0.2266, train_acc: 0.9281 || Last LR: 0.0002500\n",
            "*************************\n",
            "Epoch [43] || val_loss: 0.0532, val_acc: 0.9836 || train_loss : 0.2283, train_acc: 0.9298 || Last LR: 0.0002500\n",
            "*************************\n",
            "Epoch [44] || val_loss: 0.0526, val_acc: 0.9848 || train_loss : 0.2348, train_acc: 0.9248 || Last LR: 0.0002500\n",
            "*************************\n",
            "Epoch [45] || val_loss: 0.0530, val_acc: 0.9843 || train_loss : 0.2308, train_acc: 0.9274 || Last LR: 0.0002500\n",
            "*************************\n",
            "Epoch [46] || val_loss: 0.0525, val_acc: 0.9846 || train_loss : 0.2273, train_acc: 0.9272 || Last LR: 0.0002500\n",
            "*************************\n",
            "Epoch [47] || val_loss: 0.0526, val_acc: 0.9845 || train_loss : 0.2221, train_acc: 0.9295 || Last LR: 0.0002500\n",
            "*************************\n",
            "Epoch [48] || val_loss: 0.0525, val_acc: 0.9843 || train_loss : 0.2312, train_acc: 0.9276 || Last LR: 0.0002500\n",
            "*************************\n",
            "Epoch [49] || val_loss: 0.0523, val_acc: 0.9850 || train_loss : 0.2233, train_acc: 0.9301 || Last LR: 0.0002500\n",
            "*************************\n",
            "Epoch [50] || val_loss: 0.0518, val_acc: 0.9848 || train_loss : 0.2227, train_acc: 0.9301 || Last LR: 0.0002500\n",
            "*************************\n",
            "Epoch [51] || val_loss: 0.0528, val_acc: 0.9844 || train_loss : 0.2260, train_acc: 0.9288 || Last LR: 0.0002500\n",
            "*************************\n",
            "Epoch [52] || val_loss: 0.0527, val_acc: 0.9842 || train_loss : 0.2206, train_acc: 0.9295 || Last LR: 0.0002500\n",
            "*************************\n",
            "Epoch [53] || val_loss: 0.0523, val_acc: 0.9846 || train_loss : 0.2282, train_acc: 0.9289 || Last LR: 0.0002500\n",
            "*************************\n",
            "Epoch [54] || val_loss: 0.0518, val_acc: 0.9846 || train_loss : 0.2203, train_acc: 0.9317 || Last LR: 0.0002500\n",
            "*************************\n",
            "Epoch [55] || val_loss: 0.0518, val_acc: 0.9848 || train_loss : 0.2231, train_acc: 0.9293 || Last LR: 0.0002500\n",
            "*************************\n",
            "Epoch [56] || val_loss: 0.0527, val_acc: 0.9842 || train_loss : 0.2216, train_acc: 0.9283 || Last LR: 0.0002500\n",
            "*************************\n",
            "Epoch [57] || val_loss: 0.0512, val_acc: 0.9854 || train_loss : 0.2217, train_acc: 0.9281 || Last LR: 0.0002500\n",
            "*************************\n",
            "Epoch [58] || val_loss: 0.0518, val_acc: 0.9851 || train_loss : 0.2221, train_acc: 0.9317 || Last LR: 0.0002500\n",
            "*************************\n",
            "Epoch [59] || val_loss: 0.0511, val_acc: 0.9850 || train_loss : 0.2182, train_acc: 0.9321 || Last LR: 0.0002500\n",
            "*************************\n",
            "Epoch [60] || val_loss: 0.0513, val_acc: 0.9854 || train_loss : 0.2155, train_acc: 0.9331 || Last LR: 0.0002500\n",
            "*************************\n",
            "Epoch [61] || val_loss: 0.0522, val_acc: 0.9852 || train_loss : 0.2181, train_acc: 0.9308 || Last LR: 0.0002500\n",
            "*************************\n",
            "Epoch [62] || val_loss: 0.0512, val_acc: 0.9846 || train_loss : 0.2209, train_acc: 0.9303 || Last LR: 0.0002500\n",
            "*************************\n",
            "Epoch [63] || val_loss: 0.0519, val_acc: 0.9846 || train_loss : 0.2264, train_acc: 0.9299 || Last LR: 0.0002500\n",
            "*************************\n",
            "Epoch [64] || val_loss: 0.0519, val_acc: 0.9841 || train_loss : 0.2154, train_acc: 0.9338 || Last LR: 0.0002500\n",
            "*************************\n",
            "Epoch [65] || val_loss: 0.0513, val_acc: 0.9853 || train_loss : 0.2167, train_acc: 0.9312 || Last LR: 0.0002500\n",
            "*************************\n",
            "Epoch [66] || val_loss: 0.0514, val_acc: 0.9852 || train_loss : 0.2117, train_acc: 0.9321 || Last LR: 0.0002500\n",
            "*************************\n",
            "Epoch [67] || val_loss: 0.0515, val_acc: 0.9853 || train_loss : 0.2213, train_acc: 0.9315 || Last LR: 0.0002500\n",
            "*************************\n",
            "Epoch [68] || val_loss: 0.0519, val_acc: 0.9848 || train_loss : 0.2146, train_acc: 0.9339 || Last LR: 0.0002500\n",
            "*************************\n",
            "Epoch    68: reducing learning rate of group 0 to 1.2500e-04.\n",
            "Epoch [69] || val_loss: 0.0511, val_acc: 0.9852 || train_loss : 0.2145, train_acc: 0.9329 || Last LR: 0.0001250\n",
            "*************************\n",
            "Epoch [70] || val_loss: 0.0509, val_acc: 0.9855 || train_loss : 0.2138, train_acc: 0.9322 || Last LR: 0.0001250\n",
            "*************************\n",
            "Epoch [71] || val_loss: 0.0508, val_acc: 0.9849 || train_loss : 0.2161, train_acc: 0.9297 || Last LR: 0.0001250\n",
            "*************************\n",
            "Epoch [72] || val_loss: 0.0509, val_acc: 0.9851 || train_loss : 0.2029, train_acc: 0.9358 || Last LR: 0.0001250\n",
            "*************************\n",
            "Epoch [73] || val_loss: 0.0507, val_acc: 0.9854 || train_loss : 0.2144, train_acc: 0.9331 || Last LR: 0.0001250\n",
            "*************************\n",
            "Epoch [74] || val_loss: 0.0513, val_acc: 0.9853 || train_loss : 0.2117, train_acc: 0.9332 || Last LR: 0.0001250\n",
            "*************************\n",
            "Epoch [75] || val_loss: 0.0509, val_acc: 0.9854 || train_loss : 0.2143, train_acc: 0.9324 || Last LR: 0.0001250\n",
            "*************************\n",
            "Epoch [76] || val_loss: 0.0505, val_acc: 0.9852 || train_loss : 0.2069, train_acc: 0.9333 || Last LR: 0.0001250\n",
            "*************************\n",
            "Epoch [77] || val_loss: 0.0506, val_acc: 0.9853 || train_loss : 0.2084, train_acc: 0.9350 || Last LR: 0.0001250\n",
            "*************************\n",
            "Epoch [78] || val_loss: 0.0509, val_acc: 0.9854 || train_loss : 0.2178, train_acc: 0.9306 || Last LR: 0.0001250\n",
            "*************************\n",
            "Epoch [79] || val_loss: 0.0506, val_acc: 0.9855 || train_loss : 0.2161, train_acc: 0.9320 || Last LR: 0.0001250\n",
            "*************************\n",
            "Epoch [80] || val_loss: 0.0507, val_acc: 0.9850 || train_loss : 0.2110, train_acc: 0.9347 || Last LR: 0.0001250\n",
            "*************************\n",
            "Epoch [81] || val_loss: 0.0507, val_acc: 0.9856 || train_loss : 0.2105, train_acc: 0.9358 || Last LR: 0.0001250\n",
            "*************************\n",
            "Epoch [82] || val_loss: 0.0507, val_acc: 0.9850 || train_loss : 0.2072, train_acc: 0.9355 || Last LR: 0.0001250\n",
            "*************************\n",
            "Epoch [83] || val_loss: 0.0502, val_acc: 0.9854 || train_loss : 0.2064, train_acc: 0.9356 || Last LR: 0.0001250\n",
            "*************************\n",
            "Epoch [84] || val_loss: 0.0504, val_acc: 0.9853 || train_loss : 0.2123, train_acc: 0.9340 || Last LR: 0.0001250\n",
            "*************************\n",
            "Epoch [85] || val_loss: 0.0503, val_acc: 0.9855 || train_loss : 0.2096, train_acc: 0.9340 || Last LR: 0.0001250\n",
            "*************************\n",
            "Epoch [86] || val_loss: 0.0506, val_acc: 0.9854 || train_loss : 0.2159, train_acc: 0.9334 || Last LR: 0.0001250\n",
            "*************************\n",
            "Epoch [87] || val_loss: 0.0504, val_acc: 0.9853 || train_loss : 0.2190, train_acc: 0.9326 || Last LR: 0.0001250\n",
            "*************************\n",
            "Epoch [88] || val_loss: 0.0511, val_acc: 0.9848 || train_loss : 0.2087, train_acc: 0.9362 || Last LR: 0.0001250\n",
            "*************************\n",
            "Epoch [89] || val_loss: 0.0502, val_acc: 0.9859 || train_loss : 0.2079, train_acc: 0.9342 || Last LR: 0.0001250\n",
            "*************************\n",
            "Epoch [90] || val_loss: 0.0506, val_acc: 0.9855 || train_loss : 0.2045, train_acc: 0.9344 || Last LR: 0.0001250\n",
            "*************************\n",
            "Epoch [91] || val_loss: 0.0501, val_acc: 0.9857 || train_loss : 0.2114, train_acc: 0.9332 || Last LR: 0.0001250\n",
            "*************************\n",
            "Epoch [92] || val_loss: 0.0545, val_acc: 0.9843 || train_loss : 0.2162, train_acc: 0.9325 || Last LR: 0.0001250\n",
            "*************************\n",
            "Epoch [93] || val_loss: 0.0501, val_acc: 0.9858 || train_loss : 0.2073, train_acc: 0.9344 || Last LR: 0.0001250\n",
            "*************************\n",
            "Epoch [94] || val_loss: 0.0506, val_acc: 0.9855 || train_loss : 0.2174, train_acc: 0.9332 || Last LR: 0.0001250\n",
            "*************************\n",
            "Epoch [95] || val_loss: 0.0500, val_acc: 0.9856 || train_loss : 0.2142, train_acc: 0.9314 || Last LR: 0.0001250\n",
            "*************************\n",
            "Epoch [96] || val_loss: 0.0514, val_acc: 0.9853 || train_loss : 0.2144, train_acc: 0.9326 || Last LR: 0.0001250\n",
            "*************************\n",
            "Epoch [97] || val_loss: 0.0501, val_acc: 0.9858 || train_loss : 0.1963, train_acc: 0.9392 || Last LR: 0.0001250\n",
            "*************************\n",
            "Epoch [98] || val_loss: 0.0508, val_acc: 0.9856 || train_loss : 0.2048, train_acc: 0.9367 || Last LR: 0.0001250\n",
            "*************************\n",
            "Epoch [99] || val_loss: 0.0527, val_acc: 0.9841 || train_loss : 0.2097, train_acc: 0.9343 || Last LR: 0.0001250\n",
            "*************************\n",
            "Epoch [100] || val_loss: 0.0502, val_acc: 0.9856 || train_loss : 0.2088, train_acc: 0.9337 || Last LR: 0.0001250\n",
            "*************************\n",
            "Epoch [101] || val_loss: 0.0499, val_acc: 0.9856 || train_loss : 0.2086, train_acc: 0.9356 || Last LR: 0.0001250\n",
            "*************************\n",
            "Epoch [102] || val_loss: 0.0508, val_acc: 0.9846 || train_loss : 0.2096, train_acc: 0.9328 || Last LR: 0.0001250\n",
            "*************************\n",
            "Epoch [103] || val_loss: 0.0500, val_acc: 0.9855 || train_loss : 0.2048, train_acc: 0.9356 || Last LR: 0.0001250\n",
            "*************************\n",
            "Epoch [104] || val_loss: 0.0497, val_acc: 0.9858 || train_loss : 0.2053, train_acc: 0.9352 || Last LR: 0.0001250\n",
            "*************************\n",
            "Epoch [105] || val_loss: 0.0500, val_acc: 0.9860 || train_loss : 0.2132, train_acc: 0.9309 || Last LR: 0.0001250\n",
            "*************************\n",
            "Epoch [106] || val_loss: 0.0500, val_acc: 0.9856 || train_loss : 0.2124, train_acc: 0.9329 || Last LR: 0.0001250\n",
            "*************************\n",
            "Epoch [107] || val_loss: 0.0498, val_acc: 0.9858 || train_loss : 0.2107, train_acc: 0.9334 || Last LR: 0.0001250\n",
            "*************************\n",
            "Epoch [108] || val_loss: 0.0499, val_acc: 0.9854 || train_loss : 0.2035, train_acc: 0.9355 || Last LR: 0.0001250\n",
            "*************************\n",
            "Epoch [109] || val_loss: 0.0498, val_acc: 0.9855 || train_loss : 0.2030, train_acc: 0.9364 || Last LR: 0.0001250\n",
            "*************************\n",
            "Epoch [110] || val_loss: 0.0498, val_acc: 0.9862 || train_loss : 0.2081, train_acc: 0.9348 || Last LR: 0.0001250\n",
            "*************************\n",
            "Epoch [111] || val_loss: 0.0497, val_acc: 0.9858 || train_loss : 0.2054, train_acc: 0.9351 || Last LR: 0.0001250\n",
            "*************************\n",
            "Epoch [112] || val_loss: 0.0497, val_acc: 0.9860 || train_loss : 0.2091, train_acc: 0.9342 || Last LR: 0.0001250\n",
            "*************************\n",
            "Epoch [113] || val_loss: 0.0497, val_acc: 0.9859 || train_loss : 0.2037, train_acc: 0.9375 || Last LR: 0.0001250\n",
            "*************************\n",
            "Epoch [114] || val_loss: 0.0498, val_acc: 0.9861 || train_loss : 0.2076, train_acc: 0.9351 || Last LR: 0.0001250\n",
            "*************************\n",
            "Epoch [115] || val_loss: 0.0496, val_acc: 0.9859 || train_loss : 0.2068, train_acc: 0.9344 || Last LR: 0.0001250\n",
            "*************************\n",
            "Epoch [116] || val_loss: 0.0503, val_acc: 0.9859 || train_loss : 0.2065, train_acc: 0.9347 || Last LR: 0.0001250\n",
            "*************************\n",
            "Epoch [117] || val_loss: 0.0497, val_acc: 0.9858 || train_loss : 0.2016, train_acc: 0.9360 || Last LR: 0.0001250\n",
            "*************************\n",
            "Epoch [118] || val_loss: 0.0504, val_acc: 0.9858 || train_loss : 0.2075, train_acc: 0.9334 || Last LR: 0.0001250\n",
            "*************************\n",
            "Epoch [119] || val_loss: 0.0514, val_acc: 0.9850 || train_loss : 0.2025, train_acc: 0.9357 || Last LR: 0.0001250\n",
            "*************************\n",
            "Epoch [120] || val_loss: 0.0498, val_acc: 0.9860 || train_loss : 0.2032, train_acc: 0.9359 || Last LR: 0.0001250\n",
            "*************************\n",
            "Epoch [121] || val_loss: 0.0496, val_acc: 0.9861 || train_loss : 0.1987, train_acc: 0.9359 || Last LR: 0.0001250\n",
            "*************************\n",
            "Epoch [122] || val_loss: 0.0502, val_acc: 0.9855 || train_loss : 0.2049, train_acc: 0.9354 || Last LR: 0.0001250\n",
            "*************************\n",
            "Epoch [123] || val_loss: 0.0494, val_acc: 0.9860 || train_loss : 0.1991, train_acc: 0.9377 || Last LR: 0.0001250\n",
            "*************************\n",
            "Epoch [124] || val_loss: 0.0494, val_acc: 0.9857 || train_loss : 0.2062, train_acc: 0.9345 || Last LR: 0.0001250\n",
            "*************************\n",
            "Epoch [125] || val_loss: 0.0496, val_acc: 0.9857 || train_loss : 0.1949, train_acc: 0.9399 || Last LR: 0.0001250\n",
            "*************************\n",
            "Epoch [126] || val_loss: 0.0499, val_acc: 0.9857 || train_loss : 0.2001, train_acc: 0.9365 || Last LR: 0.0001250\n",
            "*************************\n",
            "Epoch [127] || val_loss: 0.0512, val_acc: 0.9847 || train_loss : 0.2090, train_acc: 0.9347 || Last LR: 0.0001250\n",
            "*************************\n",
            "Epoch [128] || val_loss: 0.0498, val_acc: 0.9859 || train_loss : 0.2017, train_acc: 0.9392 || Last LR: 0.0001250\n",
            "*************************\n",
            "Epoch [129] || val_loss: 0.0496, val_acc: 0.9856 || train_loss : 0.2013, train_acc: 0.9362 || Last LR: 0.0001250\n",
            "*************************\n",
            "Epoch [130] || val_loss: 0.0494, val_acc: 0.9859 || train_loss : 0.2056, train_acc: 0.9355 || Last LR: 0.0001250\n",
            "*************************\n",
            "Epoch [131] || val_loss: 0.0508, val_acc: 0.9855 || train_loss : 0.2078, train_acc: 0.9337 || Last LR: 0.0001250\n",
            "*************************\n",
            "Epoch [132] || val_loss: 0.0496, val_acc: 0.9852 || train_loss : 0.2049, train_acc: 0.9356 || Last LR: 0.0001250\n",
            "*************************\n",
            "Epoch [133] || val_loss: 0.0510, val_acc: 0.9847 || train_loss : 0.2034, train_acc: 0.9356 || Last LR: 0.0001250\n",
            "*************************\n",
            "Epoch   133: reducing learning rate of group 0 to 6.2500e-05.\n",
            "Epoch [134] || val_loss: 0.0491, val_acc: 0.9860 || train_loss : 0.2013, train_acc: 0.9361 || Last LR: 0.0000625\n",
            "*************************\n",
            "Epoch [135] || val_loss: 0.0507, val_acc: 0.9852 || train_loss : 0.2049, train_acc: 0.9347 || Last LR: 0.0000625\n",
            "*************************\n",
            "Epoch [136] || val_loss: 0.0493, val_acc: 0.9858 || train_loss : 0.2105, train_acc: 0.9324 || Last LR: 0.0000625\n",
            "*************************\n",
            "Epoch [137] || val_loss: 0.0492, val_acc: 0.9859 || train_loss : 0.1942, train_acc: 0.9397 || Last LR: 0.0000625\n",
            "*************************\n",
            "Epoch [138] || val_loss: 0.0491, val_acc: 0.9860 || train_loss : 0.2001, train_acc: 0.9362 || Last LR: 0.0000625\n",
            "*************************\n",
            "Epoch [139] || val_loss: 0.0493, val_acc: 0.9857 || train_loss : 0.1999, train_acc: 0.9361 || Last LR: 0.0000625\n",
            "*************************\n",
            "Epoch [140] || val_loss: 0.0492, val_acc: 0.9856 || train_loss : 0.2008, train_acc: 0.9371 || Last LR: 0.0000625\n",
            "*************************\n",
            "Epoch [141] || val_loss: 0.0490, val_acc: 0.9857 || train_loss : 0.2039, train_acc: 0.9362 || Last LR: 0.0000625\n",
            "*************************\n",
            "Epoch [142] || val_loss: 0.0491, val_acc: 0.9856 || train_loss : 0.1983, train_acc: 0.9360 || Last LR: 0.0000625\n",
            "*************************\n",
            "Epoch [143] || val_loss: 0.0491, val_acc: 0.9859 || train_loss : 0.2010, train_acc: 0.9347 || Last LR: 0.0000625\n",
            "*************************\n",
            "Epoch [144] || val_loss: 0.0488, val_acc: 0.9860 || train_loss : 0.2002, train_acc: 0.9376 || Last LR: 0.0000625\n",
            "*************************\n",
            "Epoch [145] || val_loss: 0.0489, val_acc: 0.9858 || train_loss : 0.1967, train_acc: 0.9385 || Last LR: 0.0000625\n",
            "*************************\n",
            "Epoch [146] || val_loss: 0.0488, val_acc: 0.9862 || train_loss : 0.1977, train_acc: 0.9385 || Last LR: 0.0000625\n",
            "*************************\n",
            "Epoch [147] || val_loss: 0.0490, val_acc: 0.9862 || train_loss : 0.1979, train_acc: 0.9387 || Last LR: 0.0000625\n",
            "*************************\n",
            "Epoch [148] || val_loss: 0.0493, val_acc: 0.9859 || train_loss : 0.2004, train_acc: 0.9380 || Last LR: 0.0000625\n",
            "*************************\n",
            "Epoch [149] || val_loss: 0.0489, val_acc: 0.9864 || train_loss : 0.1985, train_acc: 0.9389 || Last LR: 0.0000625\n",
            "*************************\n",
            "Epoch [150] || val_loss: 0.0490, val_acc: 0.9861 || train_loss : 0.1962, train_acc: 0.9372 || Last LR: 0.0000625\n",
            "*************************\n"
          ],
          "name": "stdout"
        }
      ]
    },
    {
      "cell_type": "code",
      "metadata": {
        "id": "oTSXiIcecmaw",
        "colab_type": "code",
        "colab": {}
      },
      "source": [
        "torch.save(best_model, 'drive/My Drive/Colab Notebooks/nlp-sadosky/model-snn-full.pt')"
      ],
      "execution_count": 277,
      "outputs": []
    },
    {
      "cell_type": "code",
      "metadata": {
        "id": "BK0_IRXI1yxf",
        "colab_type": "code",
        "colab": {
          "base_uri": "https://localhost:8080/",
          "height": 298
        },
        "outputId": "f04af64d-4b89-40c4-fff0-94605f8c4adf"
      },
      "source": [
        "plot_loss(history_final)\n"
      ],
      "execution_count": 278,
      "outputs": [
        {
          "output_type": "display_data",
          "data": {
            "image/png": "[encoded data removed]",
            "text/plain": [
              "<Figure size 432x288 with 1 Axes>"
            ]
          },
          "metadata": {
            "tags": []
          }
        }
      ]
    },
    {
      "cell_type": "code",
      "metadata": {
        "id": "Aist1Z0e15HE",
        "colab_type": "code",
        "colab": {}
      },
      "source": [
        ""
      ],
      "execution_count": 278,
      "outputs": []
    },
    {
      "cell_type": "code",
      "metadata": {
        "id": "ce5d2Q3Sf0_z",
        "colab_type": "code",
        "colab": {
          "base_uri": "https://localhost:8080/",
          "height": 391
        },
        "outputId": "e5ecdaf9-6c5c-4162-cb6a-f43c631255d1"
      },
      "source": [
        "df_test = pd.read_csv(TEST_DATA)\n",
        "df_test"
      ],
      "execution_count": 279,
      "outputs": [
        {
          "output_type": "execute_result",
          "data": {
            "text/html": [
              "<div>\n",
              "<style scoped>\n",
              "    .dataframe tbody tr th:only-of-type {\n",
              "        vertical-align: middle;\n",
              "    }\n",
              "\n",
              "    .dataframe tbody tr th {\n",
              "        vertical-align: top;\n",
              "    }\n",
              "\n",
              "    .dataframe thead th {\n",
              "        text-align: right;\n",
              "    }\n",
              "</style>\n",
              "<table border=\"1\" class=\"dataframe\">\n",
              "  <thead>\n",
              "    <tr style=\"text-align: right;\">\n",
              "      <th></th>\n",
              "      <th>id</th>\n",
              "      <th>Pregunta</th>\n",
              "    </tr>\n",
              "  </thead>\n",
              "  <tbody>\n",
              "    <tr>\n",
              "      <th>0</th>\n",
              "      <td>0</td>\n",
              "      <td>querer saber tarjeta sin limite</td>\n",
              "    </tr>\n",
              "    <tr>\n",
              "      <th>1</th>\n",
              "      <td>1</td>\n",
              "      <td>¿cuál es el límite de mi tarjeta santander?</td>\n",
              "    </tr>\n",
              "    <tr>\n",
              "      <th>2</th>\n",
              "      <td>2</td>\n",
              "      <td>hay beneficios en restaurantes de la costa atl...</td>\n",
              "    </tr>\n",
              "    <tr>\n",
              "      <th>3</th>\n",
              "      <td>3</td>\n",
              "      <td>semana realizar pagar afip monotributo volver ...</td>\n",
              "    </tr>\n",
              "    <tr>\n",
              "      <th>4</th>\n",
              "      <td>4</td>\n",
              "      <td>por un prestamo de mil cuanto es el interes?</td>\n",
              "    </tr>\n",
              "    <tr>\n",
              "      <th>...</th>\n",
              "      <td>...</td>\n",
              "      <td>...</td>\n",
              "    </tr>\n",
              "    <tr>\n",
              "      <th>6697</th>\n",
              "      <td>6697</td>\n",
              "      <td>denunciar un cobro de tarjeta de credito</td>\n",
              "    </tr>\n",
              "    <tr>\n",
              "      <th>6698</th>\n",
              "      <td>6698</td>\n",
              "      <td>quiero pagar deuda refinanciada</td>\n",
              "    </tr>\n",
              "    <tr>\n",
              "      <th>6699</th>\n",
              "      <td>6699</td>\n",
              "      <td>quiero pagar de mi open credit un poquito mas ...</td>\n",
              "    </tr>\n",
              "    <tr>\n",
              "      <th>6700</th>\n",
              "      <td>6700</td>\n",
              "      <td>nesecito imprimir mi resumen tarjeta de credit...</td>\n",
              "    </tr>\n",
              "    <tr>\n",
              "      <th>6701</th>\n",
              "      <td>6701</td>\n",
              "      <td>quiero obtener una visa credito</td>\n",
              "    </tr>\n",
              "  </tbody>\n",
              "</table>\n",
              "<p>6702 rows × 2 columns</p>\n",
              "</div>"
            ],
            "text/plain": [
              "        id                                           Pregunta\n",
              "0        0                    querer saber tarjeta sin limite\n",
              "1        1        ¿cuál es el límite de mi tarjeta santander?\n",
              "2        2  hay beneficios en restaurantes de la costa atl...\n",
              "3        3  semana realizar pagar afip monotributo volver ...\n",
              "4        4       por un prestamo de mil cuanto es el interes?\n",
              "...    ...                                                ...\n",
              "6697  6697           denunciar un cobro de tarjeta de credito\n",
              "6698  6698                    quiero pagar deuda refinanciada\n",
              "6699  6699  quiero pagar de mi open credit un poquito mas ...\n",
              "6700  6700  nesecito imprimir mi resumen tarjeta de credit...\n",
              "6701  6701                    quiero obtener una visa credito\n",
              "\n",
              "[6702 rows x 2 columns]"
            ]
          },
          "metadata": {
            "tags": []
          },
          "execution_count": 279
        }
      ]
    },
    {
      "cell_type": "code",
      "metadata": {
        "id": "QWjeeLSaf-g8",
        "colab_type": "code",
        "colab": {}
      },
      "source": [
        "df_test_ = df_test.copy()\n",
        "df_test_ = df_test_.drop(columns=\"id\")"
      ],
      "execution_count": 280,
      "outputs": []
    },
    {
      "cell_type": "code",
      "metadata": {
        "id": "UfDEovvEgKLG",
        "colab_type": "code",
        "colab": {
          "base_uri": "https://localhost:8080/",
          "height": 130,
          "referenced_widgets": [
            "f4458d78aec941c6a53f454fdd01949e",
            "289bcd2eef234c699a0b73b8a93aba9b",
            "519f0b4d24374578a6973e9712d80f80",
            "b3bbc9d7ce274a669043c3ed68e0043c",
            "5f7873147e75477bbe12a4b5dd3a41bf",
            "fffc9a51e28e42218cac5a676366e9cd",
            "606494beb87b4c0e82146fb72d9ebcfe",
            "9c445abea9a04dbfbd66288bb9faa645"
          ]
        },
        "outputId": "18fd639d-580b-44cb-cb3b-d402cdbc10e8"
      },
      "source": [
        "cleaner = Cleaner()\n",
        "pbar = tqdm(total=len(df_test_.Pregunta))\n",
        "df_test_[\"Pregunta\"] = df_test_.Pregunta.apply(lambda s: tqdemizado(s, pbar))\n",
        "pbar.close()"
      ],
      "execution_count": 281,
      "outputs": [
        {
          "output_type": "stream",
          "text": [
            "[nltk_data] Downloading package punkt to /root/nltk_data...\n",
            "[nltk_data]   Package punkt is already up-to-date!\n",
            "[nltk_data] Downloading package stopwords to /root/nltk_data...\n",
            "[nltk_data]   Package stopwords is already up-to-date!\n"
          ],
          "name": "stdout"
        },
        {
          "output_type": "display_data",
          "data": {
            "application/vnd.jupyter.widget-view+json": {
              "model_id": "f4458d78aec941c6a53f454fdd01949e",
              "version_minor": 0,
              "version_major": 2
            },
            "text/plain": [
              "HBox(children=(FloatProgress(value=0.0, max=6702.0), HTML(value='')))"
            ]
          },
          "metadata": {
            "tags": []
          }
        },
        {
          "output_type": "stream",
          "text": [
            "\n"
          ],
          "name": "stdout"
        }
      ]
    },
    {
      "cell_type": "code",
      "metadata": {
        "id": "dhpNuYYLgVmT",
        "colab_type": "code",
        "colab": {}
      },
      "source": [
        "df_test_[\"Target\"] = 1"
      ],
      "execution_count": 282,
      "outputs": []
    },
    {
      "cell_type": "code",
      "metadata": {
        "id": "ScsXztgHgvKm",
        "colab_type": "code",
        "colab": {
          "base_uri": "https://localhost:8080/",
          "height": 65,
          "referenced_widgets": [
            "5300c5ae44cc47cd968fd265502ae71d",
            "68b4c94adebd4d7593dcbc9d27c560d3",
            "d0417c29c70542bfb38441cdc3b340f5",
            "46584ffa9367407bb4424fa38f7d56c9",
            "7b5e2af03e79427d91127236c6d437a2",
            "44f563b6e0a1491399425153546709b4",
            "0109de433a9445648ce45642c80fdf43",
            "6b6d5c6dbf0644a4ba46a77415c35563"
          ]
        },
        "outputId": "66fe8f59-4323-40fe-9355-01a6a0dd6610"
      },
      "source": [
        "to_predict = torchtext.data.Dataset(map_examples(df_test_), fields)"
      ],
      "execution_count": 283,
      "outputs": [
        {
          "output_type": "display_data",
          "data": {
            "application/vnd.jupyter.widget-view+json": {
              "model_id": "5300c5ae44cc47cd968fd265502ae71d",
              "version_minor": 0,
              "version_major": 2
            },
            "text/plain": [
              "HBox(children=(FloatProgress(value=0.0, max=6702.0), HTML(value='')))"
            ]
          },
          "metadata": {
            "tags": []
          }
        },
        {
          "output_type": "stream",
          "text": [
            "\n"
          ],
          "name": "stdout"
        }
      ]
    },
    {
      "cell_type": "code",
      "metadata": {
        "id": "4lVBtywBg13_",
        "colab_type": "code",
        "colab": {
          "base_uri": "https://localhost:8080/",
          "height": 33
        },
        "outputId": "f2d73d95-6eb6-447e-cb65-437d0f1e7475"
      },
      "source": [
        "snn_model.load_state_dict(best_model)"
      ],
      "execution_count": 286,
      "outputs": [
        {
          "output_type": "execute_result",
          "data": {
            "text/plain": [
              "<All keys matched successfully>"
            ]
          },
          "metadata": {
            "tags": []
          },
          "execution_count": 286
        }
      ]
    },
    {
      "cell_type": "code",
      "metadata": {
        "id": "j5oG3dWDg3S_",
        "colab_type": "code",
        "colab": {}
      },
      "source": [
        "def pred_text(text, printtext = False):\n",
        "  processed = TWEET.process([TWEET.preprocess(text)])\n",
        "  if printtext:\n",
        "    print(processed)\n",
        "  processed = processed.to('cuda')\n",
        "  snn_model.eval()\n",
        "  with torch.no_grad():\n",
        "    return LABEL.vocab.itos[snn_model(processed).argmax().item()]\n",
        "  "
      ],
      "execution_count": 288,
      "outputs": []
    },
    {
      "cell_type": "code",
      "metadata": {
        "id": "l9bZMF2gjHex",
        "colab_type": "code",
        "colab": {}
      },
      "source": [
        "df_test_.Target = df_test_.Pregunta.apply(pred_text)"
      ],
      "execution_count": 289,
      "outputs": []
    },
    {
      "cell_type": "code",
      "metadata": {
        "id": "gYYbUMnijWbd",
        "colab_type": "code",
        "colab": {
          "base_uri": "https://localhost:8080/",
          "height": 212
        },
        "outputId": "d870a4cb-b953-4e01-8089-4ef28009050b"
      },
      "source": [
        "df_test_.Target"
      ],
      "execution_count": 290,
      "outputs": [
        {
          "output_type": "execute_result",
          "data": {
            "text/plain": [
              "0       Cat_303\n",
              "1       Cat_303\n",
              "2       Cat_311\n",
              "3       Cat_129\n",
              "4       Cat_258\n",
              "         ...   \n",
              "6697    Cat_112\n",
              "6698    Cat_192\n",
              "6699    Cat_199\n",
              "6700    Cat_138\n",
              "6701    Cat_337\n",
              "Name: Target, Length: 6702, dtype: object"
            ]
          },
          "metadata": {
            "tags": []
          },
          "execution_count": 290
        }
      ]
    },
    {
      "cell_type": "code",
      "metadata": {
        "id": "FuwGj219jb0N",
        "colab_type": "code",
        "colab": {}
      },
      "source": [
        "data[\"Predicted\"] = data.Pregunta.apply(pred_text)"
      ],
      "execution_count": 291,
      "outputs": []
    },
    {
      "cell_type": "code",
      "metadata": {
        "id": "RyKBHx4ZDJaK",
        "colab_type": "code",
        "colab": {
          "base_uri": "https://localhost:8080/",
          "height": 277
        },
        "outputId": "eced161b-e015-4f7b-cdc0-5b999b2fd0c8"
      },
      "source": [
        "# data[data.Target == 19].Pregunta.apply(partial(pred_text, printtext=True))\n",
        "data[data.Target == \"Cat_19\"]"
      ],
      "execution_count": 292,
      "outputs": [
        {
          "output_type": "execute_result",
          "data": {
            "text/html": [
              "<div>\n",
              "<style scoped>\n",
              "    .dataframe tbody tr th:only-of-type {\n",
              "        vertical-align: middle;\n",
              "    }\n",
              "\n",
              "    .dataframe tbody tr th {\n",
              "        vertical-align: top;\n",
              "    }\n",
              "\n",
              "    .dataframe thead th {\n",
              "        text-align: right;\n",
              "    }\n",
              "</style>\n",
              "<table border=\"1\" class=\"dataframe\">\n",
              "  <thead>\n",
              "    <tr style=\"text-align: right;\">\n",
              "      <th></th>\n",
              "      <th>Pregunta</th>\n",
              "      <th>Intencion</th>\n",
              "      <th>Target</th>\n",
              "      <th>Predicted</th>\n",
              "    </tr>\n",
              "  </thead>\n",
              "  <tbody>\n",
              "    <tr>\n",
              "      <th>88</th>\n",
              "      <td>buenos dias</td>\n",
              "      <td>Cat_19</td>\n",
              "      <td>Cat_19</td>\n",
              "      <td>Cat_19</td>\n",
              "    </tr>\n",
              "    <tr>\n",
              "      <th>302</th>\n",
              "      <td>buenas noches</td>\n",
              "      <td>Cat_19</td>\n",
              "      <td>Cat_19</td>\n",
              "      <td>Cat_19</td>\n",
              "    </tr>\n",
              "    <tr>\n",
              "      <th>3515</th>\n",
              "      <td>hola buen dia</td>\n",
              "      <td>Cat_19</td>\n",
              "      <td>Cat_19</td>\n",
              "      <td>Cat_19</td>\n",
              "    </tr>\n",
              "    <tr>\n",
              "      <th>7747</th>\n",
              "      <td>polis</td>\n",
              "      <td>Cat_19</td>\n",
              "      <td>Cat_19</td>\n",
              "      <td>Cat_19</td>\n",
              "    </tr>\n",
              "    <tr>\n",
              "      <th>14373</th>\n",
              "      <td>buenas tardes</td>\n",
              "      <td>Cat_19</td>\n",
              "      <td>Cat_19</td>\n",
              "      <td>Cat_19</td>\n",
              "    </tr>\n",
              "    <tr>\n",
              "      <th>18700</th>\n",
              "      <td>buen dia</td>\n",
              "      <td>Cat_19</td>\n",
              "      <td>Cat_19</td>\n",
              "      <td>Cat_19</td>\n",
              "    </tr>\n",
              "    <tr>\n",
              "      <th>19129</th>\n",
              "      <td>hola</td>\n",
              "      <td>Cat_19</td>\n",
              "      <td>Cat_19</td>\n",
              "      <td>Cat_19</td>\n",
              "    </tr>\n",
              "    <tr>\n",
              "      <th>19933</th>\n",
              "      <td>hola buenas tardes</td>\n",
              "      <td>Cat_19</td>\n",
              "      <td>Cat_19</td>\n",
              "      <td>Cat_19</td>\n",
              "    </tr>\n",
              "  </tbody>\n",
              "</table>\n",
              "</div>"
            ],
            "text/plain": [
              "                 Pregunta Intencion  Target Predicted\n",
              "88            buenos dias    Cat_19  Cat_19    Cat_19\n",
              "302         buenas noches    Cat_19  Cat_19    Cat_19\n",
              "3515        hola buen dia    Cat_19  Cat_19    Cat_19\n",
              "7747                polis    Cat_19  Cat_19    Cat_19\n",
              "14373       buenas tardes    Cat_19  Cat_19    Cat_19\n",
              "18700            buen dia    Cat_19  Cat_19    Cat_19\n",
              "19129                hola    Cat_19  Cat_19    Cat_19\n",
              "19933  hola buenas tardes    Cat_19  Cat_19    Cat_19"
            ]
          },
          "metadata": {
            "tags": []
          },
          "execution_count": 292
        }
      ]
    },
    {
      "cell_type": "code",
      "metadata": {
        "id": "J_s_fWrPlowo",
        "colab_type": "code",
        "colab": {
          "base_uri": "https://localhost:8080/",
          "height": 33
        },
        "outputId": "ff7dcf67-dd1a-46a1-cc8a-a40f1a9a67f4"
      },
      "source": [
        "balanced_accuracy_score(data.Intencion, data.Predicted)"
      ],
      "execution_count": 293,
      "outputs": [
        {
          "output_type": "execute_result",
          "data": {
            "text/plain": [
              "0.9830089545640658"
            ]
          },
          "metadata": {
            "tags": []
          },
          "execution_count": 293
        }
      ]
    },
    {
      "cell_type": "code",
      "metadata": {
        "id": "Uvpx_9Zu786c",
        "colab_type": "code",
        "colab": {
          "base_uri": "https://localhost:8080/",
          "height": 212
        },
        "outputId": "2e00b19b-5e09-435f-e38c-5bf3a67ff77d"
      },
      "source": [
        "targets_dificiles = data[data.Intencion != data.Predicted].Target\n",
        "data[data.Intencion.isin(targets_dificiles)].Target.value_counts()"
      ],
      "execution_count": 298,
      "outputs": [
        {
          "output_type": "execute_result",
          "data": {
            "text/plain": [
              "Cat_132    600\n",
              "Cat_293    567\n",
              "Cat_1      493\n",
              "Cat_147    488\n",
              "Cat_223    477\n",
              "          ... \n",
              "Cat_344      9\n",
              "Cat_204      7\n",
              "Cat_12       6\n",
              "Cat_23       5\n",
              "Cat_14       5\n",
              "Name: Target, Length: 102, dtype: int64"
            ]
          },
          "metadata": {
            "tags": []
          },
          "execution_count": 298
        }
      ]
    },
    {
      "cell_type": "markdown",
      "metadata": {
        "id": "9aY-5yTXAe-f",
        "colab_type": "text"
      },
      "source": [
        "### Save & submit solution"
      ]
    },
    {
      "cell_type": "code",
      "metadata": {
        "id": "lnpRFlsTuAXT",
        "colab_type": "code",
        "colab": {}
      },
      "source": [
        "tosave = df_test.join(df_test_.drop(columns='Pregunta'))[['id', 'Target']]\n",
        "tosave['Target'] = tosave[\"Target\"].str.replace('Cat_','')\n",
        "                                                         "
      ],
      "execution_count": 299,
      "outputs": []
    },
    {
      "cell_type": "code",
      "metadata": {
        "id": "atci_SbFjfOy",
        "colab_type": "code",
        "colab": {}
      },
      "source": [
        "tosave.to_csv('answers_snn.csv', header=False, index=False)"
      ],
      "execution_count": 300,
      "outputs": []
    },
    {
      "cell_type": "code",
      "metadata": {
        "id": "RwKZSwR_mX-v",
        "colab_type": "code",
        "colab": {
          "base_uri": "https://localhost:8080/",
          "height": 33
        },
        "outputId": "eb842603-96ad-4b0f-ceaf-3fbd641f5f07"
      },
      "source": [
        "LABEL.process([0]), LABEL.vocab.stoi[0], LABEL.vocab.itos[87] # itos[answer] returns real labels mapped."
      ],
      "execution_count": 885,
      "outputs": [
        {
          "output_type": "execute_result",
          "data": {
            "text/plain": [
              "(tensor([87]), 87, 0)"
            ]
          },
          "metadata": {
            "tags": []
          },
          "execution_count": 885
        }
      ]
    },
    {
      "cell_type": "code",
      "metadata": {
        "id": "4FQTRq2hMGf9",
        "colab_type": "code",
        "colab": {
          "base_uri": "https://localhost:8080/",
          "height": 1000
        },
        "outputId": "42b995be-796f-459e-e569-444c01e64d31"
      },
      "source": [
        "TWEET.process([TWEET.preprocess(fulldata.examples[18700].Pregunta)]) # 2 is a <eos> and 1 is <pad>. "
      ],
      "execution_count": 879,
      "outputs": [
        {
          "output_type": "execute_result",
          "data": {
            "text/plain": [
              "tensor([[2233],\n",
              "        [ 121],\n",
              "        [   2],\n",
              "        [   1],\n",
              "        [   1],\n",
              "        [   1],\n",
              "        [   1],\n",
              "        [   1],\n",
              "        [   1],\n",
              "        [   1],\n",
              "        [   1],\n",
              "        [   1],\n",
              "        [   1],\n",
              "        [   1],\n",
              "        [   1],\n",
              "        [   1],\n",
              "        [   1],\n",
              "        [   1],\n",
              "        [   1],\n",
              "        [   1],\n",
              "        [   1],\n",
              "        [   1],\n",
              "        [   1],\n",
              "        [   1],\n",
              "        [   1],\n",
              "        [   1],\n",
              "        [   1],\n",
              "        [   1],\n",
              "        [   1],\n",
              "        [   1],\n",
              "        [   1],\n",
              "        [   1],\n",
              "        [   1],\n",
              "        [   1],\n",
              "        [   1],\n",
              "        [   1],\n",
              "        [   1],\n",
              "        [   1],\n",
              "        [   1],\n",
              "        [   1],\n",
              "        [   1],\n",
              "        [   1],\n",
              "        [   1],\n",
              "        [   1],\n",
              "        [   1],\n",
              "        [   1],\n",
              "        [   1],\n",
              "        [   1],\n",
              "        [   1],\n",
              "        [   1],\n",
              "        [   1],\n",
              "        [   1],\n",
              "        [   1],\n",
              "        [   1],\n",
              "        [   1],\n",
              "        [   1],\n",
              "        [   1],\n",
              "        [   1],\n",
              "        [   1],\n",
              "        [   1],\n",
              "        [   1],\n",
              "        [   1],\n",
              "        [   1],\n",
              "        [   1]])"
            ]
          },
          "metadata": {
            "tags": []
          },
          "execution_count": 879
        }
      ]
    },
    {
      "cell_type": "code",
      "metadata": {
        "id": "LS8HYVqaNbXE",
        "colab_type": "code",
        "colab": {}
      },
      "source": [
        ""
      ],
      "execution_count": null,
      "outputs": []
    }
  ]
}