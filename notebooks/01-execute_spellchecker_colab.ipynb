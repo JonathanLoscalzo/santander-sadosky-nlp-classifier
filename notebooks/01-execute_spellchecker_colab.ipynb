{
  "nbformat": 4,
  "nbformat_minor": 0,
  "metadata": {
    "colab": {
      "name": "00-spellchecking.ipynb",
      "provenance": [],
      "collapsed_sections": [],
      "toc_visible": true
    },
    "kernelspec": {
      "name": "python3",
      "display_name": "Python 3"
    },
    "widgets": {
      "application/vnd.jupyter.widget-state+json": {
        "1766d94b5d7644cb99869727850073fb": {
          "model_module": "@jupyter-widgets/controls",
          "model_name": "HBoxModel",
          "state": {
            "_view_name": "HBoxView",
            "_dom_classes": [],
            "_model_name": "HBoxModel",
            "_view_module": "@jupyter-widgets/controls",
            "_model_module_version": "1.5.0",
            "_view_count": null,
            "_view_module_version": "1.5.0",
            "box_style": "",
            "layout": "IPY_MODEL_0e6f1d593476473fa92ec48ce36b0513",
            "_model_module": "@jupyter-widgets/controls",
            "children": [
              "IPY_MODEL_26a1fe9ed17b4542b8517c7f49ac014f",
              "IPY_MODEL_e2ffa5bdf3c242aca6431b977c22b806"
            ]
          }
        },
        "0e6f1d593476473fa92ec48ce36b0513": {
          "model_module": "@jupyter-widgets/base",
          "model_name": "LayoutModel",
          "state": {
            "_view_name": "LayoutView",
            "grid_template_rows": null,
            "right": null,
            "justify_content": null,
            "_view_module": "@jupyter-widgets/base",
            "overflow": null,
            "_model_module_version": "1.2.0",
            "_view_count": null,
            "flex_flow": null,
            "width": null,
            "min_width": null,
            "border": null,
            "align_items": null,
            "bottom": null,
            "_model_module": "@jupyter-widgets/base",
            "top": null,
            "grid_column": null,
            "overflow_y": null,
            "overflow_x": null,
            "grid_auto_flow": null,
            "grid_area": null,
            "grid_template_columns": null,
            "flex": null,
            "_model_name": "LayoutModel",
            "justify_items": null,
            "grid_row": null,
            "max_height": null,
            "align_content": null,
            "visibility": null,
            "align_self": null,
            "height": null,
            "min_height": null,
            "padding": null,
            "grid_auto_rows": null,
            "grid_gap": null,
            "max_width": null,
            "order": null,
            "_view_module_version": "1.2.0",
            "grid_template_areas": null,
            "object_position": null,
            "object_fit": null,
            "grid_auto_columns": null,
            "margin": null,
            "display": null,
            "left": null
          }
        },
        "26a1fe9ed17b4542b8517c7f49ac014f": {
          "model_module": "@jupyter-widgets/controls",
          "model_name": "FloatProgressModel",
          "state": {
            "_view_name": "ProgressView",
            "style": "IPY_MODEL_fb9a2018b45545048bfb98aa7057bc55",
            "_dom_classes": [],
            "description": "100%",
            "_model_name": "FloatProgressModel",
            "bar_style": "success",
            "max": 20104,
            "_view_module": "@jupyter-widgets/controls",
            "_model_module_version": "1.5.0",
            "value": 20104,
            "_view_count": null,
            "_view_module_version": "1.5.0",
            "orientation": "horizontal",
            "min": 0,
            "description_tooltip": null,
            "_model_module": "@jupyter-widgets/controls",
            "layout": "IPY_MODEL_8caf75a1a175488cbd1f72458a8c5830"
          }
        },
        "e2ffa5bdf3c242aca6431b977c22b806": {
          "model_module": "@jupyter-widgets/controls",
          "model_name": "HTMLModel",
          "state": {
            "_view_name": "HTMLView",
            "style": "IPY_MODEL_23fe42c24d1b44a8b9c68abd5cd8a358",
            "_dom_classes": [],
            "description": "",
            "_model_name": "HTMLModel",
            "placeholder": "​",
            "_view_module": "@jupyter-widgets/controls",
            "_model_module_version": "1.5.0",
            "value": " 20104/20104 [1:05:53&lt;00:00,  5.09it/s]",
            "_view_count": null,
            "_view_module_version": "1.5.0",
            "description_tooltip": null,
            "_model_module": "@jupyter-widgets/controls",
            "layout": "IPY_MODEL_3cd6d2b7c8404a9bbaae427b7660a2c7"
          }
        },
        "fb9a2018b45545048bfb98aa7057bc55": {
          "model_module": "@jupyter-widgets/controls",
          "model_name": "ProgressStyleModel",
          "state": {
            "_view_name": "StyleView",
            "_model_name": "ProgressStyleModel",
            "description_width": "initial",
            "_view_module": "@jupyter-widgets/base",
            "_model_module_version": "1.5.0",
            "_view_count": null,
            "_view_module_version": "1.2.0",
            "bar_color": null,
            "_model_module": "@jupyter-widgets/controls"
          }
        },
        "8caf75a1a175488cbd1f72458a8c5830": {
          "model_module": "@jupyter-widgets/base",
          "model_name": "LayoutModel",
          "state": {
            "_view_name": "LayoutView",
            "grid_template_rows": null,
            "right": null,
            "justify_content": null,
            "_view_module": "@jupyter-widgets/base",
            "overflow": null,
            "_model_module_version": "1.2.0",
            "_view_count": null,
            "flex_flow": null,
            "width": null,
            "min_width": null,
            "border": null,
            "align_items": null,
            "bottom": null,
            "_model_module": "@jupyter-widgets/base",
            "top": null,
            "grid_column": null,
            "overflow_y": null,
            "overflow_x": null,
            "grid_auto_flow": null,
            "grid_area": null,
            "grid_template_columns": null,
            "flex": null,
            "_model_name": "LayoutModel",
            "justify_items": null,
            "grid_row": null,
            "max_height": null,
            "align_content": null,
            "visibility": null,
            "align_self": null,
            "height": null,
            "min_height": null,
            "padding": null,
            "grid_auto_rows": null,
            "grid_gap": null,
            "max_width": null,
            "order": null,
            "_view_module_version": "1.2.0",
            "grid_template_areas": null,
            "object_position": null,
            "object_fit": null,
            "grid_auto_columns": null,
            "margin": null,
            "display": null,
            "left": null
          }
        },
        "23fe42c24d1b44a8b9c68abd5cd8a358": {
          "model_module": "@jupyter-widgets/controls",
          "model_name": "DescriptionStyleModel",
          "state": {
            "_view_name": "StyleView",
            "_model_name": "DescriptionStyleModel",
            "description_width": "",
            "_view_module": "@jupyter-widgets/base",
            "_model_module_version": "1.5.0",
            "_view_count": null,
            "_view_module_version": "1.2.0",
            "_model_module": "@jupyter-widgets/controls"
          }
        },
        "3cd6d2b7c8404a9bbaae427b7660a2c7": {
          "model_module": "@jupyter-widgets/base",
          "model_name": "LayoutModel",
          "state": {
            "_view_name": "LayoutView",
            "grid_template_rows": null,
            "right": null,
            "justify_content": null,
            "_view_module": "@jupyter-widgets/base",
            "overflow": null,
            "_model_module_version": "1.2.0",
            "_view_count": null,
            "flex_flow": null,
            "width": null,
            "min_width": null,
            "border": null,
            "align_items": null,
            "bottom": null,
            "_model_module": "@jupyter-widgets/base",
            "top": null,
            "grid_column": null,
            "overflow_y": null,
            "overflow_x": null,
            "grid_auto_flow": null,
            "grid_area": null,
            "grid_template_columns": null,
            "flex": null,
            "_model_name": "LayoutModel",
            "justify_items": null,
            "grid_row": null,
            "max_height": null,
            "align_content": null,
            "visibility": null,
            "align_self": null,
            "height": null,
            "min_height": null,
            "padding": null,
            "grid_auto_rows": null,
            "grid_gap": null,
            "max_width": null,
            "order": null,
            "_view_module_version": "1.2.0",
            "grid_template_areas": null,
            "object_position": null,
            "object_fit": null,
            "grid_auto_columns": null,
            "margin": null,
            "display": null,
            "left": null
          }
        },
        "b021c4b7bdbf4f739520baedf6b7d069": {
          "model_module": "@jupyter-widgets/controls",
          "model_name": "HBoxModel",
          "state": {
            "_view_name": "HBoxView",
            "_dom_classes": [],
            "_model_name": "HBoxModel",
            "_view_module": "@jupyter-widgets/controls",
            "_model_module_version": "1.5.0",
            "_view_count": null,
            "_view_module_version": "1.5.0",
            "box_style": "",
            "layout": "IPY_MODEL_f3cb2b3f5e474526a35154f76fad2f8c",
            "_model_module": "@jupyter-widgets/controls",
            "children": [
              "IPY_MODEL_dca54825b54c4c90934d198e2d97b207",
              "IPY_MODEL_44c9ef8b4ae44b16b91460a2ed5673ea"
            ]
          }
        },
        "f3cb2b3f5e474526a35154f76fad2f8c": {
          "model_module": "@jupyter-widgets/base",
          "model_name": "LayoutModel",
          "state": {
            "_view_name": "LayoutView",
            "grid_template_rows": null,
            "right": null,
            "justify_content": null,
            "_view_module": "@jupyter-widgets/base",
            "overflow": null,
            "_model_module_version": "1.2.0",
            "_view_count": null,
            "flex_flow": null,
            "width": null,
            "min_width": null,
            "border": null,
            "align_items": null,
            "bottom": null,
            "_model_module": "@jupyter-widgets/base",
            "top": null,
            "grid_column": null,
            "overflow_y": null,
            "overflow_x": null,
            "grid_auto_flow": null,
            "grid_area": null,
            "grid_template_columns": null,
            "flex": null,
            "_model_name": "LayoutModel",
            "justify_items": null,
            "grid_row": null,
            "max_height": null,
            "align_content": null,
            "visibility": null,
            "align_self": null,
            "height": null,
            "min_height": null,
            "padding": null,
            "grid_auto_rows": null,
            "grid_gap": null,
            "max_width": null,
            "order": null,
            "_view_module_version": "1.2.0",
            "grid_template_areas": null,
            "object_position": null,
            "object_fit": null,
            "grid_auto_columns": null,
            "margin": null,
            "display": null,
            "left": null
          }
        },
        "dca54825b54c4c90934d198e2d97b207": {
          "model_module": "@jupyter-widgets/controls",
          "model_name": "FloatProgressModel",
          "state": {
            "_view_name": "ProgressView",
            "style": "IPY_MODEL_97d1c8d2682a43d3985ea6c3d8959e37",
            "_dom_classes": [],
            "description": "100%",
            "_model_name": "FloatProgressModel",
            "bar_style": "success",
            "max": 6702,
            "_view_module": "@jupyter-widgets/controls",
            "_model_module_version": "1.5.0",
            "value": 6702,
            "_view_count": null,
            "_view_module_version": "1.5.0",
            "orientation": "horizontal",
            "min": 0,
            "description_tooltip": null,
            "_model_module": "@jupyter-widgets/controls",
            "layout": "IPY_MODEL_740aff85570f4f0ab59c2c7c0900c744"
          }
        },
        "44c9ef8b4ae44b16b91460a2ed5673ea": {
          "model_module": "@jupyter-widgets/controls",
          "model_name": "HTMLModel",
          "state": {
            "_view_name": "HTMLView",
            "style": "IPY_MODEL_52291b35a42c40a39bb50280935ae3f9",
            "_dom_classes": [],
            "description": "",
            "_model_name": "HTMLModel",
            "placeholder": "​",
            "_view_module": "@jupyter-widgets/controls",
            "_model_module_version": "1.5.0",
            "value": " 6702/6702 [17:24&lt;00:00,  6.42it/s]",
            "_view_count": null,
            "_view_module_version": "1.5.0",
            "description_tooltip": null,
            "_model_module": "@jupyter-widgets/controls",
            "layout": "IPY_MODEL_435cd66e7baa43de87542ed9104a62f4"
          }
        },
        "97d1c8d2682a43d3985ea6c3d8959e37": {
          "model_module": "@jupyter-widgets/controls",
          "model_name": "ProgressStyleModel",
          "state": {
            "_view_name": "StyleView",
            "_model_name": "ProgressStyleModel",
            "description_width": "initial",
            "_view_module": "@jupyter-widgets/base",
            "_model_module_version": "1.5.0",
            "_view_count": null,
            "_view_module_version": "1.2.0",
            "bar_color": null,
            "_model_module": "@jupyter-widgets/controls"
          }
        },
        "740aff85570f4f0ab59c2c7c0900c744": {
          "model_module": "@jupyter-widgets/base",
          "model_name": "LayoutModel",
          "state": {
            "_view_name": "LayoutView",
            "grid_template_rows": null,
            "right": null,
            "justify_content": null,
            "_view_module": "@jupyter-widgets/base",
            "overflow": null,
            "_model_module_version": "1.2.0",
            "_view_count": null,
            "flex_flow": null,
            "width": null,
            "min_width": null,
            "border": null,
            "align_items": null,
            "bottom": null,
            "_model_module": "@jupyter-widgets/base",
            "top": null,
            "grid_column": null,
            "overflow_y": null,
            "overflow_x": null,
            "grid_auto_flow": null,
            "grid_area": null,
            "grid_template_columns": null,
            "flex": null,
            "_model_name": "LayoutModel",
            "justify_items": null,
            "grid_row": null,
            "max_height": null,
            "align_content": null,
            "visibility": null,
            "align_self": null,
            "height": null,
            "min_height": null,
            "padding": null,
            "grid_auto_rows": null,
            "grid_gap": null,
            "max_width": null,
            "order": null,
            "_view_module_version": "1.2.0",
            "grid_template_areas": null,
            "object_position": null,
            "object_fit": null,
            "grid_auto_columns": null,
            "margin": null,
            "display": null,
            "left": null
          }
        },
        "52291b35a42c40a39bb50280935ae3f9": {
          "model_module": "@jupyter-widgets/controls",
          "model_name": "DescriptionStyleModel",
          "state": {
            "_view_name": "StyleView",
            "_model_name": "DescriptionStyleModel",
            "description_width": "",
            "_view_module": "@jupyter-widgets/base",
            "_model_module_version": "1.5.0",
            "_view_count": null,
            "_view_module_version": "1.2.0",
            "_model_module": "@jupyter-widgets/controls"
          }
        },
        "435cd66e7baa43de87542ed9104a62f4": {
          "model_module": "@jupyter-widgets/base",
          "model_name": "LayoutModel",
          "state": {
            "_view_name": "LayoutView",
            "grid_template_rows": null,
            "right": null,
            "justify_content": null,
            "_view_module": "@jupyter-widgets/base",
            "overflow": null,
            "_model_module_version": "1.2.0",
            "_view_count": null,
            "flex_flow": null,
            "width": null,
            "min_width": null,
            "border": null,
            "align_items": null,
            "bottom": null,
            "_model_module": "@jupyter-widgets/base",
            "top": null,
            "grid_column": null,
            "overflow_y": null,
            "overflow_x": null,
            "grid_auto_flow": null,
            "grid_area": null,
            "grid_template_columns": null,
            "flex": null,
            "_model_name": "LayoutModel",
            "justify_items": null,
            "grid_row": null,
            "max_height": null,
            "align_content": null,
            "visibility": null,
            "align_self": null,
            "height": null,
            "min_height": null,
            "padding": null,
            "grid_auto_rows": null,
            "grid_gap": null,
            "max_width": null,
            "order": null,
            "_view_module_version": "1.2.0",
            "grid_template_areas": null,
            "object_position": null,
            "object_fit": null,
            "grid_auto_columns": null,
            "margin": null,
            "display": null,
            "left": null
          }
        }
      }
    }
  },
  "cells": [
    {
      "cell_type": "code",
      "metadata": {
        "id": "AmUXR_BOgJXC",
        "colab_type": "code",
        "colab": {
          "base_uri": "https://localhost:8080/",
          "height": 125
        },
        "outputId": "8a141918-7b56-490b-e780-f5449233fb6e"
      },
      "source": [
        "from google.colab import drive\n",
        "drive.mount('/content/drive')"
      ],
      "execution_count": 1,
      "outputs": [
        {
          "output_type": "stream",
          "text": [
            "Go to this URL in a browser: https://accounts.google.com/o/oauth2/auth?client_id=947318989803-6bn6qk8qdgf4n4g3pfee6491hc0brc4i.apps.googleusercontent.com&redirect_uri=urn%3aietf%3awg%3aoauth%3a2.0%3aoob&response_type=code&scope=email%20https%3a%2f%2fwww.googleapis.com%2fauth%2fdocs.test%20https%3a%2f%2fwww.googleapis.com%2fauth%2fdrive%20https%3a%2f%2fwww.googleapis.com%2fauth%2fdrive.photos.readonly%20https%3a%2f%2fwww.googleapis.com%2fauth%2fpeopleapi.readonly\n",
            "\n",
            "Enter your authorization code:\n",
            "··········\n",
            "Mounted at /content/drive\n"
          ],
          "name": "stdout"
        }
      ]
    },
    {
      "cell_type": "code",
      "metadata": {
        "id": "_rWOOOtXngdQ",
        "colab_type": "code",
        "colab": {}
      },
      "source": [
        "import pandas as pd\n",
        "import matplotlib.pyplot as plt\n",
        "import numpy as np\n",
        "plt.style.use('ggplot')\n",
        "from tqdm.notebook import trange, tqdm\n",
        "import os"
      ],
      "execution_count": 16,
      "outputs": []
    },
    {
      "cell_type": "code",
      "metadata": {
        "id": "NW-oJId5Vp-a",
        "colab_type": "code",
        "colab": {}
      },
      "source": [
        "import torch\n",
        "if torch.cuda.is_available():\n",
        "  torch.device('cuda')"
      ],
      "execution_count": 2,
      "outputs": []
    },
    {
      "cell_type": "code",
      "metadata": {
        "id": "CB-nfPRrie1H",
        "colab_type": "code",
        "colab": {}
      },
      "source": [
        "from torch import nn"
      ],
      "execution_count": 3,
      "outputs": []
    },
    {
      "cell_type": "markdown",
      "metadata": {
        "id": "ASvF4rzgexfR",
        "colab_type": "text"
      },
      "source": [
        "### Gather Data"
      ]
    },
    {
      "cell_type": "code",
      "metadata": {
        "id": "lQiOQWkyl-i-",
        "colab_type": "code",
        "colab": {
          "base_uri": "https://localhost:8080/",
          "height": 390
        },
        "outputId": "51f3ef51-2aab-466d-a517-675a55351783"
      },
      "source": [
        "# %%capture output\n",
        "!unzip -o 'drive/My Drive/Colab Notebooks/nlp-sadosky/data.zip' -d ./"
      ],
      "execution_count": 4,
      "outputs": [
        {
          "output_type": "stream",
          "text": [
            "Archive:  drive/My Drive/Colab Notebooks/nlp-sadosky/data.zip\n",
            "   creating: ./data/\n",
            "   creating: ./data/raw/\n",
            "  inflating: ./data/raw/test_santander.csv  \n",
            "  inflating: ./data/raw/train.csv    \n",
            "  inflating: ./data/raw/first_submit_santander.csv  \n",
            "  inflating: ./data/raw/.gitkeep     \n",
            "   creating: ./data/external/\n",
            "  inflating: ./data/external/answers.csv  \n",
            "  inflating: ./data/external/CREA_total.zip  \n",
            "  inflating: ./data/external/.gitkeep  \n",
            "  inflating: ./data/external/stopwords.txt  \n",
            "  inflating: ./data/external/CREA_total.TXT  \n",
            "  inflating: ./data/external/dict.json  \n",
            "   creating: ./data/processed/\n",
            "  inflating: ./data/processed/.gitkeep  \n",
            "   creating: ./data/interim/\n",
            "  inflating: ./data/interim/.gitkeep  \n",
            "  inflating: ./data/interim/dictionary.gz  \n",
            "   creating: ./data/results/\n",
            "   creating: ./data/.ipynb_checkpoints/\n"
          ],
          "name": "stdout"
        }
      ]
    },
    {
      "cell_type": "code",
      "metadata": {
        "id": "TKNxe_enkmmS",
        "colab_type": "code",
        "colab": {}
      },
      "source": [
        "DATA_DIR ='./data'\n",
        "RAW_DIR =  os.path.join(DATA_DIR, 'raw/')\n",
        "EXTERNAL_DIR = os.path.join(DATA_DIR, 'external/')\n",
        "TRAIN_DATA = os.path.join(RAW_DIR, 'train.csv')\n",
        "TEST_DATA = os.path.join(RAW_DIR, 'test_santander.csv')\n",
        "STOPWORDS_DIR = os.path.join(EXTERNAL_DIR, 'stopwords.txt')"
      ],
      "execution_count": 25,
      "outputs": []
    },
    {
      "cell_type": "markdown",
      "metadata": {
        "id": "C_Uhu4fkp-_W",
        "colab_type": "text"
      },
      "source": [
        "## Start Learning"
      ]
    },
    {
      "cell_type": "markdown",
      "metadata": {
        "id": "dLx8mfiXOPeJ",
        "colab_type": "text"
      },
      "source": [
        "\n",
        "### Explore dataset\n",
        "If you explore the ./data/raw/... folder you will see 2 new files: \n",
        "- train.csv\n",
        "- test_santander.csv\n"
      ]
    },
    {
      "cell_type": "code",
      "metadata": {
        "id": "3ybr2GaduBko",
        "colab_type": "code",
        "colab": {}
      },
      "source": [
        "# pregunta:\n",
        "# categoria:\n",
        "\n",
        "columns = [\"Pregunta\", \"Intencion\"]"
      ],
      "execution_count": 26,
      "outputs": []
    },
    {
      "cell_type": "code",
      "metadata": {
        "id": "u4DSYImmbTU1",
        "colab_type": "code",
        "colab": {
          "base_uri": "https://localhost:8080/",
          "height": 34
        },
        "outputId": "2df87985-11aa-43ea-fa6c-ab0d85e4e612"
      },
      "source": [
        "!ls $TRAIN_DATA"
      ],
      "execution_count": 27,
      "outputs": [
        {
          "output_type": "stream",
          "text": [
            "./data/raw/train.csv\n"
          ],
          "name": "stdout"
        }
      ]
    },
    {
      "cell_type": "code",
      "metadata": {
        "id": "W6tkR5a9mb_q",
        "colab_type": "code",
        "colab": {
          "base_uri": "https://localhost:8080/",
          "height": 197
        },
        "outputId": "1ac0b7f1-0c0b-455b-e5cc-964aaa1a9f70"
      },
      "source": [
        "data = pd.read_csv(TRAIN_DATA, encoding='utf-8', sep='|')\n",
        "\n",
        "# data.columns = columns\n",
        "data.sample(5)"
      ],
      "execution_count": 28,
      "outputs": [
        {
          "output_type": "execute_result",
          "data": {
            "text/html": [
              "<div>\n",
              "<style scoped>\n",
              "    .dataframe tbody tr th:only-of-type {\n",
              "        vertical-align: middle;\n",
              "    }\n",
              "\n",
              "    .dataframe tbody tr th {\n",
              "        vertical-align: top;\n",
              "    }\n",
              "\n",
              "    .dataframe thead th {\n",
              "        text-align: right;\n",
              "    }\n",
              "</style>\n",
              "<table border=\"1\" class=\"dataframe\">\n",
              "  <thead>\n",
              "    <tr style=\"text-align: right;\">\n",
              "      <th></th>\n",
              "      <th>Pregunta</th>\n",
              "      <th>Intencion</th>\n",
              "    </tr>\n",
              "  </thead>\n",
              "  <tbody>\n",
              "    <tr>\n",
              "      <th>13604</th>\n",
              "      <td>fondo insuficiente en la tarjeta</td>\n",
              "      <td>Cat_303</td>\n",
              "    </tr>\n",
              "    <tr>\n",
              "      <th>13600</th>\n",
              "      <td>me quiero traspasar de sucursal</td>\n",
              "      <td>Cat_65</td>\n",
              "    </tr>\n",
              "    <tr>\n",
              "      <th>1658</th>\n",
              "      <td>caja ahorro costo mensual</td>\n",
              "      <td>Cat_96</td>\n",
              "    </tr>\n",
              "    <tr>\n",
              "      <th>5649</th>\n",
              "      <td>beneficio pintureria</td>\n",
              "      <td>Cat_311</td>\n",
              "    </tr>\n",
              "    <tr>\n",
              "      <th>1410</th>\n",
              "      <td>como puedo solicitar un creditos</td>\n",
              "      <td>Cat_223</td>\n",
              "    </tr>\n",
              "  </tbody>\n",
              "</table>\n",
              "</div>"
            ],
            "text/plain": [
              "                               Pregunta Intencion\n",
              "13604  fondo insuficiente en la tarjeta   Cat_303\n",
              "13600   me quiero traspasar de sucursal    Cat_65\n",
              "1658          caja ahorro costo mensual    Cat_96\n",
              "5649               beneficio pintureria   Cat_311\n",
              "1410   como puedo solicitar un creditos   Cat_223"
            ]
          },
          "metadata": {
            "tags": []
          },
          "execution_count": 28
        }
      ]
    },
    {
      "cell_type": "code",
      "metadata": {
        "id": "5rOtIoCvHIDa",
        "colab_type": "code",
        "colab": {
          "base_uri": "https://localhost:8080/",
          "height": 406
        },
        "outputId": "ec771d78-d72a-4e85-bdf4-2b24218a1f0b"
      },
      "source": [
        "test = pd.read_csv(TEST_DATA)\n",
        "test"
      ],
      "execution_count": 29,
      "outputs": [
        {
          "output_type": "execute_result",
          "data": {
            "text/html": [
              "<div>\n",
              "<style scoped>\n",
              "    .dataframe tbody tr th:only-of-type {\n",
              "        vertical-align: middle;\n",
              "    }\n",
              "\n",
              "    .dataframe tbody tr th {\n",
              "        vertical-align: top;\n",
              "    }\n",
              "\n",
              "    .dataframe thead th {\n",
              "        text-align: right;\n",
              "    }\n",
              "</style>\n",
              "<table border=\"1\" class=\"dataframe\">\n",
              "  <thead>\n",
              "    <tr style=\"text-align: right;\">\n",
              "      <th></th>\n",
              "      <th>id</th>\n",
              "      <th>Pregunta</th>\n",
              "    </tr>\n",
              "  </thead>\n",
              "  <tbody>\n",
              "    <tr>\n",
              "      <th>0</th>\n",
              "      <td>0</td>\n",
              "      <td>querer saber tarjeta sin limite</td>\n",
              "    </tr>\n",
              "    <tr>\n",
              "      <th>1</th>\n",
              "      <td>1</td>\n",
              "      <td>¿cuál es el límite de mi tarjeta santander?</td>\n",
              "    </tr>\n",
              "    <tr>\n",
              "      <th>2</th>\n",
              "      <td>2</td>\n",
              "      <td>hay beneficios en restaurantes de la costa atl...</td>\n",
              "    </tr>\n",
              "    <tr>\n",
              "      <th>3</th>\n",
              "      <td>3</td>\n",
              "      <td>semana realizar pagar afip monotributo volver ...</td>\n",
              "    </tr>\n",
              "    <tr>\n",
              "      <th>4</th>\n",
              "      <td>4</td>\n",
              "      <td>por un prestamo de mil. cuanto es el interes?</td>\n",
              "    </tr>\n",
              "    <tr>\n",
              "      <th>...</th>\n",
              "      <td>...</td>\n",
              "      <td>...</td>\n",
              "    </tr>\n",
              "    <tr>\n",
              "      <th>6697</th>\n",
              "      <td>6697</td>\n",
              "      <td>denunciar un cobro de tarjeta de credito</td>\n",
              "    </tr>\n",
              "    <tr>\n",
              "      <th>6698</th>\n",
              "      <td>6698</td>\n",
              "      <td>quiero pagar deuda refinanciada</td>\n",
              "    </tr>\n",
              "    <tr>\n",
              "      <th>6699</th>\n",
              "      <td>6699</td>\n",
              "      <td>quiero pagar de mi open credit un poquito mas ...</td>\n",
              "    </tr>\n",
              "    <tr>\n",
              "      <th>6700</th>\n",
              "      <td>6700</td>\n",
              "      <td>nesecito imprimir mi resumen tarjeta de credit...</td>\n",
              "    </tr>\n",
              "    <tr>\n",
              "      <th>6701</th>\n",
              "      <td>6701</td>\n",
              "      <td>quiero obtener una visa credito</td>\n",
              "    </tr>\n",
              "  </tbody>\n",
              "</table>\n",
              "<p>6702 rows × 2 columns</p>\n",
              "</div>"
            ],
            "text/plain": [
              "        id                                           Pregunta\n",
              "0        0                    querer saber tarjeta sin limite\n",
              "1        1        ¿cuál es el límite de mi tarjeta santander?\n",
              "2        2  hay beneficios en restaurantes de la costa atl...\n",
              "3        3  semana realizar pagar afip monotributo volver ...\n",
              "4        4      por un prestamo de mil. cuanto es el interes?\n",
              "...    ...                                                ...\n",
              "6697  6697           denunciar un cobro de tarjeta de credito\n",
              "6698  6698                    quiero pagar deuda refinanciada\n",
              "6699  6699  quiero pagar de mi open credit un poquito mas ...\n",
              "6700  6700  nesecito imprimir mi resumen tarjeta de credit...\n",
              "6701  6701                    quiero obtener una visa credito\n",
              "\n",
              "[6702 rows x 2 columns]"
            ]
          },
          "metadata": {
            "tags": []
          },
          "execution_count": 29
        }
      ]
    },
    {
      "cell_type": "code",
      "metadata": {
        "id": "LDDCQFs5wYrE",
        "colab_type": "code",
        "colab": {}
      },
      "source": [
        "# import unidecode\n",
        "from nltk.corpus import stopwords\n",
        "from nltk.tokenize import word_tokenize, WordPunctTokenizer\n",
        "from nltk.tokenize.treebank import TreebankWordDetokenizer , TreebankWordTokenizer\n",
        "import re\n",
        "from toolz import pipe\n",
        "from functools import partial\n",
        "\n",
        "\n",
        "# def get_stopwords(path = '../../data/external/stopwords.txt'):\n",
        "#     \"\"\"\n",
        "#      Read stopwords in spanish\n",
        "#     \"\"\"\n",
        "#     stop_arr = stopwords.words('spanish')\n",
        "\n",
        "#     with open(path) as f:\n",
        "#         for line in f:\n",
        "#             stop_arr.append(unidecode.unidecode(line.strip()))\n",
        "\n",
        "#     stop_arr = sorted(list(set(stop_arr)))\n",
        "\n",
        "#     return stop_arr\n",
        "\n",
        "class Cleaner():\n",
        "    def __init__(self):\n",
        "        # nltk.download('punkt')\n",
        "        self.tk = TreebankWordTokenizer()\n",
        "        self.dtk = TreebankWordDetokenizer()\n",
        "        self.BAD_CAT_REMOVE = re.compile('^Cat_')\n",
        "        self.A_TILDE_REMOVE = re.compile('[á]')\n",
        "        self.E_TILDE_REMOVE = re.compile('[é]')\n",
        "        self.I_TILDE_REMOVE = re.compile('[í]')\n",
        "        self.O_TILDE_REMOVE = re.compile('[ó]')\n",
        "        self.U_TILDE_REMOVE = re.compile('[ú]')\n",
        "        self.POINT_FOLLOWING_LETTER=re.compile('(?<=\\S)\\.(?=\\w)')\n",
        "        self.BAD_SYMBOLS_REMOVE = re.compile('[^A-Za-z0-9_ áéíóú]')\n",
        "    \n",
        "    def applyRegex(self, value,regex,replacement):\n",
        "        value = regex.sub(replacement,value)\n",
        "        return value\n",
        "\n",
        "    def text_cleaning(self, text):\n",
        "        return pipe(\n",
        "            text.lower(),\n",
        "            # partial(self.BAD_SYMBOLS_REMOVE.sub,  ''), \n",
        "            partial(self.A_TILDE_REMOVE.sub, 'a'), \n",
        "            partial(self.E_TILDE_REMOVE.sub, 'e'), \n",
        "            partial(self.I_TILDE_REMOVE.sub, 'i'), \n",
        "            partial(self.O_TILDE_REMOVE.sub, 'o'), \n",
        "            partial(self.U_TILDE_REMOVE.sub, 'u'), \n",
        "            # partial(self.POINT_FOLLOWING_LETTER.sub('. '))\n",
        "        )\n",
        "\n",
        "    def sentence_cleaning(self, sentence, detokenize=False):\n",
        "        word_tokens = pipe(\n",
        "            sentence, \n",
        "            partial(self.POINT_FOLLOWING_LETTER.sub, '. '),\n",
        "            self.tk.tokenize\n",
        "        )       \n",
        "\n",
        "\n",
        "        word_tokens = [self.text_cleaning(text) for text in word_tokens]\n",
        "        # word_tokens.remove('')\n",
        "\n",
        "        if detokenize:\n",
        "            return self.dtk.detokenize(word_tokens)\n",
        "        else: \n",
        "            return word_tokens\n",
        "        "
      ],
      "execution_count": 30,
      "outputs": []
    },
    {
      "cell_type": "code",
      "metadata": {
        "id": "zZGgWCgz-6Fp",
        "colab_type": "code",
        "colab": {
          "base_uri": "https://localhost:8080/",
          "height": 34
        },
        "outputId": "478f88c9-3be1-4872-d02a-1b1a39d73af3"
      },
      "source": [
        "!pip install pyspellchecker -U"
      ],
      "execution_count": 31,
      "outputs": [
        {
          "output_type": "stream",
          "text": [
            "Requirement already up-to-date: pyspellchecker in /usr/local/lib/python3.6/dist-packages (0.5.4)\n"
          ],
          "name": "stdout"
        }
      ]
    },
    {
      "cell_type": "code",
      "metadata": {
        "id": "ha3koqA5i-8y",
        "colab_type": "code",
        "colab": {}
      },
      "source": [
        "from tqdm.notebook import tqdm"
      ],
      "execution_count": 32,
      "outputs": []
    },
    {
      "cell_type": "code",
      "metadata": {
        "id": "PMQ68pWg8O-i",
        "colab_type": "code",
        "colab": {}
      },
      "source": [
        "from spellchecker import SpellChecker\n",
        "\n",
        "spell = SpellChecker()\n",
        "spell.word_frequency.load_dictionary('./data/interim/dictionary.gz')\n",
        "\n",
        "def replace_unknown(r):\n",
        "    misspelling = spell.unknown(cleaner.sentence_cleaning(r))\n",
        "    corrections = [ spell.correction(i) for i in misspelling] \n",
        "    text = r\n",
        "    for m, c in zip(misspelling, corrections):\n",
        "        text = text.replace(m, c)\n",
        "    return text\n",
        "    # return cleaner.sentence_cleaning(r, detokenize=True)\n",
        "\n",
        "def tqdemizado(s, pbar):\n",
        "    pbar.update(1)\n",
        "    return replace_unknown(s)\n"
      ],
      "execution_count": 33,
      "outputs": []
    },
    {
      "cell_type": "code",
      "metadata": {
        "id": "Q7KSyX03i4ZH",
        "colab_type": "code",
        "colab": {
          "base_uri": "https://localhost:8080/",
          "height": 66,
          "referenced_widgets": [
            "1766d94b5d7644cb99869727850073fb",
            "0e6f1d593476473fa92ec48ce36b0513",
            "26a1fe9ed17b4542b8517c7f49ac014f",
            "e2ffa5bdf3c242aca6431b977c22b806",
            "fb9a2018b45545048bfb98aa7057bc55",
            "8caf75a1a175488cbd1f72458a8c5830",
            "23fe42c24d1b44a8b9c68abd5cd8a358",
            "3cd6d2b7c8404a9bbaae427b7660a2c7"
          ]
        },
        "outputId": "2160f88e-6f6e-4148-e684-1c37fd0944fe"
      },
      "source": [
        "cleaner = Cleaner()\n",
        "pbar = tqdm(total=len(data.Pregunta))\n",
        "data[\"Pregunta\"] = data.Pregunta.apply(lambda s: tqdemizado(s, pbar))\n",
        "pbar.close()"
      ],
      "execution_count": 34,
      "outputs": [
        {
          "output_type": "display_data",
          "data": {
            "application/vnd.jupyter.widget-view+json": {
              "model_id": "1766d94b5d7644cb99869727850073fb",
              "version_minor": 0,
              "version_major": 2
            },
            "text/plain": [
              "HBox(children=(FloatProgress(value=0.0, max=20104.0), HTML(value='')))"
            ]
          },
          "metadata": {
            "tags": []
          }
        },
        {
          "output_type": "stream",
          "text": [
            "\n"
          ],
          "name": "stdout"
        }
      ]
    },
    {
      "cell_type": "code",
      "metadata": {
        "id": "srx4OBDKi9dg",
        "colab_type": "code",
        "colab": {
          "base_uri": "https://localhost:8080/",
          "height": 66,
          "referenced_widgets": [
            "b021c4b7bdbf4f739520baedf6b7d069",
            "f3cb2b3f5e474526a35154f76fad2f8c",
            "dca54825b54c4c90934d198e2d97b207",
            "44c9ef8b4ae44b16b91460a2ed5673ea",
            "97d1c8d2682a43d3985ea6c3d8959e37",
            "740aff85570f4f0ab59c2c7c0900c744",
            "52291b35a42c40a39bb50280935ae3f9",
            "435cd66e7baa43de87542ed9104a62f4"
          ]
        },
        "outputId": "d83f7ccb-3cff-4c5b-ef8d-19a141632bb3"
      },
      "source": [
        "cleaner = Cleaner()\n",
        "pbar = tqdm(total=len(test.Pregunta))\n",
        "test[\"Pregunta\"] = test.Pregunta.apply(lambda s: tqdemizado(s, pbar))\n",
        "pbar.close()"
      ],
      "execution_count": 35,
      "outputs": [
        {
          "output_type": "display_data",
          "data": {
            "application/vnd.jupyter.widget-view+json": {
              "model_id": "b021c4b7bdbf4f739520baedf6b7d069",
              "version_minor": 0,
              "version_major": 2
            },
            "text/plain": [
              "HBox(children=(FloatProgress(value=0.0, max=6702.0), HTML(value='')))"
            ]
          },
          "metadata": {
            "tags": []
          }
        },
        {
          "output_type": "stream",
          "text": [
            "\n"
          ],
          "name": "stdout"
        }
      ]
    },
    {
      "cell_type": "code",
      "metadata": {
        "id": "khFF1U62uPaI",
        "colab_type": "code",
        "colab": {}
      },
      "source": [
        "data.to_csv('drive/My Drive/Colab Notebooks/nlp-sadosky/train_cleaned.csv', index=False)"
      ],
      "execution_count": 37,
      "outputs": []
    },
    {
      "cell_type": "code",
      "metadata": {
        "id": "QzRJloviymTx",
        "colab_type": "code",
        "colab": {}
      },
      "source": [
        "test.to_csv('drive/My Drive/Colab Notebooks/nlp-sadosky/test_cleaned.csv', index=False)"
      ],
      "execution_count": 38,
      "outputs": []
    },
    {
      "cell_type": "code",
      "metadata": {
        "id": "JuVITVi7zyi0",
        "colab_type": "code",
        "colab": {}
      },
      "source": [
        ""
      ],
      "execution_count": null,
      "outputs": []
    }
  ]
}