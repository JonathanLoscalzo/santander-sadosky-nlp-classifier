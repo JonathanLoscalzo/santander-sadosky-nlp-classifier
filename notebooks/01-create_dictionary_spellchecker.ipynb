{
 "cells": [
  {
   "cell_type": "markdown",
   "metadata": {},
   "source": [
    "# Create dictionary for spellchecking\n",
    "Data From: [RAE](http://corpus.rae.es/lfrecuencias.html)\n",
    "Parse as dictionary for pyspellchecking "
   ]
  },
  {
   "cell_type": "code",
   "execution_count": null,
   "metadata": {},
   "outputs": [],
   "source": [
    "%load_ext autoreload\n",
    "%autoreload 2"
   ]
  },
  {
   "cell_type": "code",
   "execution_count": null,
   "metadata": {},
   "outputs": [],
   "source": [
    "import pandas as pd"
   ]
  },
  {
   "cell_type": "code",
   "execution_count": null,
   "metadata": {},
   "outputs": [],
   "source": [
    "data = pd.read_csv('../data/external/CREA_total.TXT', sep=\"\\t\", encoding='latin-1', na_filter=False).iloc[:, [0,1]]"
   ]
  },
  {
   "cell_type": "code",
   "execution_count": null,
   "metadata": {},
   "outputs": [],
   "source": [
    "data.columns = [\"palabra\", \"freq\"]"
   ]
  },
  {
   "cell_type": "code",
   "execution_count": null,
   "metadata": {},
   "outputs": [],
   "source": [
    "data.freq = data.freq.astype('str').str.replace(',','').replace(' ','').astype('int')\n",
    "data.palabra = data.palabra.str.strip()"
   ]
  },
  {
   "cell_type": "code",
   "execution_count": null,
   "metadata": {},
   "outputs": [],
   "source": [
    "# data[data.freq.isna()],\n",
    "# data[data.palabra.str.contains('banco santander')]"
   ]
  },
  {
   "cell_type": "code",
   "execution_count": null,
   "metadata": {},
   "outputs": [],
   "source": [
    "spanish_freq = { k:v for k,v in data.values }"
   ]
  },
  {
   "cell_type": "code",
   "execution_count": null,
   "metadata": {},
   "outputs": [],
   "source": [
    "import json\n",
    "with open('../data/external/dict.json', 'w', encoding='utf-8') as outfile:\n",
    "    json.dump(spanish_freq, outfile, ensure_ascii=False)"
   ]
  },
  {
   "cell_type": "code",
   "execution_count": null,
   "metadata": {},
   "outputs": [],
   "source": [
    "from spellchecker import SpellChecker\n",
    "\n",
    "# turn off loading a built language dictionary, case sensitive on (if desired)\n",
    "spell = SpellChecker(language='es', case_sensitive=False)\n",
    "\n",
    "# if you have a dictionary...\n",
    "spell.word_frequency.load_dictionary('../data/external/dict.json')\n",
    "\n",
    "# export it out for later use!\n",
    "spell.export('../data/interim/dictionary.gz', gzipped=True)"
   ]
  },
  {
   "cell_type": "code",
   "execution_count": null,
   "metadata": {},
   "outputs": [],
   "source": [
    "for i in spell.unknown(\"Tengo que ir al bancosantander\".split(' ')):\n",
    "    print(spell.candidates(i))"
   ]
  },
  {
   "cell_type": "code",
   "execution_count": null,
   "metadata": {},
   "outputs": [],
   "source": [
    "spell = SpellChecker()\n",
    "spell.word_frequency.load_dictionary('../data/interim/dictionary.gz')"
   ]
  },
  {
   "cell_type": "code",
   "execution_count": null,
   "metadata": {},
   "outputs": [],
   "source": [
    "for i in spell.unknown(\"Tengo que ir al bancosantander\".split(' ')):\n",
    "    print(spell.candidates(i))"
   ]
  },
  {
   "cell_type": "code",
   "execution_count": null,
   "metadata": {},
   "outputs": [],
   "source": [
    "## clean de dataset?"
   ]
  },
  {
   "cell_type": "code",
   "execution_count": null,
   "metadata": {},
   "outputs": [],
   "source": [
    "import os"
   ]
  },
  {
   "cell_type": "code",
   "execution_count": null,
   "metadata": {},
   "outputs": [],
   "source": [
    "DATA_DIR ='../data'\n",
    "RAW_DIR =  os.path.join(DATA_DIR, 'raw/')\n",
    "EXTERNAL_DIR = os.path.join(DATA_DIR, 'external/')\n",
    "TRAIN_DATA = os.path.join(RAW_DIR, 'train.csv')\n",
    "STOPWORDS_DIR = os.path.join(EXTERNAL_DIR, 'stopwords.txt')"
   ]
  },
  {
   "cell_type": "code",
   "execution_count": null,
   "metadata": {},
   "outputs": [],
   "source": [
    "df = pd.read_csv(TRAIN_DATA, delimiter='|', encoding='utf-8')"
   ]
  },
  {
   "cell_type": "code",
   "execution_count": null,
   "metadata": {},
   "outputs": [],
   "source": [
    "from src.features.build_features import Cleaner"
   ]
  },
  {
   "cell_type": "code",
   "execution_count": null,
   "metadata": {},
   "outputs": [],
   "source": [
    "cleaner = Cleaner()"
   ]
  },
  {
   "cell_type": "code",
   "execution_count": null,
   "metadata": {
    "scrolled": true
   },
   "outputs": [],
   "source": [
    "from nltk.tokenize import word_tokenize\n",
    "from tqdm import tqdm\n",
    "\n",
    "def replace_unknown(r):\n",
    "    misspelling = spell.unknown(cleaner.sentence_cleaning(r))\n",
    "    corrections = [ spell.correction(i) for i in misspelling] \n",
    "    text = r\n",
    "    for m, c in zip(misspelling, corrections):\n",
    "        text = text.replace(m, c)\n",
    "    return text\n",
    "\n",
    "def tqdemizado(s, pbar):\n",
    "    pbar.update(1)\n",
    "    return replace_unknown(s)\n",
    "\n",
    "df[\"Pregunta_clean\"] = df.Pregunta.apply(lambda s: tqdemizado(s, pbar))\n"
   ]
  },
  {
   "cell_type": "code",
   "execution_count": null,
   "metadata": {
    "scrolled": true
   },
   "outputs": [],
   "source": [
    "pbar = tqdm(total=len(df.Pregunta))\n",
    "df[\"Pregunta_clean\"] = df.Pregunta.apply(replace_unknown) # TODO: decorator\n",
    "pbar.close()"
   ]
  },
  {
   "cell_type": "code",
   "execution_count": null,
   "metadata": {},
   "outputs": [],
   "source": [
    "df.Pregunta_clean.notna().sum()"
   ]
  },
  {
   "cell_type": "code",
   "execution_count": null,
   "metadata": {},
   "outputs": [],
   "source": [
    "df.Pregunta.str.contains('hombamnkin').sum()"
   ]
  },
  {
   "cell_type": "code",
   "execution_count": null,
   "metadata": {},
   "outputs": [],
   "source": [
    "df.to_parquet('../data/interim/train.parquet', index=False,)"
   ]
  },
  {
   "cell_type": "code",
   "execution_count": null,
   "metadata": {},
   "outputs": [],
   "source": [
    "test = pd.read_csv(TEST_DATA, delimiter=',')\n",
    "test[\"Pregunta_clean\"] = test.Pregunta.apply(replace_unknown)\n",
    "test.to_parquet('../data/interim/test.parquet', index=False,)"
   ]
  }
 ],
 "metadata": {
  "kernelspec": {
   "display_name": "Python 3",
   "language": "python",
   "name": "python3"
  },
  "language_info": {
   "codemirror_mode": {
    "name": "ipython",
    "version": 3
   },
   "file_extension": ".py",
   "mimetype": "text/x-python",
   "name": "python",
   "nbconvert_exporter": "python",
   "pygments_lexer": "ipython3",
   "version": "3.6.9"
  }
 },
 "nbformat": 4,
 "nbformat_minor": 4
}
