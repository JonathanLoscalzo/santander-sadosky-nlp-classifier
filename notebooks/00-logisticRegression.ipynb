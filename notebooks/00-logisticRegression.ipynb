{
 "cells": [
  {
   "cell_type": "code",
   "execution_count": null,
   "metadata": {},
   "outputs": [],
   "source": [
    "# https://scikit-learn.org/stable/auto_examples/model_selection/grid_search_text_feature_extraction.html#sphx-glr-auto-examples-model-selection-grid-search-text-feature-extraction-py\n",
    "import os\n",
    "import pandas as pd\n",
    "import numpy as np\n",
    "\n",
    "from sklearn.feature_extraction.text import CountVectorizer, TfidfTransformer, TfidfVectorizer\n",
    "from sklearn.pipeline import Pipeline\n",
    "from sklearn.ensemble import RandomForestClassifier\n",
    "from sklearn.neural_network import MLPClassifier\n",
    "from sklearn.model_selection import train_test_split\n",
    "import lightgbm as lgb\n",
    "import xgboost as xgb\n",
    "\n",
    "from sklearn.decomposition import PCA, NMF, TruncatedSVD\n",
    "from sklearn.preprocessing import RobustScaler, MinMaxScaler, MaxAbsScaler\n",
    "from sklearn.metrics import balanced_accuracy_score, classification_report\n",
    "from sklearn.svm import SVC\n",
    "\n",
    "from sklearn.linear_model import LogisticRegression, LogisticRegressionCV\n",
    "from scipy.stats import uniform\n",
    "from sklearn.model_selection import RandomizedSearchCV, GridSearchCV\n",
    "\n",
    "import seaborn as sns\n",
    "import matplotlib.pyplot as plt"
   ]
  },
  {
   "cell_type": "code",
   "execution_count": null,
   "metadata": {},
   "outputs": [],
   "source": [
    "from src.models.train_model import fit_model, get_metrics, get_preds"
   ]
  },
  {
   "cell_type": "code",
   "execution_count": null,
   "metadata": {},
   "outputs": [],
   "source": [
    "DATA_DIR ='../data'\n",
    "RAW_DIR =  os.path.join(DATA_DIR, 'raw/')\n",
    "EXTERNAL_DIR = os.path.join(DATA_DIR, 'external/')\n",
    "TRAIN_DATA = os.path.join(RAW_DIR, 'train.csv')\n",
    "STOPWORDS_DIR = os.path.join(EXTERNAL_DIR, 'stopwords.txt')"
   ]
  },
  {
   "cell_type": "code",
   "execution_count": null,
   "metadata": {},
   "outputs": [],
   "source": [
    "from src.features.build_features import get_stopwords"
   ]
  },
  {
   "cell_type": "code",
   "execution_count": null,
   "metadata": {},
   "outputs": [],
   "source": [
    "df = pd.read_csv(TRAIN_DATA, delimiter='|')\n",
    "df"
   ]
  },
  {
   "cell_type": "code",
   "execution_count": null,
   "metadata": {},
   "outputs": [],
   "source": [
    "STOPWORDS = get_stopwords(STOPWORDS_DIR)"
   ]
  },
  {
   "cell_type": "code",
   "execution_count": null,
   "metadata": {},
   "outputs": [],
   "source": [
    "df.Intencion.value_counts().nlargest(20).plot.barh()"
   ]
  },
  {
   "cell_type": "code",
   "execution_count": null,
   "metadata": {},
   "outputs": [],
   "source": [
    "df.Intencion.value_counts().nsmallest(20).plot.barh()"
   ]
  },
  {
   "cell_type": "code",
   "execution_count": null,
   "metadata": {},
   "outputs": [],
   "source": [
    "# eliminamos la que tiene solo 1,2 etiqueta para poder entrenar en 2 splits\n",
    "categories = df.Intencion.value_counts()[df.Intencion.value_counts()>2].index"
   ]
  },
  {
   "cell_type": "code",
   "execution_count": null,
   "metadata": {},
   "outputs": [],
   "source": [
    "df = df[df.Intencion.isin(categories)]\n",
    "X = df.Pregunta\n",
    "y = df.Intencion"
   ]
  },
  {
   "cell_type": "code",
   "execution_count": null,
   "metadata": {},
   "outputs": [],
   "source": [
    "X_train, X_test, y_train, y_test = train_test_split(X, y, test_size=0.3, random_state = 42, stratify=y)"
   ]
  },
  {
   "cell_type": "code",
   "execution_count": null,
   "metadata": {},
   "outputs": [],
   "source": [
    "preprocess =  Pipeline([\n",
    "    ('tfidf', TfidfVectorizer(\n",
    "        stop_words=STOPWORDS,\n",
    "        ngram_range=(1,2),\n",
    "        # max_features=10000, \n",
    "#         min_df=0.005,\n",
    "        sublinear_tf=True\n",
    "    )),\n",
    "])"
   ]
  },
  {
   "cell_type": "code",
   "execution_count": null,
   "metadata": {},
   "outputs": [],
   "source": [
    "preprocess.fit(X_train,y_train)"
   ]
  },
  {
   "cell_type": "code",
   "execution_count": null,
   "metadata": {},
   "outputs": [],
   "source": [
    "preprocess.transform(X_train).shape,\n",
    "# preprocess.steps[0][1].get_feature_names()"
   ]
  },
  {
   "cell_type": "code",
   "execution_count": null,
   "metadata": {},
   "outputs": [],
   "source": [
    "# # Create regularization penalty space\n",
    "# penalty = ['l2']\n",
    "\n",
    "# # Create regularization hyperparameter distribution using uniform distribution\n",
    "# C = [i/10 for i in range(0, 50, 5)]\n",
    "\n",
    "# # Create hyperparameter options\n",
    "# hyperparameters = dict(C=C, penalty=penalty)\n",
    "\n",
    "# logistic = LogisticRegression(C=3.73, n_jobs=4, class_weight='balanced')\n",
    "\n",
    "# clf = GridSearchCV(logistic, hyperparameters, cv=2, verbose=3, n_jobs=2, scoring='balanced_accuracy')\n",
    "\n",
    "# fit_model(clf, preprocess, X_train, y_train)\n",
    "\n",
    "# print('Best Penalty:', clf.best_estimator_.get_params()['penalty'])\n",
    "# print('Best C:', clf.best_estimator_.get_params()['C'])"
   ]
  },
  {
   "cell_type": "code",
   "execution_count": null,
   "metadata": {},
   "outputs": [],
   "source": [
    "# get_metrics(clf.best_estimator_, preprocess, X_train, y_train, X_test, y_test)"
   ]
  },
  {
   "cell_type": "code",
   "execution_count": null,
   "metadata": {},
   "outputs": [],
   "source": [
    "best_params = { \n",
    "    \"C\":3.73, \"n_jobs\":4,\"class_weight\":'balanced'\n",
    "}# clf.best_estimator_.get_params()"
   ]
  },
  {
   "cell_type": "code",
   "execution_count": null,
   "metadata": {},
   "outputs": [],
   "source": [
    "model = Pipeline([\n",
    "  (\"preprocess\", preprocess),\n",
    "  (\"model\", LogisticRegression(**best_params))\n",
    "])\n",
    "\n",
    "X = df.Pregunta\n",
    "y = df.Intencion\n",
    "\n",
    "model.fit(X, y)\n"
   ]
  },
  {
   "cell_type": "code",
   "execution_count": null,
   "metadata": {},
   "outputs": [],
   "source": [
    "test = pd.read_csv(TEST_DATA, delimiter=',')\n",
    "test\n",
    "preds = pd.DataFrame(zip(test[\"id\"], model.predict(test.Pregunta)))\n",
    "preds.iloc[:,1] = preds.iloc[:,1].str.replace('Cat_', '')"
   ]
  },
  {
   "cell_type": "code",
   "execution_count": null,
   "metadata": {},
   "outputs": [],
   "source": [
    "from datetime import datetime\n",
    "now = datetime.now().strftime(\"%Y%m%d_%H%M\")\n",
    "preds.to_csv(f'../data/results/answers_{now}.csv', header=False, index=False)"
   ]
  },
  {
   "cell_type": "code",
   "execution_count": null,
   "metadata": {},
   "outputs": [],
   "source": []
  }
 ],
 "metadata": {
  "kernelspec": {
   "display_name": "Python 3",
   "language": "python",
   "name": "python3"
  },
  "language_info": {
   "codemirror_mode": {
    "name": "ipython",
    "version": 3
   },
   "file_extension": ".py",
   "mimetype": "text/x-python",
   "name": "python",
   "nbconvert_exporter": "python",
   "pygments_lexer": "ipython3",
   "version": "3.6.9"
  }
 },
 "nbformat": 4,
 "nbformat_minor": 4
}
