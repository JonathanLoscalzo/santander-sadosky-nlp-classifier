{
 "cells": [
  {
   "cell_type": "code",
   "execution_count": 2,
   "metadata": {},
   "outputs": [],
   "source": [
    "%load_ext autoreload\n",
    "%autoreload 2"
   ]
  },
  {
   "cell_type": "code",
   "execution_count": 3,
   "metadata": {},
   "outputs": [],
   "source": [
    "# https://scikit-learn.org/stable/auto_examples/model_selection/grid_search_text_feature_extraction.html#sphx-glr-auto-examples-model-selection-grid-search-text-feature-extraction-py\n",
    "import os\n",
    "import pandas as pd\n",
    "import numpy as np\n",
    "\n",
    "from sklearn.feature_extraction.text import CountVectorizer, TfidfTransformer, TfidfVectorizer\n",
    "from sklearn.pipeline import Pipeline\n",
    "from sklearn.ensemble import RandomForestClassifier\n",
    "from sklearn.neural_network import MLPClassifier\n",
    "from sklearn.model_selection import train_test_split\n",
    "import lightgbm as lgb\n",
    "import xgboost as xgb\n",
    "\n",
    "from sklearn.decomposition import PCA, NMF, TruncatedSVD\n",
    "from sklearn.preprocessing import RobustScaler\n",
    "from sklearn.metrics import balanced_accuracy_score, classification_report\n",
    "from sklearn.svm import SVC\n",
    "\n",
    "import seaborn as sns\n",
    "import matplotlib.pyplot as plt\n"
   ]
  },
  {
   "cell_type": "code",
   "execution_count": 4,
   "metadata": {},
   "outputs": [],
   "source": [
    "DATA_DIR ='../data'\n",
    "RAW_DIR =  os.path.join(DATA_DIR, 'raw/')\n",
    "EXTERNAL_DIR = os.path.join(DATA_DIR, 'external/')\n",
    "TRAIN_DATA = os.path.join(RAW_DIR, 'train.csv')\n",
    "STOPWORDS_DIR = os.path.join(EXTERNAL_DIR, 'stopwords.txt')"
   ]
  },
  {
   "cell_type": "code",
   "execution_count": 5,
   "metadata": {},
   "outputs": [],
   "source": [
    "from src.features.build_features import get_stopwords"
   ]
  },
  {
   "cell_type": "code",
   "execution_count": 6,
   "metadata": {},
   "outputs": [
    {
     "data": {
      "text/html": [
       "<div>\n",
       "<style scoped>\n",
       "    .dataframe tbody tr th:only-of-type {\n",
       "        vertical-align: middle;\n",
       "    }\n",
       "\n",
       "    .dataframe tbody tr th {\n",
       "        vertical-align: top;\n",
       "    }\n",
       "\n",
       "    .dataframe thead th {\n",
       "        text-align: right;\n",
       "    }\n",
       "</style>\n",
       "<table border=\"1\" class=\"dataframe\">\n",
       "  <thead>\n",
       "    <tr style=\"text-align: right;\">\n",
       "      <th></th>\n",
       "      <th>Pregunta</th>\n",
       "      <th>Intencion</th>\n",
       "    </tr>\n",
       "  </thead>\n",
       "  <tbody>\n",
       "    <tr>\n",
       "      <th>0</th>\n",
       "      <td>como puedo trabajar en santander rio</td>\n",
       "      <td>Cat_102</td>\n",
       "    </tr>\n",
       "    <tr>\n",
       "      <th>1</th>\n",
       "      <td>pagar tarjeta visa querer reintegro</td>\n",
       "      <td>Cat_350</td>\n",
       "    </tr>\n",
       "    <tr>\n",
       "      <th>2</th>\n",
       "      <td>pagar tarjeta naranja sistema</td>\n",
       "      <td>Cat_132</td>\n",
       "    </tr>\n",
       "    <tr>\n",
       "      <th>3</th>\n",
       "      <td>no se debitó la primera cuota del plan de bien...</td>\n",
       "      <td>Cat_129</td>\n",
       "    </tr>\n",
       "    <tr>\n",
       "      <th>4</th>\n",
       "      <td>abonar tarjeta credito</td>\n",
       "      <td>Cat_342</td>\n",
       "    </tr>\n",
       "    <tr>\n",
       "      <th>...</th>\n",
       "      <td>...</td>\n",
       "      <td>...</td>\n",
       "    </tr>\n",
       "    <tr>\n",
       "      <th>20099</th>\n",
       "      <td>el monto del prestamo depende de los ingresos???</td>\n",
       "      <td>Cat_251</td>\n",
       "    </tr>\n",
       "    <tr>\n",
       "      <th>20100</th>\n",
       "      <td>quiero cancelar una compra puntual el cuotas</td>\n",
       "      <td>Cat_339</td>\n",
       "    </tr>\n",
       "    <tr>\n",
       "      <th>20101</th>\n",
       "      <td>necesito pagar deuda</td>\n",
       "      <td>Cat_192</td>\n",
       "    </tr>\n",
       "    <tr>\n",
       "      <th>20102</th>\n",
       "      <td>teniendo otro hipotecario es posible aplicar p...</td>\n",
       "      <td>Cat_218</td>\n",
       "    </tr>\n",
       "    <tr>\n",
       "      <th>20103</th>\n",
       "      <td>comisión descubierto</td>\n",
       "      <td>Cat_56</td>\n",
       "    </tr>\n",
       "  </tbody>\n",
       "</table>\n",
       "<p>20104 rows × 2 columns</p>\n",
       "</div>"
      ],
      "text/plain": [
       "                                                Pregunta Intencion\n",
       "0                   como puedo trabajar en santander rio   Cat_102\n",
       "1                    pagar tarjeta visa querer reintegro   Cat_350\n",
       "2                          pagar tarjeta naranja sistema   Cat_132\n",
       "3      no se debitó la primera cuota del plan de bien...   Cat_129\n",
       "4                                 abonar tarjeta credito   Cat_342\n",
       "...                                                  ...       ...\n",
       "20099   el monto del prestamo depende de los ingresos???   Cat_251\n",
       "20100       quiero cancelar una compra puntual el cuotas   Cat_339\n",
       "20101                               necesito pagar deuda   Cat_192\n",
       "20102  teniendo otro hipotecario es posible aplicar p...   Cat_218\n",
       "20103                               comisión descubierto    Cat_56\n",
       "\n",
       "[20104 rows x 2 columns]"
      ]
     },
     "execution_count": 6,
     "metadata": {},
     "output_type": "execute_result"
    }
   ],
   "source": [
    "df = pd.read_csv(TRAIN_DATA, delimiter='|')\n",
    "df"
   ]
  },
  {
   "cell_type": "code",
   "execution_count": 7,
   "metadata": {},
   "outputs": [],
   "source": [
    "STOPWORDS = get_stopwords(STOPWORDS_DIR)"
   ]
  },
  {
   "cell_type": "code",
   "execution_count": 8,
   "metadata": {},
   "outputs": [
    {
     "data": {
      "text/plain": [
       "<matplotlib.axes._subplots.AxesSubplot at 0x7f9d3cd44dd8>"
      ]
     },
     "execution_count": 8,
     "metadata": {},
     "output_type": "execute_result"
    },
    {
     "data": {
      "image/png": "[encoded data removed]",
      "text/plain": [
       "<Figure size 432x288 with 1 Axes>"
      ]
     },
     "metadata": {
      "needs_background": "light"
     },
     "output_type": "display_data"
    }
   ],
   "source": [
    "df.Intencion.value_counts().nlargest(20).plot.barh()"
   ]
  },
  {
   "cell_type": "code",
   "execution_count": 9,
   "metadata": {},
   "outputs": [
    {
     "data": {
      "text/plain": [
       "<matplotlib.axes._subplots.AxesSubplot at 0x7f9d3c8260f0>"
      ]
     },
     "execution_count": 9,
     "metadata": {},
     "output_type": "execute_result"
    },
    {
     "data": {
      "image/png": "[encoded data removed]",
      "text/plain": [
       "<Figure size 432x288 with 1 Axes>"
      ]
     },
     "metadata": {
      "needs_background": "light"
     },
     "output_type": "display_data"
    }
   ],
   "source": [
    "df.Intencion.value_counts().nsmallest(20).plot.barh()"
   ]
  },
  {
   "cell_type": "code",
   "execution_count": 10,
   "metadata": {},
   "outputs": [],
   "source": [
    "df = df[(df.Intencion != 'Cat_104')]"
   ]
  },
  {
   "cell_type": "code",
   "execution_count": 11,
   "metadata": {},
   "outputs": [],
   "source": [
    "X_train, X_test, y_train, y_test = train_test_split(df.Pregunta, df.Intencion, test_size=0.3, random_state = 42, stratify=df.Intencion)#stratify=df.Intencion)"
   ]
  },
  {
   "cell_type": "code",
   "execution_count": 12,
   "metadata": {},
   "outputs": [
    {
     "data": {
      "text/plain": [
       "((20103, 2), 351)"
      ]
     },
     "execution_count": 12,
     "metadata": {},
     "output_type": "execute_result"
    }
   ],
   "source": [
    "df.shape, df.Intencion.nunique()"
   ]
  },
  {
   "cell_type": "code",
   "execution_count": 31,
   "metadata": {},
   "outputs": [],
   "source": [
    "preprocess =  Pipeline([\n",
    "#     ('vect', CountVectorizer(stop_words=STOPWORDS, ngram_range=(1,1))),\n",
    "#     ('tfidf', TfidfTransformer()),\n",
    "    ('tfidf', TfidfVectorizer(stop_words=STOPWORDS, max_features=1000)),\n",
    "#     ('scaler', RobustScaler()),\n",
    "#     ('compress', TruncatedSVD(100))\n",
    "])"
   ]
  },
  {
   "cell_type": "code",
   "execution_count": 32,
   "metadata": {},
   "outputs": [
    {
     "data": {
      "text/plain": [
       "Pipeline(steps=[('tfidf',\n",
       "                 TfidfVectorizer(max_features=1000,\n",
       "                                 stop_words=['0', '1', '2', '3', '4', '5', '6',\n",
       "                                             '7', '8', '9', 'a', 'actualmente',\n",
       "                                             'acuerdo', 'adelante', 'ademas',\n",
       "                                             'adrede', 'afirmo', 'agrego',\n",
       "                                             'ahi', 'ahora', 'al', 'algo',\n",
       "                                             'algun', 'alguna', 'algunas',\n",
       "                                             'alguno', 'algunos', 'alli',\n",
       "                                             'alrededor', 'ambos', ...]))])"
      ]
     },
     "execution_count": 32,
     "metadata": {},
     "output_type": "execute_result"
    }
   ],
   "source": [
    "preprocess.fit(X_train,y_train)"
   ]
  },
  {
   "cell_type": "code",
   "execution_count": 33,
   "metadata": {
    "scrolled": true
   },
   "outputs": [],
   "source": [
    "def fit_model(model, X, y, fit_params={}):\n",
    "    text_features = preprocess.transform(X)\n",
    "    model.fit(text_features, y, **fit_params)\n",
    "    return model"
   ]
  },
  {
   "cell_type": "code",
   "execution_count": 34,
   "metadata": {},
   "outputs": [],
   "source": [
    "def get_preds(model, preprocess, X):\n",
    "    text_features = preprocess.transform(X)\n",
    "    return model.predict(text_features)"
   ]
  },
  {
   "cell_type": "code",
   "execution_count": 35,
   "metadata": {},
   "outputs": [],
   "source": [
    "def metric(y_true, train_data):\n",
    "    y_pred = train_data.reshape(y_true.shape[0], -1).argmax(axis=1)\n",
    "    return 'BALANCED_ACCURACY', balanced_accuracy_score(y_true.reshape(-1,1), y_pred.reshape(-1,1)), True"
   ]
  },
  {
   "cell_type": "code",
   "execution_count": 36,
   "metadata": {},
   "outputs": [],
   "source": [
    "def metric_xgb(preds, train):\n",
    "    ytrue = train.get_label()\n",
    "    ypred = preds.argmax(axis=1)\n",
    "    return 'BALANCED_ACCURACY', -balanced_accuracy_score(ytrue, ypred)"
   ]
  },
  {
   "cell_type": "code",
   "execution_count": 37,
   "metadata": {},
   "outputs": [],
   "source": [
    "def get_metrics(model, preprocess, X_train, y_train, X_test, y_test):\n",
    "    \n",
    "    y_pred = get_preds(model, preprocess, X_train)\n",
    "    train_metric = balanced_accuracy_score(y_train, y_pred)\n",
    "    print('El valor de Accuracy en Train es de: {}'.format(train_metric))\n",
    "    \n",
    "    y_pred = get_preds(model, preprocess, X_test)\n",
    "    test_metric = balanced_accuracy_score(y_test, y_pred)\n",
    "    print('El valor de Accuracy en Test es de: {}'.format(test_metric))\n",
    "    return train_metric, test_metric"
   ]
  },
  {
   "cell_type": "code",
   "execution_count": 41,
   "metadata": {
    "scrolled": true
   },
   "outputs": [],
   "source": [
    "metrics = []\n",
    "step = 100\n",
    "\n",
    "for i in range(5):\n",
    "    print(\"Epoch: \",i)\n",
    "    warm_start = i!=0\n",
    "    rf = RandomForestClassifier(n_estimators=step, warm_start=warm_start, n_jobs=3)\n",
    "    fit_model(rf, X_train, y_train)\n",
    "    metrics.append(get_metrics(rf, preprocess, X_train, y_train, X_test, y_test))"
   ]
  },
  {
   "cell_type": "code",
   "execution_count": 46,
   "metadata": {
    "scrolled": true
   },
   "outputs": [
    {
     "name": "stdout",
     "output_type": "stream",
     "text": [
      "Epoch:  0\n"
     ]
    },
    {
     "name": "stderr",
     "output_type": "stream",
     "text": [
      "/home/jloscalzo/.local/lib/python3.6/site-packages/sklearn/neural_network/_multilayer_perceptron.py:587: UserWarning: Training interrupted by user.\n",
      "  warnings.warn(\"Training interrupted by user.\")\n"
     ]
    },
    {
     "name": "stdout",
     "output_type": "stream",
     "text": [
      "El valor de Accuracy en Train es de: 0.7603339002392758\n",
      "El valor de Accuracy en Test es de: 0.40540983685507\n",
      "Epoch:  1\n",
      "El valor de Accuracy en Train es de: 0.8171137921962595\n",
      "El valor de Accuracy en Test es de: 0.4135614143039293\n",
      "Epoch:  2\n",
      "El valor de Accuracy en Train es de: 0.8250764960289338\n",
      "El valor de Accuracy en Test es de: 0.42510636458223694\n",
      "Epoch:  3\n",
      "El valor de Accuracy en Train es de: 0.822005204853663\n",
      "El valor de Accuracy en Test es de: 0.43476677614210063\n",
      "Epoch:  4\n",
      "El valor de Accuracy en Train es de: 0.8310422285017566\n",
      "El valor de Accuracy en Test es de: 0.4254811730163637\n"
     ]
    }
   ],
   "source": [
    "metrics = []\n",
    "step = 100\n",
    "\n",
    "for i in range(5):\n",
    "    print(\"Epoch: \",i)\n",
    "    warm_start = i!=0\n",
    "    rf = MLPClassifier([1000,1000,250,250], warm_start=warm_start, early_stopping=True, max_iter=100)\n",
    "    fit_model(rf, X_train, y_train)\n",
    "    metrics.append(get_metrics(rf, preprocess, X_train, y_train, X_test, y_test))"
   ]
  },
  {
   "cell_type": "code",
   "execution_count": 1,
   "metadata": {
    "scrolled": true
   },
   "outputs": [],
   "source": [
    "# xg = xgb.XGBClassifier(n_estimators=50, learning_rate=0.5, verbose=2)\n",
    "# fit_params = {\n",
    "#     \"eval_set\":[(preprocess.transform(X_train), y_train), (preprocess.transform(X_test), y_test)], \n",
    "#     \"eval_metric\": metric_xgb,\n",
    "#     \"early_stopping_rounds\":10\n",
    "# }\n",
    "# fit_model(xg, X_train, y_train, fit_params)\n"
   ]
  },
  {
   "cell_type": "code",
   "execution_count": null,
   "metadata": {
    "scrolled": true
   },
   "outputs": [],
   "source": [
    "# clf = SVC(C=2)\n",
    "# fit_model(clf, X_train, y_train)"
   ]
  },
  {
   "cell_type": "code",
   "execution_count": null,
   "metadata": {
    "scrolled": true
   },
   "outputs": [],
   "source": [
    "# params = {\n",
    "#     \"num_leaves\": 31,\n",
    "#     \"learning_rate\": 0.05,\n",
    "#     \"n_estimators\": 100,\n",
    "#     \"silent\": False\n",
    "# }\n",
    "\n",
    "# lg = lgb.LGBMClassifier(**params, random_state=42)\n",
    "# fit_model(lg, X_train, y_train, fit_params={\n",
    "#     \"verbose\": True,\n",
    "#     \"eval_set\":[(preprocess.transform(X_train), y_train), (preprocess.transform(X_test), y_test)], \n",
    "#     \"eval_names\":[\"train\", \"test\"], \n",
    "#     \"eval_metric\":metric\n",
    "# })"
   ]
  },
  {
   "cell_type": "code",
   "execution_count": 29,
   "metadata": {},
   "outputs": [
    {
     "name": "stderr",
     "output_type": "stream",
     "text": [
      "[Parallel(n_jobs=1)]: Using backend SequentialBackend with 1 concurrent workers.\n",
      "[Parallel(n_jobs=1)]: Done   1 out of   1 | elapsed:    0.0s remaining:    0.0s\n",
      "[Parallel(n_jobs=1)]: Done  20 out of  20 | elapsed:    0.6s finished\n"
     ]
    },
    {
     "name": "stdout",
     "output_type": "stream",
     "text": [
      "El valor de Accuracy en Train es de: 0.9581639319481953\n"
     ]
    },
    {
     "name": "stderr",
     "output_type": "stream",
     "text": [
      "[Parallel(n_jobs=1)]: Using backend SequentialBackend with 1 concurrent workers.\n",
      "[Parallel(n_jobs=1)]: Done   1 out of   1 | elapsed:    0.0s remaining:    0.0s\n"
     ]
    },
    {
     "name": "stdout",
     "output_type": "stream",
     "text": [
      "El valor de Accuracy en Test es de: 0.2762362528760578\n"
     ]
    },
    {
     "name": "stderr",
     "output_type": "stream",
     "text": [
      "[Parallel(n_jobs=1)]: Done  20 out of  20 | elapsed:    0.3s finished\n"
     ]
    }
   ],
   "source": [
    "get_metrics(rf, preprocess,X_train, y_train, X_test, y_test)"
   ]
  },
  {
   "cell_type": "code",
   "execution_count": 13,
   "metadata": {},
   "outputs": [],
   "source": [
    "# print(classification_report(y_test, pipeline.predict(X_test)))"
   ]
  },
  {
   "cell_type": "code",
   "execution_count": null,
   "metadata": {},
   "outputs": [],
   "source": []
  }
 ],
 "metadata": {
  "kernelspec": {
   "display_name": "Python 3",
   "language": "python",
   "name": "python3"
  },
  "language_info": {
   "codemirror_mode": {
    "name": "ipython",
    "version": 3
   },
   "file_extension": ".py",
   "mimetype": "text/x-python",
   "name": "python",
   "nbconvert_exporter": "python",
   "pygments_lexer": "ipython3",
   "version": "3.6.9"
  }
 },
 "nbformat": 4,
 "nbformat_minor": 4
}
